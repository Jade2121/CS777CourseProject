{
  "cells": [
    {
      "cell_type": "markdown",
      "metadata": {
        "id": "view-in-github",
        "colab_type": "text"
      },
      "source": [
        "<a href=\"https://colab.research.google.com/github/Jade2121/CS777CourseProject/blob/master/CS777_final_report.ipynb\" target=\"_parent\"><img src=\"https://colab.research.google.com/assets/colab-badge.svg\" alt=\"Open In Colab\"/></a>"
      ]
    },
    {
      "cell_type": "markdown",
      "source": [
        "# Project Proposal"
      ],
      "metadata": {
        "id": "VBCU72hzqhW_"
      }
    },
    {
      "cell_type": "markdown",
      "source": [
        "Olist in Brazil empowers small merchants to sell online. Brazils complex collection of merchants opened an opportunity for Olist to provide a similar service to the region like Walmart in USA. They provide support to merchants by managing all aspects of product retail from product catelog to payments. For users in Brazil they are able to come to one place to access the diverse marketplaces of the region. However, an immediate challenge in creating such a market is connecting users to the products they are looking for and helping sellers find the right users for their products. The solution to this problem is to implement a recommendation system, which this project will seek to create. "
      ],
      "metadata": {
        "id": "qSNxSCtFqhW_"
      }
    },
    {
      "cell_type": "markdown",
      "source": [
        "#Approach"
      ],
      "metadata": {
        "id": "16ZB9jYLqhW_"
      }
    },
    {
      "cell_type": "markdown",
      "source": [
        "Machine learning has provided us with the opportunity to improve sales of retailers using remmonendation systems. Netflix's recommendation system has an RMSE of 0.8.Collaborative techniques use user history to suggest items by finding where users preferences overlap. If two users happen to share purchase history for two items, there could be a third item that one user bought that could be recommended to the other. With enough users and purchase history this can be a very effective approach, but unfortunately it does not predict well for new users. Content based filtering techniques can use user information along with item information to suggest based on a number of factors. Combining these two helps to create accurate predictions for current users and relevant predictions for new users."
      ],
      "metadata": {
        "id": "48L3AEyWqhXA"
      }
    },
    {
      "cell_type": "markdown",
      "metadata": {
        "id": "15X3sir1mwM5"
      },
      "source": [
        "# Enviroment Configuration"
      ]
    },
    {
      "cell_type": "code",
      "execution_count": null,
      "metadata": {
        "id": "WNhmzChShbuW",
        "outputId": "b9e65c9c-106e-495b-8cce-00c18944ae25",
        "colab": {
          "base_uri": "https://localhost:8080/"
        }
      },
      "outputs": [
        {
          "output_type": "stream",
          "name": "stdout",
          "text": [
            "^C\n"
          ]
        }
      ],
      "source": [
        "#Install spark\n",
        "# innstall java\n",
        "!apt-get install openjdk-8-jdk-headless -qq > /dev/null\n",
        "\n",
        "# install spark (change the version number if needed)\n",
        "!wget -q https://archive.apache.org/dist/spark/spark-3.0.0/spark-3.0.0-bin-hadoop3.2.tgz\n",
        "\n",
        "# unzip the spark file to the current folder\n",
        "!tar xf spark-3.0.0-bin-hadoop3.2.tgz\n",
        "\n",
        "# set your spark folder to your system path environment. \n",
        "import os\n",
        "os.environ[\"JAVA_HOME\"] = \"/usr/lib/jvm/java-8-openjdk-amd64\" \n",
        "os.environ[\"SPARK_HOME\"] = \"/content/spark-3.0.0-bin-hadoop3.2\" \n",
        "\n",
        "\n",
        "# install findspark using pip\n",
        "!pip install -q findspark\n"
      ]
    },
    {
      "cell_type": "code",
      "execution_count": null,
      "metadata": {
        "colab": {
          "base_uri": "https://localhost:8080/"
        },
        "id": "vUSoYeGOkpnh",
        "outputId": "19e4f017-4bf7-4d46-ab33-33a946ebc78e"
      },
      "outputs": [
        {
          "output_type": "stream",
          "name": "stdout",
          "text": [
            "Collecting pyspark\n",
            "  Downloading pyspark-3.2.1.tar.gz (281.4 MB)\n",
            "\u001b[K     |████████████████████████████████| 281.4 MB 48 kB/s \n",
            "\u001b[?25hCollecting py4j==0.10.9.3\n",
            "  Downloading py4j-0.10.9.3-py2.py3-none-any.whl (198 kB)\n",
            "\u001b[K     |████████████████████████████████| 198 kB 79.3 MB/s \n",
            "\u001b[?25hBuilding wheels for collected packages: pyspark\n",
            "  Building wheel for pyspark (setup.py) ... \u001b[?25l\u001b[?25hdone\n",
            "  Created wheel for pyspark: filename=pyspark-3.2.1-py2.py3-none-any.whl size=281853642 sha256=37d5ecce6afbd1e8c9f3c4aa170b9a445a5aad972ec0018052b78ba8afc581eb\n",
            "  Stored in directory: /root/.cache/pip/wheels/9f/f5/07/7cd8017084dce4e93e84e92efd1e1d5334db05f2e83bcef74f\n",
            "Successfully built pyspark\n",
            "Installing collected packages: py4j, pyspark\n",
            "Successfully installed py4j-0.10.9.3 pyspark-3.2.1\n"
          ]
        }
      ],
      "source": [
        "#!rm spark-3.0.0-bin-hadoop3.2.tgz\n",
        "#!pip uninstall pyspark\n",
        "!pip install pyspark"
      ]
    },
    {
      "cell_type": "code",
      "execution_count": null,
      "metadata": {
        "colab": {
          "base_uri": "https://localhost:8080/"
        },
        "id": "F4I9zV0UjOiG",
        "outputId": "8430c9a4-0a77-4395-a06d-118db5f0977c"
      },
      "outputs": [
        {
          "output_type": "stream",
          "name": "stdout",
          "text": [
            ".   .config\t spark-3.0.0-bin-hadoop3.2\n",
            "..  sample_data  spark-3.0.0-bin-hadoop3.2.tgz\n"
          ]
        }
      ],
      "source": [
        "!ls -a "
      ]
    },
    {
      "cell_type": "code",
      "source": [
        ""
      ],
      "metadata": {
        "id": "WyWXDBVbXMJZ"
      },
      "execution_count": null,
      "outputs": []
    },
    {
      "cell_type": "markdown",
      "source": [
        "**Goal**: sentiment analysis of the customer review"
      ],
      "metadata": {
        "id": "NfkDHMNOXLS4"
      }
    },
    {
      "cell_type": "markdown",
      "metadata": {
        "id": "rgbtUPw_m5Di"
      },
      "source": [
        "# Data preparation(Sentiment analysis)"
      ]
    },
    {
      "cell_type": "code",
      "execution_count": null,
      "metadata": {
        "id": "iLpIcyj_sJEr"
      },
      "outputs": [],
      "source": [
        "import findspark\n",
        "findspark.init()"
      ]
    },
    {
      "cell_type": "code",
      "execution_count": null,
      "metadata": {
        "id": "uAPeop73lOWi"
      },
      "outputs": [],
      "source": [
        "from pyspark.ml.feature import Tokenizer, RegexTokenizer, CountVectorizer, \\\n",
        "           StopWordsRemover, NGram, HashingTF, IDF, Word2Vec\n",
        "\n",
        "from pyspark.sql.functions import explode, expr\n",
        "from pyspark.ml.functions  import vector_to_array"
      ]
    },
    {
      "cell_type": "code",
      "execution_count": null,
      "metadata": {
        "id": "PySlSw910PsX"
      },
      "outputs": [],
      "source": [
        "#imports\n",
        "from google.colab import files\n",
        "from pyspark import SparkContext \n",
        "from pyspark.sql.functions import expr\n",
        "from pyspark.sql.functions import col,isnan,when,count\n",
        "from pyspark.ml.regression import LinearRegression\n",
        "from pyspark.ml.evaluation import RegressionEvaluator\n",
        "from pyspark.ml.feature import VectorAssembler\n",
        "from pyspark.ml.feature import PCA\n",
        "from sklearn.metrics import ConfusionMatrixDisplay\n",
        "import seaborn as sn\n",
        "import numpy as np\n",
        "import pandas as pd\n",
        "import matplotlib.pyplot as plt\n",
        "from pyspark.sql.functions import monotonically_increasing_id\n",
        "import nltk\n"
      ]
    },
    {
      "cell_type": "code",
      "execution_count": null,
      "metadata": {
        "colab": {
          "base_uri": "https://localhost:8080/"
        },
        "id": "6Wa5GTaCxUJt",
        "outputId": "93bb890f-a16e-451a-be1f-53ca50914914"
      },
      "outputs": [
        {
          "output_type": "stream",
          "name": "stdout",
          "text": [
            "/content\n"
          ]
        }
      ],
      "source": [
        "!pwd"
      ]
    },
    {
      "cell_type": "code",
      "execution_count": null,
      "metadata": {
        "colab": {
          "base_uri": "https://localhost:8080/"
        },
        "id": "nrWMFPgaw56h",
        "outputId": "c470c7c9-3df0-4e27-e08c-8bec78c75f96"
      },
      "outputs": [
        {
          "output_type": "stream",
          "name": "stdout",
          "text": [
            "Mounted at /content/drive\n"
          ]
        }
      ],
      "source": [
        "#load google drive\n",
        "from google.colab import drive\n",
        "drive.mount('/content/drive',force_remount=True)"
      ]
    },
    {
      "cell_type": "code",
      "execution_count": null,
      "metadata": {
        "colab": {
          "base_uri": "https://localhost:8080/"
        },
        "id": "8FRrr6-hIbdb",
        "outputId": "1f0c214f-3578-495a-e5d1-b60d445ef899"
      },
      "outputs": [
        {
          "output_type": "execute_result",
          "data": {
            "text/plain": [
              "<pyspark.sql.session.SparkSession at 0x7f2afb69cc10>"
            ],
            "text/html": [
              "\n",
              "            <div>\n",
              "                <p><b>SparkSession - in-memory</b></p>\n",
              "                \n",
              "        <div>\n",
              "            <p><b>SparkContext</b></p>\n",
              "\n",
              "            <p><a href=\"http://c4abdd1df510:4040\">Spark UI</a></p>\n",
              "\n",
              "            <dl>\n",
              "              <dt>Version</dt>\n",
              "                <dd><code>v3.0.0</code></dd>\n",
              "              <dt>Master</dt>\n",
              "                <dd><code>local[*]</code></dd>\n",
              "              <dt>AppName</dt>\n",
              "                <dd><code>TextProcessing</code></dd>\n",
              "            </dl>\n",
              "        </div>\n",
              "        \n",
              "            </div>\n",
              "        "
            ]
          },
          "metadata": {},
          "execution_count": 10
        }
      ],
      "source": [
        "#init spark\n",
        "from pyspark.sql import SparkSession\n",
        "spark = SparkSession.builder.appName(\n",
        "    \"TextProcessing\").getOrCreate()\n",
        "spark\n"
      ]
    },
    {
      "cell_type": "markdown",
      "source": [
        "[link text](https://)https://www.kaggle.com/datasets/olistbr/brazilian-ecommerce?select=olist_orders_dataset.csv\n",
        "\n",
        "About our data set:\n",
        "Brazilian E-Commerce Public Dataset by Olist"
      ],
      "metadata": {
        "id": "CoKTM2Frd_L3"
      }
    },
    {
      "cell_type": "code",
      "execution_count": null,
      "metadata": {
        "colab": {
          "base_uri": "https://localhost:8080/"
        },
        "id": "aunulFjgJlUL",
        "outputId": "03b8a622-2ae2-4004-9ca3-e81b887f32b9"
      },
      "outputs": [
        {
          "output_type": "stream",
          "name": "stdout",
          "text": [
            "root\n",
            " |-- review_comment_message: string (nullable = true)\n",
            " |-- review_score: double (nullable = true)\n",
            "\n"
          ]
        }
      ],
      "source": [
        "schema = 'review_comment_message string, review_score double'\n",
        "#spark dataframe\n",
        "df=spark.read.csv('./drive/MyDrive/CS777_PROJECT/Colab_Notebooks/Data_set/retail_dataset_review.csv',schema = schema,\n",
        "                  header=True,sep=',') #,header=True, inferSchema=True,sep=',', multiLine=True,\n",
        "df.printSchema()\n",
        "#RDD\n",
        "#data=sc.textFile(\"../drive/../retail_dataset.csv\")\n",
        "#data=data.map(lambda x:x.split(\",\"))"
      ]
    },
    {
      "cell_type": "code",
      "execution_count": null,
      "metadata": {
        "colab": {
          "base_uri": "https://localhost:8080/"
        },
        "id": "LMI792Thw4Ui",
        "outputId": "b1f896f7-079b-4cb2-ed3c-475d1a23a8fd"
      },
      "outputs": [
        {
          "output_type": "execute_result",
          "data": {
            "text/plain": [
              "123553"
            ]
          },
          "metadata": {},
          "execution_count": 12
        }
      ],
      "source": [
        "#size of our data\n",
        "df.count()"
      ]
    },
    {
      "cell_type": "code",
      "execution_count": null,
      "metadata": {
        "colab": {
          "base_uri": "https://localhost:8080/"
        },
        "id": "w9LjUt5G_feB",
        "outputId": "5dcc424e-1a7a-4767-853c-ce146e1dc2bf"
      },
      "outputs": [
        {
          "output_type": "stream",
          "name": "stdout",
          "text": [
            "+----------------------+------------+\n",
            "|review_comment_message|review_score|\n",
            "+----------------------+------------+\n",
            "|  Não testei o prod...|         4.0|\n",
            "|  Não testei o prod...|         4.0|\n",
            "|  Não testei o prod...|         4.0|\n",
            "|  Muito bom o produto.|         4.0|\n",
            "|                  null|         5.0|\n",
            "|  O produto foi exa...|         5.0|\n",
            "|                  null|         5.0|\n",
            "|                  null|         4.0|\n",
            "|  fiquei triste por...|         2.0|\n",
            "|                  null|         5.0|\n",
            "|                  null|         1.0|\n",
            "|                  null|         5.0|\n",
            "|                  null|         5.0|\n",
            "|  Aguardando retorn...|         1.0|\n",
            "|  Aguardando retorn...|         1.0|\n",
            "|                  null|         4.0|\n",
            "|                  null|         5.0|\n",
            "|                  null|         5.0|\n",
            "|     Gostei do produto|         4.0|\n",
            "|  Obrigado pela ate...|         5.0|\n",
            "+----------------------+------------+\n",
            "only showing top 20 rows\n",
            "\n"
          ]
        }
      ],
      "source": [
        "df.show()"
      ]
    },
    {
      "cell_type": "code",
      "execution_count": null,
      "metadata": {
        "colab": {
          "base_uri": "https://localhost:8080/"
        },
        "id": "smDIjDIkJ5YG",
        "outputId": "8e5fac2f-0cd8-4bc4-a671-c1c0a56e2299"
      },
      "outputs": [
        {
          "output_type": "execute_result",
          "data": {
            "text/plain": [
              "67651"
            ]
          },
          "metadata": {},
          "execution_count": 14
        }
      ],
      "source": [
        "#find na value of review_comment_message\n",
        "\n",
        "#count number NA values\n",
        "df.filter(df.review_comment_message.isNull()).count()"
      ]
    },
    {
      "cell_type": "code",
      "execution_count": null,
      "metadata": {
        "colab": {
          "base_uri": "https://localhost:8080/"
        },
        "id": "jeZtN3AL1KXM",
        "outputId": "711af202-cce6-425c-b191-192e5214869d"
      },
      "outputs": [
        {
          "output_type": "stream",
          "name": "stdout",
          "text": [
            "+----------------------+------------+---+\n",
            "|review_comment_message|review_score| id|\n",
            "+----------------------+------------+---+\n",
            "|  Qualidade interme...|         5.0|  1|\n",
            "|  Produto correto, ...|         4.0|  2|\n",
            "|  estou muito satis...|         5.0|  3|\n",
            "|  Já comprei vários...|         1.0|  4|\n",
            "+----------------------+------------+---+\n",
            "only showing top 4 rows\n",
            "\n"
          ]
        }
      ],
      "source": [
        "#data cleaning\n",
        "#exclude na row\n",
        "clean_df = df.filter(df.review_comment_message.isNotNull())\n",
        "clean_df = clean_df.filter(clean_df.review_score.isNotNull())\n",
        "#exclude 0 review scores\n",
        "clean_df = clean_df.filter(clean_df.review_score != 0 )\n",
        "#drop the replicated rows\n",
        "clean_df = clean_df.distinct()\n",
        "#add id col\n",
        "clean_df = clean_df.withColumn(\"id\", 1+monotonically_increasing_id())\n",
        "clean_df.show(4)"
      ]
    },
    {
      "cell_type": "code",
      "execution_count": null,
      "metadata": {
        "colab": {
          "base_uri": "https://localhost:8080/"
        },
        "id": "_lNN4Udk4Rqy",
        "outputId": "0ab745a8-b109-42a8-8921-418cdf6aa213"
      },
      "outputs": [
        {
          "output_type": "stream",
          "name": "stdout",
          "text": [
            "+------------+-----+\n",
            "|review_score|count|\n",
            "+------------+-----+\n",
            "|         1.0| 7609|\n",
            "|         4.0| 5063|\n",
            "|         3.0| 3179|\n",
            "|         2.0| 1975|\n",
            "|         5.0|16560|\n",
            "+------------+-----+\n",
            "\n"
          ]
        }
      ],
      "source": [
        "clean_df.groupBy(clean_df.review_score).count().show()"
      ]
    },
    {
      "cell_type": "markdown",
      "metadata": {
        "id": "x0zfDBl2o70s"
      },
      "source": [
        "# **words transformation and deletion**"
      ]
    },
    {
      "cell_type": "markdown",
      "source": [
        "As long as we consider the global internet as the source of our comments, probably we have to deal with some HTML tags, break lines, special characteres and other content that could be part of the dataset."
      ],
      "metadata": {
        "id": "NaJUBObNUsqN"
      }
    },
    {
      "cell_type": "code",
      "execution_count": null,
      "metadata": {
        "colab": {
          "base_uri": "https://localhost:8080/"
        },
        "id": "wJ4kNlIQ1X_s",
        "outputId": "d5a81705-1421-455b-8759-b268c32e4ca3"
      },
      "outputs": [
        {
          "output_type": "stream",
          "name": "stdout",
          "text": [
            "+-----------------------------------------------------------------------------------------------------------------------------------------------------------------------------------------------------+------------+---+\n",
            "|review_comment_message                                                                                                                                                                               |review_score|id |\n",
            "+-----------------------------------------------------------------------------------------------------------------------------------------------------------------------------------------------------+------------+---+\n",
            "|Qualidade intermediária                                                                                                                                                                              |5.0         |1  |\n",
            "|Produto correto, entregue no prazo, preço bom.                                                                                                                                                       |4.0         |2  |\n",
            "|estou muito satisfeito com lannister                                                                                                                                                                 |5.0         |3  |\n",
            "|Já comprei vários produtos pelo site lannister.com e sempre recebi bem antes do previsto, este é o segundo tapete que compro, e assim como o outro chegou atrasado. No site não obtém o rastreamento.|1.0         |4  |\n",
            "|Ótimo site                                                                                                                                                                                           |4.0         |5  |\n",
            "|Produto mal acabado                                                                                                                                                                                  |2.0         |6  |\n",
            "|Gostei muito do produto.                                                                                                                                                                             |5.0         |7  |\n",
            "|Muito bom. Recomendo                                                                                                                                                                                 |5.0         |8  |\n",
            "|COPRA VEIO ERRADA E NÃO CONSIGO RECLAMAR COM A baratheon PELO TELEFONE ESTA SEMPRE OCUPADO .                                                                                                         |1.0         |9  |\n",
            "|MUITO BOA A LOGÍSTICA. RECOMENDO                                                                                                                                                                     |4.0         |10 |\n",
            "+-----------------------------------------------------------------------------------------------------------------------------------------------------------------------------------------------------+------------+---+\n",
            "only showing top 10 rows\n",
            "\n"
          ]
        }
      ],
      "source": [
        "import re\n",
        "#comment and its scores\n",
        "clean_df.show(10, truncate = False)"
      ]
    },
    {
      "cell_type": "code",
      "execution_count": null,
      "metadata": {
        "id": "z0tdwGlYtaxo"
      },
      "outputs": [],
      "source": [
        "#get rdd then use map function to map and transform data\n",
        "Rdd_clean_df = clean_df.rdd.map(tuple)\n"
      ]
    },
    {
      "cell_type": "code",
      "source": [
        ""
      ],
      "metadata": {
        "id": "0c9lTAAr5Kft"
      },
      "execution_count": null,
      "outputs": []
    },
    {
      "cell_type": "code",
      "execution_count": null,
      "metadata": {
        "colab": {
          "base_uri": "https://localhost:8080/"
        },
        "id": "LDiPhPQmvYmT",
        "outputId": "6c4def30-703b-47c7-874d-2049fdd8b093"
      },
      "outputs": [
        {
          "output_type": "execute_result",
          "data": {
            "text/plain": [
              "[('Qualidade intermediária', 5.0, 1),\n",
              " ('Produto correto, entregue no prazo, preço bom.', 4.0, 2)]"
            ]
          },
          "metadata": {},
          "execution_count": 19
        }
      ],
      "source": [
        "#example of RDD\n",
        "Rdd_clean_df.take(2)"
      ]
    },
    {
      "cell_type": "code",
      "execution_count": null,
      "metadata": {
        "id": "a93YV1fFpvKT",
        "colab": {
          "base_uri": "https://localhost:8080/"
        },
        "outputId": "487d5e88-ecb7-4e34-ff3d-04e109963cfc"
      },
      "outputs": [
        {
          "output_type": "execute_result",
          "data": {
            "text/plain": [
              "[('Qualidade intermediária', 5.0, 1),\n",
              " ('Produto correto, entregue no prazo, preço bom.', 4.0, 2)]"
            ]
          },
          "metadata": {},
          "execution_count": 20
        }
      ],
      "source": [
        "#first step, replace Sites and Hiperlinks to word:\"link\"\n",
        "def re_hiperlinks(text):\n",
        "    \n",
        "    # Applying regex\n",
        "    pattern = 'http[s]?://(?:[a-zA-Z]|[0-9]|[$-_@.&+]|[!*\\(\\),]|(?:%[0-9a-fA-F][0-9a-fA-F]))+'\n",
        "    return re.sub(pattern, ' link ', text)\n",
        "\n",
        "Rdd_clean_df = Rdd_clean_df.map(lambda row: (re_hiperlinks(row[0]), row[1], row[2]))\n",
        "Rdd_clean_df.take(2)"
      ]
    },
    {
      "cell_type": "code",
      "execution_count": null,
      "metadata": {
        "id": "fKiGuVXzwgoo",
        "colab": {
          "base_uri": "https://localhost:8080/"
        },
        "outputId": "51661107-ce34-4fbf-b5bd-5e41e5343404"
      },
      "outputs": [
        {
          "output_type": "execute_result",
          "data": {
            "text/plain": [
              "[('Qualidade intermediária', 5.0, 1),\n",
              " ('Produto correto, entregue no prazo, preço bom.', 4.0, 2)]"
            ]
          },
          "metadata": {},
          "execution_count": 21
        }
      ],
      "source": [
        "#second step, replace any Dates to word:\"data\"(which means date in english)\n",
        "\n",
        "def re_dates(text):\n",
        "    \n",
        "    # Applying regex\n",
        "    pattern = '([0-2][0-9]|(3)[0-1])(\\/|\\.)(((0)[0-9])|((1)[0-2]))(\\/|\\.)\\d{2,4}'\n",
        "    return re.sub(pattern, ' data ', text)\n",
        "\n",
        "\n",
        "Rdd_clean_df = Rdd_clean_df.map(lambda row: (re_dates(row[0]), row[1], row[2]))\n",
        "Rdd_clean_df.take(2)"
      ]
    },
    {
      "cell_type": "code",
      "execution_count": null,
      "metadata": {
        "id": "Vt-JM6xVw6K_",
        "colab": {
          "base_uri": "https://localhost:8080/"
        },
        "outputId": "aa7bf4c0-c0ce-430f-c61c-8cf7fc780088"
      },
      "outputs": [
        {
          "output_type": "execute_result",
          "data": {
            "text/plain": [
              "[('Qualidade intermediária', 5.0, 1),\n",
              " ('Produto correto, entregue no prazo, preço bom.', 4.0, 2)]"
            ]
          },
          "metadata": {},
          "execution_count": 22
        }
      ],
      "source": [
        "#third step, replace any Money value to word:\"dinheiro\"(which means money in english)\n",
        "def re_money(text):   \n",
        "    # Applying regex\n",
        "    pattern = '[R]{0,1}\\$[ ]{0,}\\d+(,|\\.)\\d+'\n",
        "    return re.sub(pattern, ' dinheiro ', text)\n",
        "  \n",
        "\n",
        "Rdd_clean_df = Rdd_clean_df.map(lambda row: (re_money(row[0]), row[1], row[2]))\n",
        "Rdd_clean_df.take(2)"
      ]
    },
    {
      "cell_type": "code",
      "execution_count": null,
      "metadata": {
        "id": "h653jHySxauQ",
        "colab": {
          "base_uri": "https://localhost:8080/"
        },
        "outputId": "c0c85654-8ac6-4779-98f8-beb0c0fe433d"
      },
      "outputs": [
        {
          "output_type": "execute_result",
          "data": {
            "text/plain": [
              "[('Qualidade intermediária', 5.0, 1),\n",
              " ('Produto correto, entregue no prazo, preço bom.', 4.0, 2)]"
            ]
          },
          "metadata": {},
          "execution_count": 23
        }
      ],
      "source": [
        "#fourth step, replace any Numbers to word:\"numero\"(which means number in english)\n",
        "def re_numbers(text):\n",
        "    \n",
        "    # Applying regex\n",
        "    return re.sub('[0-9]+', ' numero ', text)\n",
        "\n",
        "Rdd_clean_df = Rdd_clean_df.map(lambda row: (re_numbers(row[0]), row[1], row[2]))\n",
        "Rdd_clean_df.take(2)"
      ]
    },
    {
      "cell_type": "code",
      "execution_count": null,
      "metadata": {
        "id": "NKFalb2kxtDb",
        "colab": {
          "base_uri": "https://localhost:8080/"
        },
        "outputId": "739112f7-a901-49df-b013-9ea93c33e0a0"
      },
      "outputs": [
        {
          "output_type": "execute_result",
          "data": {
            "text/plain": [
              "[('Qualidade intermediária', 5.0, 1),\n",
              " ('Produto correto, entregue no prazo, preço bom.', 4.0, 2)]"
            ]
          },
          "metadata": {},
          "execution_count": 24
        }
      ],
      "source": [
        "#fifth step, replace any Negation words to word:\"negação \"(which means \"denial\" in english)\n",
        "def re_negation(text):\n",
        "    # Applying regex\n",
        "    return re.sub('([nN][ãÃaA][oO]|[ñÑ]| [nN] )', ' negação ', text)\n",
        "\n",
        "Rdd_clean_df = Rdd_clean_df.map(lambda row: (re_negation(row[0]), row[1], row[2]))\n",
        "Rdd_clean_df.take(2)"
      ]
    },
    {
      "cell_type": "code",
      "execution_count": null,
      "metadata": {
        "id": "1eO82Q0tyI9_",
        "colab": {
          "base_uri": "https://localhost:8080/"
        },
        "outputId": "c9a72cd6-9ce6-49c3-be7e-83d2fdf13542"
      },
      "outputs": [
        {
          "output_type": "execute_result",
          "data": {
            "text/plain": [
              "[('Qualidade intermediária', 5.0, 1),\n",
              " ('Produto correto  entregue no prazo  preço bom ', 4.0, 2)]"
            ]
          },
          "metadata": {},
          "execution_count": 25
        }
      ],
      "source": [
        "#sixth step, remove any special characters, e.g. emoji\n",
        "\n",
        "def re_special_chars(text):\n",
        "\n",
        "    # Applying regex\n",
        "    return re.sub('\\W', ' ', text)\n",
        "\n",
        "Rdd_clean_df = Rdd_clean_df.map(lambda row: (re_special_chars(row[0]), row[1], row[2]))\n",
        "Rdd_clean_df.take(2)"
      ]
    },
    {
      "cell_type": "code",
      "execution_count": null,
      "metadata": {
        "id": "s59quIznykk1",
        "colab": {
          "base_uri": "https://localhost:8080/"
        },
        "outputId": "8f27b352-a8ee-4832-ea2f-c79add406cef"
      },
      "outputs": [
        {
          "output_type": "stream",
          "name": "stdout",
          "text": [
            "+----------------------+------------+---+\n",
            "|review_comment_message|review_score| id|\n",
            "+----------------------+------------+---+\n",
            "|  Qualidade interme...|         5.0|  1|\n",
            "|  Produto correto  ...|         4.0|  2|\n",
            "|  estou muito satis...|         5.0|  3|\n",
            "|  Já comprei vários...|         1.0|  4|\n",
            "|           Ótimo site |         4.0|  5|\n",
            "|   Produto mal acabado|         2.0|  6|\n",
            "|  Gostei muito do p...|         5.0|  7|\n",
            "|  Muito bom  Recome...|         5.0|  8|\n",
            "|  COPRA VEIO ERRADA...|         1.0|  9|\n",
            "|  MUITO BOA A LOGÍS...|         4.0| 10|\n",
            "|  Comprei o telefon...|         4.0| 11|\n",
            "|   negação  recebi ...|         1.0| 12|\n",
            "|                    ok|         4.0| 13|\n",
            "|  produto chegou er...|         1.0| 14|\n",
            "|  A descrição do pr...|         1.0| 15|\n",
            "|  Dentro do anuncia...|         4.0| 16|\n",
            "|  Recomendo  Pois o...|         5.0| 17|\n",
            "|  Muito boa a mala ...|         5.0| 18|\n",
            "|  Produto bom entre...|         5.0| 19|\n",
            "|  A Loja  negação  ...|         1.0| 20|\n",
            "+----------------------+------------+---+\n",
            "only showing top 20 rows\n",
            "\n"
          ]
        }
      ],
      "source": [
        "#convert from rdd back to df\n",
        "schema = 'review_comment_message string, review_score double, id int'\n",
        "clean_df = Rdd_clean_df.toDF(['review_comment_message','review_score','id'])\n",
        "clean_df.show()"
      ]
    },
    {
      "cell_type": "code",
      "execution_count": null,
      "metadata": {
        "id": "gWLVPMhu9rB-"
      },
      "outputs": [],
      "source": [
        "#tokenization\n",
        "\n",
        "tokenizer = RegexTokenizer(inputCol=\"review_comment_message\", # tokenize reviews\n",
        "                      outputCol=\"words\",\n",
        "                       pattern= \"\\\\W\")\n",
        "wordsdata = tokenizer.transform(clean_df)\n",
        "\n",
        "#wordsdata=tokenizer.transform(df).select(['review_comment_message','words'])\n",
        "#wordsdata.show(truncate=True,vertical=True)\n",
        "\n",
        "#wordsdata.select([count(when(isnan(i) | col(i).isNull(),i)).alias(i) for i in wordsdata.columns]).show() #count nulls\n",
        "\n",
        "#wordsdata=wordsdata.dropna() #drop null values\n",
        "\n"
      ]
    },
    {
      "cell_type": "code",
      "execution_count": null,
      "metadata": {
        "id": "AWtvz9XhzXOt"
      },
      "outputs": [],
      "source": [
        "#Stemming\n",
        "#def stemming_process(text, stemmer=RSLPStemmer()):\n",
        "\n",
        "  #return ''.join([stemmer.stem(c)+' ' for c in text.split()])\n",
        "\n",
        "#Rdd_clean_df = Rdd_clean_df.map(lambda row: (stemming_process(row[0]), row[1], row[2]))\n",
        "#Rdd_clean_df.take(2)  "
      ]
    },
    {
      "cell_type": "code",
      "execution_count": null,
      "metadata": {
        "id": "5DXbXwfxc-y-",
        "colab": {
          "base_uri": "https://localhost:8080/"
        },
        "outputId": "045114e1-c3b3-465b-b4e2-389dbe558f3d"
      },
      "outputs": [
        {
          "output_type": "stream",
          "name": "stdout",
          "text": [
            "-RECORD 0---------------------------------------------------------------------------------------------------------------------------------------------------------------------------------------------------------------------------------------------------------\n",
            " review_comment_message | Qualidade intermediária                                                                                                                                                                                                                 \n",
            " review_score           | 5.0                                                                                                                                                                                                                                     \n",
            " id                     | 1                                                                                                                                                                                                                                       \n",
            " words                  | [qualidade, intermedi, ria]                                                                                                                                                                                                             \n",
            "-RECORD 1---------------------------------------------------------------------------------------------------------------------------------------------------------------------------------------------------------------------------------------------------------\n",
            " review_comment_message | Produto correto  entregue no prazo  preço bom                                                                                                                                                                                           \n",
            " review_score           | 4.0                                                                                                                                                                                                                                     \n",
            " id                     | 2                                                                                                                                                                                                                                       \n",
            " words                  | [produto, correto, entregue, no, prazo, pre, o, bom]                                                                                                                                                                                    \n",
            "-RECORD 2---------------------------------------------------------------------------------------------------------------------------------------------------------------------------------------------------------------------------------------------------------\n",
            " review_comment_message | estou muito satisfeito com lannister                                                                                                                                                                                                    \n",
            " review_score           | 5.0                                                                                                                                                                                                                                     \n",
            " id                     | 3                                                                                                                                                                                                                                       \n",
            " words                  | [estou, muito, satisfeito, com, lannister]                                                                                                                                                                                              \n",
            "-RECORD 3---------------------------------------------------------------------------------------------------------------------------------------------------------------------------------------------------------------------------------------------------------\n",
            " review_comment_message | Já comprei vários produtos pelo site lannister com e sempre recebi bem antes do previsto  este é o segundo tapete que compro  e assim como o outro chegou atrasado  No site  negação  obtém o rastreamento                              \n",
            " review_score           | 1.0                                                                                                                                                                                                                                     \n",
            " id                     | 4                                                                                                                                                                                                                                       \n",
            " words                  | [j, comprei, v, rios, produtos, pelo, site, lannister, com, e, sempre, recebi, bem, antes, do, previsto, este, o, segundo, tapete, que, compro, e, assim, como, o, outro, chegou, atrasado, no, site, nega, o, obt, m, o, rastreamento] \n",
            "-RECORD 4---------------------------------------------------------------------------------------------------------------------------------------------------------------------------------------------------------------------------------------------------------\n",
            " review_comment_message | Ótimo site                                                                                                                                                                                                                              \n",
            " review_score           | 4.0                                                                                                                                                                                                                                     \n",
            " id                     | 5                                                                                                                                                                                                                                       \n",
            " words                  | [timo, site]                                                                                                                                                                                                                            \n",
            "only showing top 5 rows\n",
            "\n"
          ]
        }
      ],
      "source": [
        "#after tokenization\n",
        "wordsdata.show(5,truncate=False, vertical=True)"
      ]
    },
    {
      "cell_type": "code",
      "execution_count": null,
      "metadata": {
        "id": "2kVIs8u19rKT"
      },
      "outputs": [],
      "source": [
        "#remove stop words\n",
        "#use default portuguese stop words\n",
        "\n",
        "remover= StopWordsRemover(\n",
        "    inputCol=\"words\",\n",
        "    outputCol=\"filteredWords\",\n",
        "    stopWords = StopWordsRemover.loadDefaultStopWords(\"portuguese\")\n",
        ")\n",
        "noStopWords_df=remover.transform(wordsdata)\n",
        "#noStopWords_df.select('filteredWords').take(1)"
      ]
    },
    {
      "cell_type": "code",
      "execution_count": null,
      "metadata": {
        "id": "hC2JsaA4lWaj",
        "colab": {
          "base_uri": "https://localhost:8080/"
        },
        "outputId": "ddd9f85a-826a-4169-b854-ab61e8097bf7"
      },
      "outputs": [
        {
          "output_type": "stream",
          "name": "stdout",
          "text": [
            "-RECORD 0----------------------------------------------------------------------\n",
            " review_comment_message | Qualidade intermediária                              \n",
            " review_score           | 5.0                                                  \n",
            " id                     | 1                                                    \n",
            " words                  | [qualidade, intermedi, ria]                          \n",
            " filteredWords          | [qualidade, intermedi, ria]                          \n",
            "-RECORD 1----------------------------------------------------------------------\n",
            " review_comment_message | Produto correto  entregue no prazo  preço bom        \n",
            " review_score           | 4.0                                                  \n",
            " id                     | 2                                                    \n",
            " words                  | [produto, correto, entregue, no, prazo, pre, o, bom] \n",
            " filteredWords          | [produto, correto, entregue, prazo, pre, bom]        \n",
            "only showing top 2 rows\n",
            "\n"
          ]
        }
      ],
      "source": [
        "noStopWords_df.show(2,truncate=False, vertical=True)"
      ]
    },
    {
      "cell_type": "code",
      "execution_count": null,
      "metadata": {
        "id": "UhcJQvQa4qdN",
        "colab": {
          "base_uri": "https://localhost:8080/"
        },
        "outputId": "92704615-e715-4d94-ef1c-263138b01184"
      },
      "outputs": [
        {
          "output_type": "stream",
          "name": "stdout",
          "text": [
            "[nltk_data] Downloading package rslp to /root/nltk_data...\n",
            "[nltk_data]   Unzipping stemmers/rslp.zip.\n",
            "-RECORD 0----------------------------------------------------------------------\n",
            " review_comment_message | Qualidade intermediária                              \n",
            " review_score           | 5.0                                                  \n",
            " id                     | 1                                                    \n",
            " words                  | [qualidade, intermedi, ria]                          \n",
            " filteredWords          | [qualidade, intermedi, ria]                          \n",
            " word_stemmed           | [qual, intermed, ria]                                \n",
            "-RECORD 1----------------------------------------------------------------------\n",
            " review_comment_message | Produto correto  entregue no prazo  preço bom        \n",
            " review_score           | 4.0                                                  \n",
            " id                     | 2                                                    \n",
            " words                  | [produto, correto, entregue, no, prazo, pre, o, bom] \n",
            " filteredWords          | [produto, correto, entregue, prazo, pre, bom]        \n",
            " word_stemmed           | [produt, corret, entreg, praz, pre, bom]             \n",
            "only showing top 2 rows\n",
            "\n"
          ]
        }
      ],
      "source": [
        "\n",
        "import nltk\n",
        "nltk.download('rslp')\n",
        "from nltk.stem import *\n",
        "#stem words\n",
        "def stem(in_vec,stemmer=RSLPStemmer()):\n",
        "    out_vec = []\n",
        "    for t in in_vec:\n",
        "        t_stem = stemmer.stem(t)\n",
        "        if len(t_stem) > 2:\n",
        "            out_vec.append(t_stem)       \n",
        "    return out_vec\n",
        "# Create user defined function for stemming with return type Array<String>\n",
        "from pyspark.sql.types import *\n",
        "from pyspark.sql.functions import udf\n",
        "stemmer_udf = udf(lambda x: stem(x), ArrayType(StringType()))\n",
        "\n",
        "# Create new df with vectors containing the stemmed tokens \n",
        "word_stemmed_df = noStopWords_df.withColumn(\"word_stemmed\", stemmer_udf(\"filteredWords\"))#.select(['id','word_stemmed','review_score'])\n",
        "#the dataset after stemming\n",
        "word_stemmed_df.show(2,truncate=False, vertical=True)"
      ]
    },
    {
      "cell_type": "code",
      "execution_count": null,
      "metadata": {
        "id": "ZwovVgUz7BFl",
        "colab": {
          "base_uri": "https://localhost:8080/"
        },
        "outputId": "5dc02fc9-7910-4538-aeb6-50d49a9791ef"
      },
      "outputs": [
        {
          "output_type": "stream",
          "name": "stdout",
          "text": [
            "+----------------------+------------+---+--------------------+--------------------+--------------------+\n",
            "|review_comment_message|review_score| id|               words|       filteredWords|        word_stemmed|\n",
            "+----------------------+------------+---+--------------------+--------------------+--------------------+\n",
            "|  Qualidade interme...|         5.0|  1|[qualidade, inter...|[qualidade, inter...|[qual, intermed, ...|\n",
            "|  Produto correto  ...|         4.0|  2|[produto, correto...|[produto, correto...|[produt, corret, ...|\n",
            "|  estou muito satis...|         5.0|  3|[estou, muito, sa...|[satisfeito, lann...|[satisfeit, lannist]|\n",
            "|  Já comprei vários...|         1.0|  4|[j, comprei, v, r...|[j, comprei, v, r...|[compr, rio, prod...|\n",
            "|           Ótimo site |         4.0|  5|        [timo, site]|        [timo, site]|          [tim, sit]|\n",
            "|   Produto mal acabado|         2.0|  6|[produto, mal, ac...|[produto, mal, ac...| [produt, mal, acab]|\n",
            "|  Gostei muito do p...|         5.0|  7|[gostei, muito, d...|   [gostei, produto]|      [gost, produt]|\n",
            "|  Muito bom  Recome...|         5.0|  8|[muito, bom, reco...|    [bom, recomendo]|        [bom, recom]|\n",
            "|  COPRA VEIO ERRADA...|         1.0|  9|[copra, veio, err...|[copra, veio, err...|[copr, vei, err, ...|\n",
            "|  MUITO BOA A LOGÍS...|         4.0| 10|[muito, boa, a, l...|[boa, log, stica,...|[boa, log, stic, ...|\n",
            "|  Comprei o telefon...|         4.0| 11|[comprei, o, tele...|[comprei, telefon...|[compr, telefon, ...|\n",
            "|   negação  recebi ...|         1.0| 12|[nega, o, recebi,...|[nega, recebi, pr...|[neg, receb, prod...|\n",
            "|                    ok|         4.0| 13|                [ok]|                [ok]|                  []|\n",
            "|  produto chegou er...|         1.0| 14|[produto, chegou,...|[produto, chegou,...|[produt, cheg, er...|\n",
            "|  A descrição do pr...|         1.0| 15|[a, descri, o, do...|[descri, produto,...|[descr, produt, d...|\n",
            "|  Dentro do anuncia...|         4.0| 16|[dentro, do, anun...|[dentro, anunciad...|[dentr, anunci, r...|\n",
            "|  Recomendo  Pois o...|         5.0| 17|[recomendo, pois,...|[recomendo, pois,...|[recom, poi, prod...|\n",
            "|  Muito boa a mala ...|         5.0| 18|[muito, boa, a, m...|[boa, mala, parab...|   [boa, mal, parab]|\n",
            "|  Produto bom entre...|         5.0| 19|[produto, bom, en...|[produto, bom, en...|[produt, bom, ent...|\n",
            "|  A Loja  negação  ...|         1.0| 20|[a, loja, nega, o...|[loja, nega, resp...|[loj, neg, respon...|\n",
            "+----------------------+------------+---+--------------------+--------------------+--------------------+\n",
            "only showing top 20 rows\n",
            "\n"
          ]
        }
      ],
      "source": [
        "word_stemmed_df.show()"
      ]
    },
    {
      "cell_type": "code",
      "execution_count": null,
      "metadata": {
        "id": "m_Vsgtz1-JQf",
        "colab": {
          "base_uri": "https://localhost:8080/"
        },
        "outputId": "64381b1f-c384-45df-bf93-1288ee649e9e"
      },
      "outputs": [
        {
          "output_type": "stream",
          "name": "stdout",
          "text": [
            "+----------------------+------------+---+--------------------+--------------------+--------------------+\n",
            "|review_comment_message|review_score| id|               words|       filteredWords|        word_stemmed|\n",
            "+----------------------+------------+---+--------------------+--------------------+--------------------+\n",
            "|  Qualidade interme...|         5.0|  1|[qualidade, inter...|[qualidade, inter...|[qual, intermed, ...|\n",
            "|  Produto correto  ...|         4.0|  2|[produto, correto...|[produto, correto...|[produt, corret, ...|\n",
            "+----------------------+------------+---+--------------------+--------------------+--------------------+\n",
            "only showing top 2 rows\n",
            "\n"
          ]
        }
      ],
      "source": [
        "#Filter out small/empty vectors\n",
        "from pyspark.sql.functions import col, size\n",
        "production_df = word_stemmed_df.where(size(col(\"word_stemmed\")) >= 2)\n",
        "production_df.show(2)"
      ]
    },
    {
      "cell_type": "code",
      "execution_count": null,
      "metadata": {
        "id": "AValL2xH-csY",
        "colab": {
          "base_uri": "https://localhost:8080/"
        },
        "outputId": "f2bdccef-570c-4a2a-c2f0-cabbd574e412"
      },
      "outputs": [
        {
          "output_type": "stream",
          "name": "stdout",
          "text": [
            "root\n",
            " |-- review_comment_message: string (nullable = true)\n",
            " |-- review_score: double (nullable = true)\n",
            " |-- id: long (nullable = true)\n",
            " |-- words: array (nullable = true)\n",
            " |    |-- element: string (containsNull = true)\n",
            " |-- filteredWords: array (nullable = true)\n",
            " |    |-- element: string (containsNull = true)\n",
            " |-- word_stemmed: array (nullable = true)\n",
            " |    |-- element: string (containsNull = true)\n",
            "\n"
          ]
        }
      ],
      "source": [
        "type(production_df)\n",
        "production_df.printSchema()"
      ]
    },
    {
      "cell_type": "code",
      "execution_count": null,
      "metadata": {
        "id": "v41a8kCef_B_",
        "colab": {
          "base_uri": "https://localhost:8080/"
        },
        "outputId": "3f4ff963-1d0f-4a56-c1da-9f94733a1623"
      },
      "outputs": [
        {
          "output_type": "execute_result",
          "data": {
            "text/plain": [
              "CountVectorizerModel: uid=CountVectorizer_a6102bae0469, vocabularySize=10"
            ]
          },
          "metadata": {},
          "execution_count": 36
        }
      ],
      "source": [
        "#CountVectorizer\n",
        "countVectorizer = CountVectorizer(inputCol=\"word_stemmed\",outputCol=\"word_features\",vocabSize=10, \n",
        "                     minDF=2)\n",
        "\n",
        "model = countVectorizer.fit(production_df)\n",
        "#cv model\n",
        "model"
      ]
    },
    {
      "cell_type": "code",
      "execution_count": null,
      "metadata": {
        "id": "hayOOz3eiaa9",
        "colab": {
          "base_uri": "https://localhost:8080/"
        },
        "outputId": "fffb4c1f-e023-4743-ca67-f1994a326dc6"
      },
      "outputs": [
        {
          "output_type": "stream",
          "name": "stdout",
          "text": [
            "-RECORD 0----------------------------------------------------------------------\n",
            " review_comment_message | Qualidade intermediária                              \n",
            " review_score           | 5.0                                                  \n",
            " id                     | 1                                                    \n",
            " words                  | [qualidade, intermedi, ria]                          \n",
            " filteredWords          | [qualidade, intermedi, ria]                          \n",
            " word_stemmed           | [qual, intermed, ria]                                \n",
            " word_features          | (10,[],[])                                           \n",
            "-RECORD 1----------------------------------------------------------------------\n",
            " review_comment_message | Produto correto  entregue no prazo  preço bom        \n",
            " review_score           | 4.0                                                  \n",
            " id                     | 2                                                    \n",
            " words                  | [produto, correto, entregue, no, prazo, pre, o, bom] \n",
            " filteredWords          | [produto, correto, entregue, prazo, pre, bom]        \n",
            " word_stemmed           | [produt, corret, entreg, praz, pre, bom]             \n",
            " word_features          | (10,[0,2,3],[1.0,1.0,1.0])                           \n",
            "only showing top 2 rows\n",
            "\n"
          ]
        }
      ],
      "source": [
        "#after verctorized\n",
        "cv_data = model.transform(production_df)\n",
        "cv_data.show(2,truncate=False, vertical=True)"
      ]
    },
    {
      "cell_type": "code",
      "source": [
        "# For the topic modelling task, we will use TF-IDF to determine \n",
        "# which words are important to which of our reviews. \n",
        "# First, we will calculate TF (the frequency of each term in a document) with CountVectorizer. \n",
        "# We derive the vocabulary of our data while fitting and get the counts at the transform step."
      ],
      "metadata": {
        "id": "Oll5onQDgajE"
      },
      "execution_count": null,
      "outputs": []
    },
    {
      "cell_type": "markdown",
      "source": [
        "Then, we proceed with IDF (the inverse frequency of documents where a term occurred), which helps to account for words that are highly frequent in all reviews. This way, these words will not characterize a topic in the topic modelling step. We calculate TF-IDF based on TF results with IDF estimator of PySpark:"
      ],
      "metadata": {
        "id": "l2tleDQlhAf-"
      }
    },
    {
      "cell_type": "code",
      "source": [
        "from pyspark.ml.feature import IDF\n",
        "idfizer = IDF(inputCol='word_features', \n",
        "              outputCol='tf_idf_features')\n",
        "idf_model = idfizer.fit(cv_data)\n",
        "tfidf_result = idf_model.transform(cv_data)"
      ],
      "metadata": {
        "id": "gYkNgCdWgpHi"
      },
      "execution_count": null,
      "outputs": []
    },
    {
      "cell_type": "code",
      "execution_count": null,
      "metadata": {
        "id": "2844qlWcKU0t",
        "colab": {
          "base_uri": "https://localhost:8080/"
        },
        "outputId": "3ec4166d-d32b-4d2c-b85a-f5064541057b"
      },
      "outputs": [
        {
          "output_type": "stream",
          "name": "stdout",
          "text": [
            "-RECORD 0-----------------------------------------------------------------------------------------------------\n",
            " review_comment_message | Qualidade intermediária                                                             \n",
            " review_score           | 5.0                                                                                 \n",
            " id                     | 1                                                                                   \n",
            " words                  | [qualidade, intermedi, ria]                                                         \n",
            " filteredWords          | [qualidade, intermedi, ria]                                                         \n",
            " word_stemmed           | [qual, intermed, ria]                                                               \n",
            " word2Vector            | [-0.14104689409335452,-0.03840216000874837,0.004927034179369608,0.3827595959107081] \n",
            "-RECORD 1-----------------------------------------------------------------------------------------------------\n",
            " review_comment_message | Produto correto  entregue no prazo  preço bom                                       \n",
            " review_score           | 4.0                                                                                 \n",
            " id                     | 2                                                                                   \n",
            " words                  | [produto, correto, entregue, no, prazo, pre, o, bom]                                \n",
            " filteredWords          | [produto, correto, entregue, prazo, pre, bom]                                       \n",
            " word_stemmed           | [produt, corret, entreg, praz, pre, bom]                                            \n",
            " word2Vector            | [0.23105547577142715,0.33126475661993027,-0.4554219798495372,0.2977933129295707]    \n",
            "only showing top 2 rows\n",
            "\n"
          ]
        }
      ],
      "source": [
        "#Word2Vec\n",
        "#too slow\n",
        "word2Vec = Word2Vec(vectorSize=4, minCount=1, windowSize=5,\n",
        "                    seed=42, \n",
        "                    inputCol=\"word_stemmed\", \n",
        "                    outputCol=\"word2Vector\")\n",
        "\n",
        "modelw2v = word2Vec.fit(production_df)\n",
        "production_W2V_df = modelw2v.transform(production_df)\n",
        "production_W2V_df.show(2,truncate=False, vertical=True)"
      ]
    },
    {
      "cell_type": "code",
      "execution_count": null,
      "metadata": {
        "id": "zJWhHfnfK_1f"
      },
      "outputs": [],
      "source": [
        ""
      ]
    },
    {
      "cell_type": "markdown",
      "metadata": {
        "id": "5buToixWQGKa"
      },
      "source": [
        "# Topic modeling"
      ]
    },
    {
      "cell_type": "code",
      "source": [
        "!pip install sparknlp\n",
        "import sparknlp\n",
        "spark = sparknlp.start()"
      ],
      "metadata": {
        "colab": {
          "base_uri": "https://localhost:8080/"
        },
        "id": "UyvdXHaHeH5v",
        "outputId": "b746e8ee-860d-45db-dcf1-38245abd170e"
      },
      "execution_count": null,
      "outputs": [
        {
          "output_type": "stream",
          "name": "stdout",
          "text": [
            "Collecting sparknlp\n",
            "  Downloading sparknlp-1.0.0-py3-none-any.whl (1.4 kB)\n",
            "Requirement already satisfied: numpy in /usr/local/lib/python3.7/dist-packages (from sparknlp) (1.21.6)\n",
            "Collecting spark-nlp\n",
            "  Downloading spark_nlp-3.4.3-py2.py3-none-any.whl (144 kB)\n",
            "\u001b[K     |████████████████████████████████| 144 kB 13.1 MB/s \n",
            "\u001b[?25hInstalling collected packages: spark-nlp, sparknlp\n",
            "Successfully installed spark-nlp-3.4.3 sparknlp-1.0.0\n"
          ]
        }
      ]
    },
    {
      "cell_type": "code",
      "source": [
        "from pyspark.ml.clustering import LDA\n",
        "num_topics = 6\n",
        "max_iter = 10\n",
        "lda = LDA(k=num_topics, \n",
        "          maxIter=max_iter, \n",
        "          featuresCol='tf_idf_features')\n",
        "lda_model = lda.fit(tfidf_result)"
      ],
      "metadata": {
        "id": "ZAfKQdoxerPI"
      },
      "execution_count": null,
      "outputs": []
    },
    {
      "cell_type": "code",
      "source": [
        "from pyspark.sql import functions as F\n",
        "from pyspark.sql import types as T\n",
        "vocab = model.vocabulary\n",
        "def get_words(token_list): \n",
        "    return [vocab[token_id] for token_id in token_list]\n",
        "udf_to_words = F.udf(get_words, T.ArrayType(T.StringType()))"
      ],
      "metadata": {
        "id": "DdmtHn4HfPsK"
      },
      "execution_count": null,
      "outputs": []
    },
    {
      "cell_type": "code",
      "source": [
        "num_top_words = 7\n",
        "topics = lda_model.describeTopics(num_top_words).withColumn('topicWords', udf_to_words(F.col('termIndices'))) \n",
        "topics.select('topic', 'topicWords').show(truncate=100)"
      ],
      "metadata": {
        "colab": {
          "base_uri": "https://localhost:8080/"
        },
        "id": "XzyeiIGffdDD",
        "outputId": "3ba69820-39a3-4667-a487-16914919add0"
      },
      "execution_count": null,
      "outputs": [
        {
          "output_type": "stream",
          "name": "stdout",
          "text": [
            "+-----+-------------------------------------------------+\n",
            "|topic|                                       topicWords|\n",
            "+-----+-------------------------------------------------+\n",
            "|    0|   [entreg, produt, praz, receb, ant, neg, compr]|\n",
            "|    1| [recom, compr, produt, receb, praz, entreg, ant]|\n",
            "|    2|    [cheg, ant, praz, produt, recom, entreg, neg]|\n",
            "|    3|[numer, compr, receb, neg, entreg, produt, recom]|\n",
            "|    4|  [receb, neg, compr, produt, praz, cheg, entreg]|\n",
            "|    5|   [neg, entreg, produt, recom, praz, ant, receb]|\n",
            "+-----+-------------------------------------------------+\n",
            "\n"
          ]
        }
      ]
    },
    {
      "cell_type": "markdown",
      "metadata": {
        "id": "NnmdlLBBmkE7"
      },
      "source": [
        "# Task: Sentiment classification"
      ]
    },
    {
      "cell_type": "markdown",
      "metadata": {
        "id": "2eCs7HcJBWn-"
      },
      "source": [
        "**Split class label to positive and negative**\n",
        "- Positive scores 4-5\n",
        "- Negative scores 1-3"
      ]
    },
    {
      "cell_type": "code",
      "execution_count": null,
      "metadata": {
        "id": "9obhmvaRBVRW",
        "colab": {
          "base_uri": "https://localhost:8080/"
        },
        "outputId": "e5a4a796-1cb4-4d2b-ce90-7532be5c8d50"
      },
      "outputs": [
        {
          "output_type": "stream",
          "name": "stdout",
          "text": [
            "+----------------------+------------+---+--------------------+--------------------+--------------------+--------------------+---------+---------------+---------+\n",
            "|review_comment_message|review_score| id|               words|       filteredWords|        word_stemmed|       word_features|Sentiment|Sentiment_label|numTokens|\n",
            "+----------------------+------------+---+--------------------+--------------------+--------------------+--------------------+---------+---------------+---------+\n",
            "|  Qualidade interme...|         5.0|  1|[qualidade, inter...|[qualidade, inter...|[qual, intermed, ...|          (10,[],[])| positive|              1|        3|\n",
            "|  Produto correto  ...|         4.0|  2|[produto, correto...|[produto, correto...|[produt, corret, ...|(10,[0,2,3],[1.0,...| positive|              1|        6|\n",
            "|  estou muito satis...|         5.0|  3|[estou, muito, sa...|[satisfeito, lann...|[satisfeit, lannist]|          (10,[],[])| positive|              1|        2|\n",
            "|  Já comprei vários...|         1.0|  4|[j, comprei, v, r...|[j, comprei, v, r...|[compr, rio, prod...|(10,[0,1,4,6,7,8]...| negative|              0|       21|\n",
            "|           Ótimo site |         4.0|  5|        [timo, site]|        [timo, site]|          [tim, sit]|          (10,[],[])| positive|              1|        2|\n",
            "+----------------------+------------+---+--------------------+--------------------+--------------------+--------------------+---------+---------------+---------+\n",
            "only showing top 5 rows\n",
            "\n"
          ]
        }
      ],
      "source": [
        "senti = udf(lambda x:\"positive\" if x>3 else \"negative\", StringType())\n",
        "senti_label = udf(lambda x:1 if x>3 else 0, IntegerType())\n",
        "\n",
        "#assign sentiment\n",
        "cv_data = cv_data.withColumn(\"Sentiment\", senti(cv_data.review_score))\n",
        "#assign sentiment_label\n",
        "cv_data = cv_data.withColumn(\"Sentiment_label\", senti_label(cv_data.review_score))\n",
        "#record number of tokens\n",
        "cv_data = cv_data.withColumn('numTokens', size(cv_data['word_stemmed']))\n",
        "#label_sentiment is 1 or 0\n",
        "\n",
        "cv_data.show(5)"
      ]
    },
    {
      "cell_type": "markdown",
      "metadata": {
        "id": "m0B0noc1nDaW"
      },
      "source": [
        "**Split the train-test dataset**"
      ]
    },
    {
      "cell_type": "code",
      "execution_count": null,
      "metadata": {
        "id": "jXcshFhnj3oy"
      },
      "outputs": [],
      "source": [
        "training_df, test_df = cv_data.randomSplit([0.75,0.25], seed=777)"
      ]
    },
    {
      "cell_type": "code",
      "execution_count": null,
      "metadata": {
        "id": "Dvv4nCow9rRy",
        "colab": {
          "base_uri": "https://localhost:8080/"
        },
        "outputId": "30b3f1b4-01e0-4b8b-ac4f-2872ab1a6163"
      },
      "outputs": [
        {
          "output_type": "stream",
          "name": "stdout",
          "text": [
            "+------------+-----+\n",
            "|review_score|count|\n",
            "+------------+-----+\n",
            "|         1.0| 5570|\n",
            "|         4.0| 3577|\n",
            "|         3.0| 2300|\n",
            "|         2.0| 1402|\n",
            "|         5.0|11787|\n",
            "+------------+-----+\n",
            "\n"
          ]
        }
      ],
      "source": [
        "#check review_score\n",
        "training_df.groupBy('review_score').count().show()"
      ]
    },
    {
      "cell_type": "code",
      "execution_count": null,
      "metadata": {
        "id": "xFZWbVqJ9rVd",
        "colab": {
          "base_uri": "https://localhost:8080/"
        },
        "outputId": "894535ce-101c-418f-af50-d44762f2c6f0"
      },
      "outputs": [
        {
          "output_type": "stream",
          "name": "stdout",
          "text": [
            "+---------+-----+\n",
            "|Sentiment|count|\n",
            "+---------+-----+\n",
            "| positive|15364|\n",
            "| negative| 9272|\n",
            "+---------+-----+\n",
            "\n"
          ]
        }
      ],
      "source": [
        "#check review_score\n",
        "training_df.groupBy('Sentiment').count().show()"
      ]
    },
    {
      "cell_type": "markdown",
      "metadata": {
        "id": "fjZC5UdrDa2b"
      },
      "source": [
        "**Logistic regression**"
      ]
    },
    {
      "cell_type": "code",
      "execution_count": null,
      "metadata": {
        "id": "YRf9a96eINCa"
      },
      "outputs": [],
      "source": [
        "from pyspark.ml.feature import VectorAssembler\n",
        "from pyspark.ml import Pipeline\n",
        "from pyspark.ml.classification import LogisticRegression\n",
        "from pyspark.ml.evaluation import MulticlassClassificationEvaluator"
      ]
    },
    {
      "cell_type": "code",
      "execution_count": null,
      "metadata": {
        "id": "r6HA4pne9rYX"
      },
      "outputs": [],
      "source": [
        "#build model\n",
        "vecAssembler = VectorAssembler(inputCols=['word_features', 'numTokens'],outputCol='features')\n",
        "\n",
        "log_reg = LogisticRegression(featuresCol='features', labelCol='Sentiment_label')\n",
        "\n",
        "pipeline_lr = Pipeline(stages=[vecAssembler, log_reg])"
      ]
    },
    {
      "cell_type": "code",
      "execution_count": null,
      "metadata": {
        "id": "LJLjvuWn9rbf",
        "colab": {
          "base_uri": "https://localhost:8080/"
        },
        "outputId": "6213c3e2-ef96-4334-a59b-549b57f9844c"
      },
      "outputs": [
        {
          "output_type": "execute_result",
          "data": {
            "text/plain": [
              "PipelineModel_1d7510d8e145"
            ]
          },
          "metadata": {},
          "execution_count": 51
        }
      ],
      "source": [
        "lr_model = pipeline_lr.fit(training_df)\n",
        "lr_model"
      ]
    },
    {
      "cell_type": "code",
      "execution_count": null,
      "metadata": {
        "id": "ynbSh3aB9ren",
        "colab": {
          "base_uri": "https://localhost:8080/"
        },
        "outputId": "da151708-415c-4ee1-8a42-cea5d10747a8"
      },
      "outputs": [
        {
          "output_type": "execute_result",
          "data": {
            "text/plain": [
              "DataFrame[review_comment_message: string, review_score: double, id: bigint, words: array<string>, filteredWords: array<string>, word_stemmed: array<string>, word_features: vector, Sentiment: string, Sentiment_label: int, numTokens: int, features: vector, rawPrediction: vector, probability: vector, prediction: double]"
            ]
          },
          "metadata": {},
          "execution_count": 52
        }
      ],
      "source": [
        "lr_result = lr_model.transform(test_df)\n",
        "lr_result"
      ]
    },
    {
      "cell_type": "code",
      "execution_count": null,
      "metadata": {
        "id": "TnLTHQOt9rii",
        "colab": {
          "base_uri": "https://localhost:8080/"
        },
        "outputId": "a96540b5-49c6-45f7-85e8-c62995639a4f"
      },
      "outputs": [
        {
          "output_type": "stream",
          "name": "stdout",
          "text": [
            "Model Accuracy of logistic regression:  0.7916256157635468\n"
          ]
        }
      ],
      "source": [
        "#evaluation of test data set\n",
        "evaluator = MulticlassClassificationEvaluator(\n",
        "    labelCol=\"Sentiment_label\", predictionCol=\"prediction\",\n",
        "    metricName=\"accuracy\")\n",
        "\n",
        "\n",
        "accuracy_lr = evaluator.evaluate(lr_result)\n",
        "print (\"Model Accuracy of logistic regression: \", accuracy_lr)"
      ]
    },
    {
      "cell_type": "markdown",
      "source": [
        "**Decision Tree**"
      ],
      "metadata": {
        "id": "QQvxZoukQHgP"
      }
    },
    {
      "cell_type": "code",
      "source": [
        "\n",
        "from pyspark.ml.classification import DecisionTreeClassifier\n"
      ],
      "metadata": {
        "id": "bDY9fpa7QSHW"
      },
      "execution_count": null,
      "outputs": []
    },
    {
      "cell_type": "code",
      "source": [
        "#build model\n",
        "vecAssembler = VectorAssembler(inputCols=['word_features', 'numTokens'],outputCol='features')\n",
        "\n",
        "dtc = DecisionTreeClassifier(featuresCol='features', labelCol='Sentiment_label')\n",
        "\n",
        "pipeline_dtc = Pipeline(stages=[vecAssembler, dtc])"
      ],
      "metadata": {
        "id": "3TUjq428QjMJ"
      },
      "execution_count": null,
      "outputs": []
    },
    {
      "cell_type": "code",
      "source": [
        "dtc_model = pipeline_dtc.fit(training_df)\n",
        "dtc_model"
      ],
      "metadata": {
        "colab": {
          "base_uri": "https://localhost:8080/"
        },
        "id": "cdvgyfvvQ0Ux",
        "outputId": "bbef6652-e86d-4eaa-e09e-673585fa3cef"
      },
      "execution_count": null,
      "outputs": [
        {
          "output_type": "execute_result",
          "data": {
            "text/plain": [
              "PipelineModel_b902883da4fc"
            ]
          },
          "metadata": {},
          "execution_count": 56
        }
      ]
    },
    {
      "cell_type": "code",
      "source": [
        "dtc_result = dtc_model.transform(test_df)\n",
        "dtc_result"
      ],
      "metadata": {
        "colab": {
          "base_uri": "https://localhost:8080/"
        },
        "id": "NqpC9UyRRASQ",
        "outputId": "28030d97-eb09-450e-89ea-d7c9e8dcd9a1"
      },
      "execution_count": null,
      "outputs": [
        {
          "output_type": "execute_result",
          "data": {
            "text/plain": [
              "DataFrame[review_comment_message: string, review_score: double, id: bigint, words: array<string>, filteredWords: array<string>, word_stemmed: array<string>, word_features: vector, Sentiment: string, Sentiment_label: int, numTokens: int, features: vector, rawPrediction: vector, probability: vector, prediction: double]"
            ]
          },
          "metadata": {},
          "execution_count": 57
        }
      ]
    },
    {
      "cell_type": "code",
      "source": [
        "#evaluation of test data set\n",
        "evaluator = MulticlassClassificationEvaluator(\n",
        "    labelCol=\"Sentiment_label\", predictionCol=\"prediction\",\n",
        "    metricName=\"accuracy\")\n",
        "\n",
        "\n",
        "accuracy_dtc = evaluator.evaluate(dtc_result)\n",
        "print (\"Model Accuracy of decision tree: \", accuracy_dtc)"
      ],
      "metadata": {
        "colab": {
          "base_uri": "https://localhost:8080/"
        },
        "id": "Pgx91m8HREtA",
        "outputId": "da14acfa-92b9-46fa-bdad-3d315a50b58d"
      },
      "execution_count": null,
      "outputs": [
        {
          "output_type": "stream",
          "name": "stdout",
          "text": [
            "Model Accuracy of decision tree:  0.7838669950738916\n"
          ]
        }
      ]
    },
    {
      "cell_type": "markdown",
      "metadata": {
        "id": "yzQB4tLlQPsz"
      },
      "source": [
        "**Random Forest**"
      ]
    },
    {
      "cell_type": "code",
      "source": [
        "from pyspark.ml.classification import RandomForestClassifier\n",
        "\n",
        "#build model\n",
        "vecAssembler = VectorAssembler(inputCols=['word_features', 'numTokens'],outputCol='features')\n",
        "\n",
        "# Train a RandomForest model.\n",
        "rf = RandomForestClassifier(labelCol=\"Sentiment_label\", featuresCol=\"features\", numTrees=10)\n",
        "\n",
        "pipeline_rf = Pipeline(stages=[vecAssembler, rf])"
      ],
      "metadata": {
        "id": "sunrqgyHSaw9"
      },
      "execution_count": null,
      "outputs": []
    },
    {
      "cell_type": "code",
      "source": [
        "rf_model = pipeline_rf.fit(training_df)\n",
        "rf_model"
      ],
      "metadata": {
        "colab": {
          "base_uri": "https://localhost:8080/"
        },
        "outputId": "42702560-a999-4ad2-bdef-d05d49b9e109",
        "id": "9lRrDzO7TA84"
      },
      "execution_count": null,
      "outputs": [
        {
          "output_type": "execute_result",
          "data": {
            "text/plain": [
              "PipelineModel_4c6bd1fec046"
            ]
          },
          "metadata": {},
          "execution_count": 60
        }
      ]
    },
    {
      "cell_type": "code",
      "source": [
        "rf_result = rf_model.transform(test_df)\n",
        "rf_result"
      ],
      "metadata": {
        "colab": {
          "base_uri": "https://localhost:8080/"
        },
        "outputId": "90e7a342-ba6c-4934-d0ea-0e7d753c3383",
        "id": "LAgj6yqyVQou"
      },
      "execution_count": null,
      "outputs": [
        {
          "output_type": "execute_result",
          "data": {
            "text/plain": [
              "DataFrame[review_comment_message: string, review_score: double, id: bigint, words: array<string>, filteredWords: array<string>, word_stemmed: array<string>, word_features: vector, Sentiment: string, Sentiment_label: int, numTokens: int, features: vector, rawPrediction: vector, probability: vector, prediction: double]"
            ]
          },
          "metadata": {},
          "execution_count": 61
        }
      ]
    },
    {
      "cell_type": "code",
      "source": [
        "#evaluation of test data set\n",
        "evaluator = MulticlassClassificationEvaluator(\n",
        "    labelCol=\"Sentiment_label\", predictionCol=\"prediction\",\n",
        "    metricName=\"accuracy\")\n",
        "\n",
        "\n",
        "accuracy_rf = evaluator.evaluate(rf_result)\n",
        "print (\"Model Accuracy of random forest: \", accuracy_rf)"
      ],
      "metadata": {
        "colab": {
          "base_uri": "https://localhost:8080/"
        },
        "id": "hMTYs13oTEVG",
        "outputId": "df795d1a-3112-401e-cbb7-c02ba790314c"
      },
      "execution_count": null,
      "outputs": [
        {
          "output_type": "stream",
          "name": "stdout",
          "text": [
            "Model Accuracy of random forest:  0.7937192118226601\n"
          ]
        }
      ]
    },
    {
      "cell_type": "markdown",
      "metadata": {
        "id": "p_0Qiw8PQSzS"
      },
      "source": [
        "**Naive Bayes**"
      ]
    },
    {
      "cell_type": "code",
      "source": [
        "from pyspark.ml.classification import NaiveBayes\n",
        "\n",
        "#build model\n",
        "vecAssembler = VectorAssembler(inputCols=['word_features', 'numTokens'],outputCol='features')\n",
        "\n",
        "# Train a RandomForest model.\n",
        "nb = NaiveBayes(labelCol=\"Sentiment_label\", featuresCol=\"features\")\n",
        "\n",
        "pipeline_nb = Pipeline(stages=[vecAssembler, nb])"
      ],
      "metadata": {
        "id": "xGNszolPW5Py"
      },
      "execution_count": null,
      "outputs": []
    },
    {
      "cell_type": "code",
      "source": [
        "nb_model = pipeline_nb.fit(training_df)\n",
        "nb_model"
      ],
      "metadata": {
        "colab": {
          "base_uri": "https://localhost:8080/"
        },
        "outputId": "4a72e905-eabf-4dc1-9e01-f92920826ab9",
        "id": "Uvx6cfMiW5Pz"
      },
      "execution_count": null,
      "outputs": [
        {
          "output_type": "execute_result",
          "data": {
            "text/plain": [
              "PipelineModel_f7855964a572"
            ]
          },
          "metadata": {},
          "execution_count": 64
        }
      ]
    },
    {
      "cell_type": "code",
      "source": [
        "nb_result = nb_model.transform(test_df)\n",
        "nb_result"
      ],
      "metadata": {
        "colab": {
          "base_uri": "https://localhost:8080/"
        },
        "outputId": "28adc88f-bcff-42fd-f034-d59a11a1b6d6",
        "id": "wS81QMP8W5Pz"
      },
      "execution_count": null,
      "outputs": [
        {
          "output_type": "execute_result",
          "data": {
            "text/plain": [
              "DataFrame[review_comment_message: string, review_score: double, id: bigint, words: array<string>, filteredWords: array<string>, word_stemmed: array<string>, word_features: vector, Sentiment: string, Sentiment_label: int, numTokens: int, features: vector, rawPrediction: vector, probability: vector, prediction: double]"
            ]
          },
          "metadata": {},
          "execution_count": 65
        }
      ]
    },
    {
      "cell_type": "code",
      "source": [
        "#evaluation of test data set\n",
        "evaluator = MulticlassClassificationEvaluator(\n",
        "    labelCol=\"Sentiment_label\", predictionCol=\"prediction\",\n",
        "    metricName=\"accuracy\")\n",
        "\n",
        "\n",
        "accuracy_nb = evaluator.evaluate(nb_result)\n",
        "print (\"Model Accuracy of random forest: \", accuracy_nb)"
      ],
      "metadata": {
        "colab": {
          "base_uri": "https://localhost:8080/"
        },
        "outputId": "df73f337-73f2-4989-ab64-7fe59141116c",
        "id": "xKCG57GGW5Pz"
      },
      "execution_count": null,
      "outputs": [
        {
          "output_type": "stream",
          "name": "stdout",
          "text": [
            "Model Accuracy of random forest:  0.7828817733990148\n"
          ]
        }
      ]
    },
    {
      "cell_type": "markdown",
      "source": [
        "ref:\n",
        "https://medium.com/trustyou-engineering/topic-modelling-with-pyspark-and-spark-nlp-a99d063f1a6e\n",
        "\n",
        "https://github.com/maobedkova/TopicModelling_PySpark_SparkNLP/blob/master/Topic_Modelling_with_PySpark_and_Spark_NLP.ipynb\n",
        "\n",
        "https://blog.csdn.net/silentwolfyh/article/details/103492419"
      ],
      "metadata": {
        "id": "r3m41XoGkukO"
      }
    },
    {
      "cell_type": "markdown",
      "metadata": {
        "id": "9glLpkCOQVTo"
      },
      "source": [
        "Visulization"
      ]
    },
    {
      "cell_type": "code",
      "execution_count": null,
      "metadata": {
        "id": "rfTSPc5bQVDr",
        "colab": {
          "base_uri": "https://localhost:8080/"
        },
        "outputId": "bb178afd-02ff-4a70-a18f-49a34237550b"
      },
      "outputs": [
        {
          "output_type": "execute_result",
          "data": {
            "text/plain": [
              "0.7173471834970664"
            ]
          },
          "metadata": {},
          "execution_count": 70
        }
      ],
      "source": [
        "vectordf= modelw2v.getVectors()\n",
        "pca = PCA(k=2, inputCol=\"vector\", outputCol=\"pcaFeatures\")\n",
        "pcaModel = pca.fit(vectordf)\n",
        "pcaDF = pcaModel.transform(vectordf)\n",
        "np.sum(pcaModel.explainedVariance)"
      ]
    },
    {
      "cell_type": "code",
      "execution_count": null,
      "metadata": {
        "id": "m68rarclQF6o"
      },
      "outputs": [],
      "source": [
        "pd_pcaDF = pcaDF.withColumn(\n",
        "    'V1', vector_to_array('pcaFeatures')[0]\n",
        ").withColumn(\n",
        "    'V2', vector_to_array('pcaFeatures')[1]\n",
        ").select('V1', 'V2', 'word').toPandas()\n",
        "\n",
        "pd_vDF = vectordf.withColumn(\n",
        "    'V1', vector_to_array('vector')[0]\n",
        ").withColumn(\n",
        "    'V2', vector_to_array('vector')[1]\n",
        ").select('V1', 'V2', 'word').toPandas()\n",
        "pca_df_100=pd_pcaDF[0:99]\n",
        "v_df_100=pd_vDF[0:99]\n"
      ]
    },
    {
      "cell_type": "code",
      "execution_count": null,
      "metadata": {
        "id": "YKlP6Owh9rmE",
        "colab": {
          "base_uri": "https://localhost:8080/",
          "height": 513
        },
        "outputId": "d9203a84-ea3a-4e89-d807-1aa77941a280"
      },
      "outputs": [
        {
          "output_type": "display_data",
          "data": {
            "text/plain": [
              "<Figure size 720x576 with 1 Axes>"
            ],
            "image/png": "[encoded data removed]"
          },
          "metadata": {
            "needs_background": "light"
          }
        }
      ],
      "source": [
        "fig, ax = plt.subplots(figsize=(10,8))      \n",
        "    \n",
        "ax.plot(pca_df_100['V1'], pca_df_100['V2'], marker='o',\n",
        "        linestyle='', markersize=2)\n",
        "\n",
        "\n",
        "for _, value in pca_df_100.iterrows():\n",
        "    ax.annotate(value['word'][0:5], (value['V1'], value['V2']),\n",
        "                xytext=(5,-5), textcoords='offset points',\n",
        "                rotation=25,\n",
        "                family='sans-serif', fontsize=12,color='blue')\n",
        "    \n",
        "ax.set_title('Word2Vec')\n",
        "ax.set_xlabel('1st vector')\n",
        "ax.set_ylabel('2nd vector')\n",
        "\n",
        "plt.show();"
      ]
    },
    {
      "cell_type": "code",
      "execution_count": null,
      "metadata": {
        "id": "h077BqdP9rpN",
        "colab": {
          "base_uri": "https://localhost:8080/",
          "height": 513
        },
        "outputId": "9b072341-94ca-4d05-9c83-b96e51eef633"
      },
      "outputs": [
        {
          "output_type": "display_data",
          "data": {
            "text/plain": [
              "<Figure size 720x576 with 1 Axes>"
            ],
            "image/png": "[encoded data removed]"
          },
          "metadata": {
            "needs_background": "light"
          }
        }
      ],
      "source": [
        "fig, ax = plt.subplots(figsize=(10,8))      \n",
        "    \n",
        "ax.plot(v_df_100['V1'], v_df_100['V2'], marker='o',\n",
        "        linestyle='', markersize=2)\n",
        "\n",
        "\n",
        "for _, value in v_df_100.iterrows():\n",
        "    ax.annotate(value['word'][0:5], (value['V1'], value['V2']),\n",
        "                xytext=(5,-5), textcoords='offset points',\n",
        "                rotation=25,\n",
        "                family='sans-serif', fontsize=12,color='blue')\n",
        "    \n",
        "ax.set_title('Word2Vec')\n",
        "ax.set_xlabel('1st vector')\n",
        "ax.set_ylabel('2nd vector')\n",
        "\n",
        "plt.show();"
      ]
    },
    {
      "cell_type": "code",
      "execution_count": null,
      "metadata": {
        "id": "1Gzt2Q51Lddg",
        "colab": {
          "base_uri": "https://localhost:8080/"
        },
        "outputId": "1fc43198-fc50-43b7-d306-a57e9418dc93"
      },
      "outputs": [
        {
          "output_type": "stream",
          "name": "stdout",
          "text": [
            "+----------+--------+--------+\n",
            "|prediction|negative|positive|\n",
            "+----------+--------+--------+\n",
            "|       0.0|    1891|     455|\n",
            "|       1.0|    1237|    4537|\n",
            "+----------+--------+--------+\n",
            "\n"
          ]
        }
      ],
      "source": [
        "lr_result.groupBy('prediction').pivot('Sentiment').count().show()\n"
      ]
    },
    {
      "cell_type": "code",
      "source": [
        "dtc_result.groupBy('prediction').pivot('Sentiment').count().show()\n"
      ],
      "metadata": {
        "id": "MrgSORyqlPBS",
        "colab": {
          "base_uri": "https://localhost:8080/"
        },
        "outputId": "e8d1fddd-bd8b-45ab-ebf1-011b91266ee9"
      },
      "execution_count": null,
      "outputs": [
        {
          "output_type": "stream",
          "name": "stdout",
          "text": [
            "+----------+--------+--------+\n",
            "|prediction|negative|positive|\n",
            "+----------+--------+--------+\n",
            "|       0.0|    1880|     507|\n",
            "|       1.0|    1248|    4485|\n",
            "+----------+--------+--------+\n",
            "\n"
          ]
        }
      ]
    },
    {
      "cell_type": "code",
      "source": [
        "rf_result.groupBy('prediction').pivot('Sentiment').count().show()"
      ],
      "metadata": {
        "id": "NQiPrkLQlOrJ",
        "colab": {
          "base_uri": "https://localhost:8080/"
        },
        "outputId": "ff9a8658-6360-43cf-e501-98d5b23fed15"
      },
      "execution_count": null,
      "outputs": [
        {
          "output_type": "stream",
          "name": "stdout",
          "text": [
            "+----------+--------+--------+\n",
            "|prediction|negative|positive|\n",
            "+----------+--------+--------+\n",
            "|       0.0|    1963|     510|\n",
            "|       1.0|    1165|    4482|\n",
            "+----------+--------+--------+\n",
            "\n"
          ]
        }
      ]
    },
    {
      "cell_type": "code",
      "source": [
        "nb_result.groupBy('prediction').pivot('Sentiment').count().show()\n"
      ],
      "metadata": {
        "id": "SYSF7S_GlYCm",
        "colab": {
          "base_uri": "https://localhost:8080/"
        },
        "outputId": "2382b560-d56b-4d8f-da0c-8936c8faac3d"
      },
      "execution_count": null,
      "outputs": [
        {
          "output_type": "stream",
          "name": "stdout",
          "text": [
            "+----------+--------+--------+\n",
            "|prediction|negative|positive|\n",
            "+----------+--------+--------+\n",
            "|       0.0|    1933|     568|\n",
            "|       1.0|    1195|    4424|\n",
            "+----------+--------+--------+\n",
            "\n"
          ]
        }
      ]
    },
    {
      "cell_type": "code",
      "source": [
        "lr_tp   = lr_result.filter('Sentiment == \"positive\" and prediction == 1').count()\n",
        "lr_tn   = lr_result.filter('Sentiment == \"negative\" and prediction == 0').count()\n",
        "lr_fp  = lr_result.filter('Sentiment == \"negative\" and prediction == 1').count()\n",
        "lr_fn  = lr_result.filter('Sentiment == \"positive\" and prediction == 0').count()\n",
        "\n",
        "dtc_tp   = dtc_result.filter('Sentiment == \"positive\" and prediction == 1').count()\n",
        "dtc_tn   = dtc_result.filter('Sentiment == \"negative\" and prediction == 0').count()\n",
        "dtc_fp  = dtc_result.filter('Sentiment == \"negative\" and prediction == 1').count()\n",
        "dtc_fn  = dtc_result.filter('Sentiment == \"positive\" and prediction == 0').count()\n",
        "\n",
        "rf_tp   = rf_result.filter('Sentiment == \"positive\" and prediction == 1').count()\n",
        "rf_tn   = rf_result.filter('Sentiment == \"negative\" and prediction == 0').count()\n",
        "rf_fp  = rf_result.filter('Sentiment == \"negative\" and prediction == 1').count()\n",
        "rf_fn  = rf_result.filter('Sentiment == \"positive\" and prediction == 0').count()\n",
        "\n",
        "nb_tp   = nb_result.filter('Sentiment == \"positive\" and prediction == 1').count()\n",
        "nb_tn   = nb_result.filter('Sentiment == \"negative\" and prediction == 0').count()\n",
        "nb_fp  = nb_result.filter('Sentiment == \"negative\" and prediction == 1').count()\n",
        "nb_fn  = nb_result.filter('Sentiment == \"positive\" and prediction == 0').count()\n",
        "#get true positive, true negative, false positive, false negative for logistic regression, decision tree, random forest and naive bayes\n",
        "#13 min to run"
      ],
      "metadata": {
        "colab": {
          "base_uri": "https://localhost:8080/"
        },
        "id": "M7u9uNlUkOkT",
        "outputId": "e3a7ac25-af93-43e1-c983-730727fd4dce"
      },
      "execution_count": null,
      "outputs": [
        {
          "output_type": "stream",
          "name": "stdout",
          "text": [
            "['LR:', 4537, 1891, 1237, 455] ['DTC:', 4485, 1880, 1248, 507] ['RF:', 4482, 1963, 1165, 510] ['NB', 4424, 1933, 1195, 568]\n"
          ]
        }
      ]
    },
    {
      "cell_type": "code",
      "source": [
        "print('LR:','TP:',lr_tp,'TN:',lr_tn,'FP:',lr_fp,'FN:',lr_fn,'tpr:',lr_tp/(lr_tp+lr_fn),'tnr:',lr_tn/(lr_tn+lr_fp),'\\n',\n",
        "      'DTC:','TP:',dtc_tp,'TN:',dtc_tn,'FP:',dtc_fp,'FN:',dtc_fn,'tpr:',dtc_tp/(dtc_tp+dtc_fn),'tnr:',dtc_tn/(dtc_tn+dtc_fp),'\\n',\n",
        "      'RF:','TP:',rf_tp,'TN:',rf_tn,'FP:',rf_fp,'FN:',rf_fn,'tpr:',rf_tp/(rf_tp+rf_fn),'tnr:',rf_tn/(rf_tn+rf_fp),'\\n',\n",
        "      'NB','TP:',nb_tp,'TN:',nb_tn,'FP:',nb_fp,'FN:',nb_fn,'tpr:',nb_tp/(nb_tp+nb_fn),'tnr:',nb_tn/(nb_tn+nb_fp)\n",
        "      )"
      ],
      "metadata": {
        "colab": {
          "base_uri": "https://localhost:8080/"
        },
        "id": "T9vVW5slsklX",
        "outputId": "7a29b70f-55d9-4d6b-fb82-b4dcec014fa7"
      },
      "execution_count": null,
      "outputs": [
        {
          "output_type": "stream",
          "name": "stdout",
          "text": [
            "LR: TP: 4537 TN: 1891 FP: 1237 FN: 455 tpr: 0.9088541666666666 tnr: 0.604539641943734 \n",
            " DTC: TP: 4485 TN: 1880 FP: 1248 FN: 507 tpr: 0.8984375 tnr: 0.6010230179028133 \n",
            " RF: TP: 4482 TN: 1963 FP: 1165 FN: 510 tpr: 0.8978365384615384 tnr: 0.6275575447570333 \n",
            " NB TP: 4424 TN: 1933 FP: 1195 FN: 568 tpr: 0.8862179487179487 tnr: 0.6179667519181585\n"
          ]
        }
      ]
    },
    {
      "cell_type": "code",
      "source": [
        "lr_cm=[[lr_tp,lr_tn],[lr_fp,lr_fn]]\n",
        "sn.heatmap(lr_cm, annot=True, cmap='Blues', fmt='d')\n",
        "#confusion matrix for logistic regression"
      ],
      "metadata": {
        "colab": {
          "base_uri": "https://localhost:8080/",
          "height": 285
        },
        "id": "5VkwDgZ6tl9d",
        "outputId": "7a21849d-913e-4323-da54-fb1082e4f25a"
      },
      "execution_count": null,
      "outputs": [
        {
          "output_type": "execute_result",
          "data": {
            "text/plain": [
              "<matplotlib.axes._subplots.AxesSubplot at 0x7f2af31b2e90>"
            ]
          },
          "metadata": {},
          "execution_count": 163
        },
        {
          "output_type": "display_data",
          "data": {
            "text/plain": [
              "<Figure size 432x288 with 2 Axes>"
            ],
            "image/png": "[encoded data removed]"
          },
          "metadata": {
            "needs_background": "light"
          }
        }
      ]
    },
    {
      "cell_type": "code",
      "source": [
        "dtc_cm=[[dtc_tp,dtc_tn],[dtc_fp,dtc_fn]]\n",
        "sn.heatmap(dtc_cm, annot=True, cmap='Blues', fmt='d')\n",
        "#confusion matrix for decision tree"
      ],
      "metadata": {
        "colab": {
          "base_uri": "https://localhost:8080/",
          "height": 283
        },
        "id": "YDZTEG3QuqHp",
        "outputId": "f7904ad3-7002-4005-fb35-271e7b2eb3b2"
      },
      "execution_count": null,
      "outputs": [
        {
          "output_type": "execute_result",
          "data": {
            "text/plain": [
              "<matplotlib.axes._subplots.AxesSubplot at 0x7f2af318f890>"
            ]
          },
          "metadata": {},
          "execution_count": 162
        },
        {
          "output_type": "display_data",
          "data": {
            "text/plain": [
              "<Figure size 432x288 with 2 Axes>"
            ],
            "image/png": "[encoded data removed]"
          },
          "metadata": {
            "needs_background": "light"
          }
        }
      ]
    },
    {
      "cell_type": "code",
      "source": [
        "rf_cm=[[rf_tp,rf_tn],[rf_fp,rf_fn]]\n",
        "sn.heatmap(rf_cm, annot=True, cmap='Blues', fmt='d')\n",
        "#confusion matrix for random forest"
      ],
      "metadata": {
        "colab": {
          "base_uri": "https://localhost:8080/",
          "height": 283
        },
        "id": "gcOxCcJ-uxHl",
        "outputId": "4cbfa276-46c1-4d81-d90b-6c95ca7825a6"
      },
      "execution_count": null,
      "outputs": [
        {
          "output_type": "execute_result",
          "data": {
            "text/plain": [
              "<matplotlib.axes._subplots.AxesSubplot at 0x7f2af30130d0>"
            ]
          },
          "metadata": {},
          "execution_count": 164
        },
        {
          "output_type": "display_data",
          "data": {
            "text/plain": [
              "<Figure size 432x288 with 2 Axes>"
            ],
            "image/png": "[encoded data removed]"
          },
          "metadata": {
            "needs_background": "light"
          }
        }
      ]
    },
    {
      "cell_type": "code",
      "source": [
        "nb_cm=[[nb_tp,nb_tn],[nb_fp,nb_fn]]\n",
        "sn.heatmap(nb_cm, annot=True, cmap='Blues', fmt='d')\n",
        "#confusion matrix for naive bayes"
      ],
      "metadata": {
        "colab": {
          "base_uri": "https://localhost:8080/",
          "height": 283
        },
        "id": "pucMUznMvCHb",
        "outputId": "707b8acf-c589-4a10-d066-ea7833860ba8"
      },
      "execution_count": null,
      "outputs": [
        {
          "output_type": "execute_result",
          "data": {
            "text/plain": [
              "<matplotlib.axes._subplots.AxesSubplot at 0x7f2af2f4f110>"
            ]
          },
          "metadata": {},
          "execution_count": 165
        },
        {
          "output_type": "display_data",
          "data": {
            "text/plain": [
              "<Figure size 432x288 with 2 Axes>"
            ],
            "image/png": "[encoded data removed]"
          },
          "metadata": {
            "needs_background": "light"
          }
        }
      ]
    },
    {
      "cell_type": "code",
      "source": [
        "spark.stop()"
      ],
      "metadata": {
        "id": "9KRsZkbtcbsv"
      },
      "execution_count": null,
      "outputs": []
    },
    {
      "cell_type": "markdown",
      "source": [
        "# Recommandation system\n",
        "- Making recommandations for users\n",
        "- Making recommandations for products"
      ],
      "metadata": {
        "id": "OKPmRBo1clCj"
      }
    },
    {
      "cell_type": "markdown",
      "metadata": {
        "id": "FJhm30YrepJE"
      },
      "source": [
        "# Data preparation(Recomandation system)"
      ]
    },
    {
      "cell_type": "code",
      "execution_count": null,
      "metadata": {
        "id": "dNk6HcjfepJE"
      },
      "outputs": [],
      "source": [
        "import findspark\n",
        "findspark.init()"
      ]
    },
    {
      "cell_type": "code",
      "execution_count": null,
      "metadata": {
        "id": "mOg22nm8epJF"
      },
      "outputs": [],
      "source": [
        "from pyspark.ml.feature import Tokenizer, RegexTokenizer, CountVectorizer, \\\n",
        "           StopWordsRemover, NGram, HashingTF, IDF, Word2Vec\n",
        "\n",
        "from pyspark.sql.functions import explode, expr\n",
        "from pyspark.ml.functions  import vector_to_array"
      ]
    },
    {
      "cell_type": "code",
      "execution_count": null,
      "metadata": {
        "id": "TkNjEagVepJF"
      },
      "outputs": [],
      "source": [
        "#imports\n",
        "from google.colab import files\n",
        "from pyspark import SparkContext \n",
        "\n",
        "from pyspark.sql.functions import expr\n",
        "from pyspark.sql.functions import col,isnan,when,count\n",
        "from pyspark.ml.regression import LinearRegression\n",
        "from pyspark.ml.evaluation import RegressionEvaluator\n",
        "from pyspark.ml.feature import VectorAssembler\n",
        "import numpy as np\n",
        "import pandas as pd\n",
        "import matplotlib.pyplot as plt\n",
        "from pyspark.sql.functions import monotonically_increasing_id\n",
        "import nltk"
      ]
    },
    {
      "cell_type": "code",
      "execution_count": null,
      "metadata": {
        "id": "tspH6A0RepJF"
      },
      "outputs": [],
      "source": [
        "!pwd"
      ]
    },
    {
      "cell_type": "code",
      "execution_count": null,
      "metadata": {
        "id": "HyRH2sQeepJF"
      },
      "outputs": [],
      "source": [
        "#init spark\n",
        "from pyspark.sql import SparkSession\n",
        "spark = SparkSession.builder.appName(\n",
        "    \"RecSystem\").getOrCreate()\n",
        "spark\n"
      ]
    },
    {
      "cell_type": "code",
      "source": [
        "## if show FileNotFoundError: [Errno 2] No such file or directory:\n",
        "## https://stackoverflow.com/questions/54351852/accessing-shared-with-me-with-colab"
      ],
      "metadata": {
        "id": "l_L9Xb9JEwiI"
      },
      "execution_count": null,
      "outputs": []
    },
    {
      "cell_type": "markdown",
      "metadata": {
        "id": "HuQeYiK4QSiN"
      },
      "source": [
        "#**Collaborative Filtering**"
      ]
    },
    {
      "cell_type": "code",
      "execution_count": null,
      "metadata": {
        "id": "Su5nwWbkQM5D"
      },
      "outputs": [],
      "source": [
        "from pyspark.sql import SparkSession\n",
        "spark = SparkSession.Builder().master('local[*]')\\\n",
        "   .appName(\"Spark_ALS\")\\\n",
        "   .getOrCreate()\n",
        "\n",
        "spark"
      ]
    },
    {
      "cell_type": "code",
      "execution_count": null,
      "metadata": {
        "id": "bHXTp65NcdBk"
      },
      "outputs": [],
      "source": [
        "from pyspark.ml.recommendation import ALS"
      ]
    },
    {
      "cell_type": "code",
      "source": [
        "from google.colab import drive\n",
        "drive.mount('/content/drive')"
      ],
      "metadata": {
        "id": "n_TSS7W6s2I0"
      },
      "execution_count": null,
      "outputs": []
    },
    {
      "cell_type": "code",
      "execution_count": null,
      "metadata": {
        "id": "LbK2NfbWcdBk"
      },
      "outputs": [],
      "source": [
        "#spark dataframe\n",
        "df=spark.read.csv('/content/drive/MyDrive/Copy of retail_dataset.csv',\n",
        "                  header=True,sep=',') #,header=True, inferSchema=True,sep=',', multiLine=True,\n",
        "df.printSchema()"
      ]
    },
    {
      "cell_type": "code",
      "execution_count": null,
      "metadata": {
        "id": "o_7v6VLEcdBk"
      },
      "outputs": [],
      "source": [
        "df.show(5)"
      ]
    },
    {
      "cell_type": "code",
      "source": [
        "d2 = df.select('customer_id','product_id','review_score')\n",
        "d2.show(5)"
      ],
      "metadata": {
        "id": "7j2kGmNG17f-"
      },
      "execution_count": null,
      "outputs": []
    },
    {
      "cell_type": "code",
      "source": [
        "df.show(10)"
      ],
      "metadata": {
        "id": "jJAX48Sw6Rbs"
      },
      "execution_count": null,
      "outputs": []
    },
    {
      "cell_type": "code",
      "source": [
        "# total number of products\n",
        "\n",
        "numProducts = d2.groupBy('product_id').count().count()\n",
        "numProducts"
      ],
      "metadata": {
        "id": "MSGSZIeJ6VDG"
      },
      "execution_count": null,
      "outputs": []
    },
    {
      "cell_type": "code",
      "source": [
        "# total number of reviews \n",
        "d2.count()"
      ],
      "metadata": {
        "id": "RSk80prc63lj"
      },
      "execution_count": null,
      "outputs": []
    },
    {
      "cell_type": "code",
      "source": [
        "#data cleaning\n",
        "#exclude na row\n",
        "d3 = d2.na.drop()\n",
        "d3.count()"
      ],
      "metadata": {
        "id": "OO6jqqAj6_oM"
      },
      "execution_count": null,
      "outputs": []
    },
    {
      "cell_type": "code",
      "source": [
        "d3.show(5)"
      ],
      "metadata": {
        "id": "2qB1qe4c-Ddd"
      },
      "execution_count": null,
      "outputs": []
    },
    {
      "cell_type": "code",
      "source": [
        "# review counts by user\n",
        "\n",
        "d3.groupBy('customer_id').count()\\\n",
        "        .orderBy('count', ascending=False).show(15)"
      ],
      "metadata": {
        "id": "TQhrALPO8Upi"
      },
      "execution_count": null,
      "outputs": []
    },
    {
      "cell_type": "code",
      "source": [
        "# ratings count by products\n",
        "\n",
        "d3.groupBy('product_id').count()\\\n",
        "        .orderBy('count', ascending=False).show(15)"
      ],
      "metadata": {
        "id": "YUC6l-4R8nx9"
      },
      "execution_count": null,
      "outputs": []
    },
    {
      "cell_type": "code",
      "source": [
        "d3.printSchema()"
      ],
      "metadata": {
        "id": "_eP0tOzA8smk"
      },
      "execution_count": null,
      "outputs": []
    },
    {
      "cell_type": "code",
      "source": [
        "s1 = d3.filter(d3['customer_id'].rlike('[\\!\\@\\$\\^\\&\\-\\_\\;\\:\\?\\.\\#\\*]'))\n",
        "s1.head(5)"
      ],
      "metadata": {
        "id": "pqThcowTGynU"
      },
      "execution_count": null,
      "outputs": []
    },
    {
      "cell_type": "code",
      "source": [
        "s2 = d3.filter(d3['product_id'].rlike('[\\!\\@\\$\\^\\&\\-\\_\\;\\:\\?\\.\\#\\*]'))\n",
        "s2.head(5)"
      ],
      "metadata": {
        "id": "7xtYCkplJbhS"
      },
      "execution_count": null,
      "outputs": []
    },
    {
      "cell_type": "code",
      "source": [
        "s3 = d3.filter(d3['review_score'].rlike('[\\!\\@\\$\\^\\&\\-\\_\\;\\:\\?\\.\\#\\*]'))\n",
        "s3.head(5)"
      ],
      "metadata": {
        "id": "tAQfEDCVN7A2"
      },
      "execution_count": null,
      "outputs": []
    },
    {
      "cell_type": "markdown",
      "source": [
        "All the columns have different types of characters in customer_id, product_id and review_score. We will drop these rows and check again. "
      ],
      "metadata": {
        "id": "c9jhFe-ZOP2B"
      }
    },
    {
      "cell_type": "code",
      "source": [
        "#substracting these datrames from the original dataframe d3.\n",
        "df3=d3.subtract(s1)\n",
        "df3=df3.subtract(s2)\n",
        "df3=df3.subtract(s3)"
      ],
      "metadata": {
        "id": "bT4c5DcrOh3O"
      },
      "execution_count": null,
      "outputs": []
    },
    {
      "cell_type": "code",
      "source": [
        "df3.count()"
      ],
      "metadata": {
        "id": "Itk9sQr2Oh9h"
      },
      "execution_count": null,
      "outputs": []
    },
    {
      "cell_type": "code",
      "source": [
        "d3.count()"
      ],
      "metadata": {
        "id": "s1YtTnQLOiBY"
      },
      "execution_count": null,
      "outputs": []
    },
    {
      "cell_type": "code",
      "source": [
        "df3.filter(df3['product_id'].rlike('[\\!\\@\\$\\^\\&\\-\\_\\;\\:\\?\\.\\#\\*]')).head(5)"
      ],
      "metadata": {
        "id": "G8xFqzBTOiEh"
      },
      "execution_count": null,
      "outputs": []
    },
    {
      "cell_type": "code",
      "source": [
        "df3.filter(df3['customer_id'].rlike('[\\!\\@\\$\\^\\&\\-\\_\\;\\:\\?\\.\\#\\*]')).head(5)"
      ],
      "metadata": {
        "id": "NLS6weo_OiHn"
      },
      "execution_count": null,
      "outputs": []
    },
    {
      "cell_type": "code",
      "source": [
        "df3.filter(df3['review_score'].rlike('[\\!\\@\\$\\^\\&\\-\\_\\;\\:\\?\\.\\#\\*]')).head(5)"
      ],
      "metadata": {
        "id": "WXBwuklnOiLb"
      },
      "execution_count": null,
      "outputs": []
    },
    {
      "cell_type": "code",
      "source": [
        "#Creating a copy of the dataframe\n",
        "schema = df3.schema\n",
        "df3_pd = df3.toPandas()\n",
        "_df3 = spark.createDataFrame(df3_pd,schema=schema)\n",
        "del df3_pd"
      ],
      "metadata": {
        "id": "y7n8IbjQpzY6"
      },
      "execution_count": null,
      "outputs": []
    },
    {
      "cell_type": "code",
      "source": [
        "# review counts by user\n",
        "\n",
        "t1 = df3.groupBy('customer_id').count()\\\n",
        "        .orderBy('count', ascending=False)\n",
        "\n",
        "t1.tail(5)"
      ],
      "metadata": {
        "id": "7R_X207UOiOq"
      },
      "execution_count": null,
      "outputs": []
    },
    {
      "cell_type": "code",
      "source": [
        "t1.count()"
      ],
      "metadata": {
        "id": "sr1TMU-Qnfj3"
      },
      "execution_count": null,
      "outputs": []
    },
    {
      "cell_type": "code",
      "source": [
        "dict1 = {row['customer_id']:row['id1'] for row in t11.collect()}\n"
      ],
      "metadata": {
        "id": "1s-USP8bl19P"
      },
      "execution_count": null,
      "outputs": []
    },
    {
      "cell_type": "code",
      "source": [
        "from pyspark.sql.functions import udf\n",
        "from pyspark.sql.types import IntegerType\n",
        "\n",
        "user_func =  udf (lambda x: dict1.get(x), IntegerType())\n",
        "newdf = df3.withColumn('customer_id',user_func(df.customer_id))\n",
        "newdf.show()"
      ],
      "metadata": {
        "id": "6H_TmTwSqY_1"
      },
      "execution_count": null,
      "outputs": []
    },
    {
      "cell_type": "code",
      "source": [
        "t2 = df3.groupBy('product_id').count()\\\n",
        "        .orderBy('count', ascending=False)\n",
        "t2.show()"
      ],
      "metadata": {
        "id": "yRCvBOdrOiRO"
      },
      "execution_count": null,
      "outputs": []
    },
    {
      "cell_type": "code",
      "source": [
        "t22 = t2.withColumn(\"id2\", monotonically_increasing_id())\n",
        "t22.show()"
      ],
      "metadata": {
        "id": "xc3c3AnIs1k8"
      },
      "execution_count": null,
      "outputs": []
    },
    {
      "cell_type": "code",
      "source": [
        "dict2 = {row['product_id']:row['id2'] for row in t22.collect()}\n",
        "from pyspark.sql.functions import udf\n",
        "from pyspark.sql.types import IntegerType\n",
        "\n",
        "user_func =  udf (lambda x: dict2.get(x), IntegerType())\n",
        "newdf_final = newdf.withColumn('product_id',user_func(df.product_id))\n",
        "newdf_final.show()"
      ],
      "metadata": {
        "id": "2wLxkpjMtKSB"
      },
      "execution_count": null,
      "outputs": []
    },
    {
      "cell_type": "code",
      "source": [
        "newdf_final.groupBy('review_score').count()\\\n",
        "        .orderBy('count', ascending=False).show(15)"
      ],
      "metadata": {
        "id": "yoROqNfCSd5G"
      },
      "execution_count": null,
      "outputs": []
    },
    {
      "cell_type": "code",
      "source": [
        "newdf_final.printSchema()"
      ],
      "metadata": {
        "id": "TJ19NqKYty8d"
      },
      "execution_count": null,
      "outputs": []
    },
    {
      "cell_type": "code",
      "source": [
        "df_final = newdf_final.withColumn(\"review_score\", \n",
        "                                  newdf_final[\"review_score\"]\n",
        "                                  .cast('int'))\n",
        "df_final.printSchema()"
      ],
      "metadata": {
        "id": "V6fV9K0Evkge"
      },
      "execution_count": null,
      "outputs": []
    },
    {
      "cell_type": "code",
      "source": [
        "df_final.count()"
      ],
      "metadata": {
        "id": "x5nJFrlAvv5z"
      },
      "execution_count": null,
      "outputs": []
    },
    {
      "cell_type": "code",
      "source": [
        "training_data, test_data = df_final.randomSplit(\n",
        "    [0.8,0.2], seed=1)"
      ],
      "metadata": {
        "id": "1eNbybUZAOoX"
      },
      "execution_count": null,
      "outputs": []
    },
    {
      "cell_type": "code",
      "source": [
        "# Build the recommendation model using ALS on the training data\n",
        "# Note we set cold start strategy to 'drop' to ensure we don't get NaN evaluation metrics\n",
        "\n",
        "als = ALS(maxIter=10, regParam=0.01, \n",
        "          rank = 10,\n",
        "          userCol=\"customer_id\", \n",
        "          itemCol=\"product_id\", \n",
        "          ratingCol=\"review_score\",\n",
        "          coldStartStrategy=\"drop\")\n",
        "\n",
        "model = als.fit(training_data)"
      ],
      "metadata": {
        "id": "HJxA9g4jEkfX"
      },
      "execution_count": null,
      "outputs": []
    },
    {
      "cell_type": "code",
      "source": [
        "predictions = model.transform(test_data)"
      ],
      "metadata": {
        "id": "0E8b_uQbEt8j"
      },
      "execution_count": null,
      "outputs": []
    },
    {
      "cell_type": "code",
      "source": [
        "predictions.show()"
      ],
      "metadata": {
        "id": "P6lHjvowwB98"
      },
      "execution_count": null,
      "outputs": []
    },
    {
      "cell_type": "code",
      "source": [
        "from pyspark.ml.evaluation import RegressionEvaluator\n",
        "evaluator = RegressionEvaluator(metricName=\"rmse\", labelCol=\"review_score\",\n",
        "                                predictionCol=\"prediction\")\n",
        "\n",
        "rmse = evaluator.evaluate(predictions)\n",
        "\n",
        "print(\"Root-mean-square error = \" + str(rmse))"
      ],
      "metadata": {
        "id": "vAs66pznwE5w"
      },
      "execution_count": null,
      "outputs": []
    },
    {
      "cell_type": "markdown",
      "source": [
        "# **Product recommendations for users**\n"
      ],
      "metadata": {
        "id": "pMkAPQzRxMyD"
      }
    },
    {
      "cell_type": "code",
      "source": [
        "als = ALS(maxIter=10, regParam=0.1, \n",
        "          rank = 2,\n",
        "          userCol=\"customer_id\", \n",
        "          itemCol=\"product_id\", \n",
        "          ratingCol=\"review_score\",\n",
        "          coldStartStrategy=\"drop\")\n",
        "\n",
        "model = als.fit(df_final)"
      ],
      "metadata": {
        "id": "u1vZ_VDawJnd"
      },
      "execution_count": null,
      "outputs": []
    },
    {
      "cell_type": "code",
      "source": [
        "model.userFactors"
      ],
      "metadata": {
        "id": "baC7PGMBxprZ"
      },
      "execution_count": null,
      "outputs": []
    },
    {
      "cell_type": "code",
      "source": [
        "model.userFactors.orderBy('id').show(10, truncate=False, vertical=True)\n"
      ],
      "metadata": {
        "id": "of_iSXpFxuGT"
      },
      "execution_count": null,
      "outputs": []
    },
    {
      "cell_type": "code",
      "source": [
        "user_1 = model.userFactors.filter('id =1').first()['features']\n",
        "user_1"
      ],
      "metadata": {
        "id": "CPbMd5Zwxxt0"
      },
      "execution_count": null,
      "outputs": []
    },
    {
      "cell_type": "code",
      "source": [
        "model.itemFactors"
      ],
      "metadata": {
        "id": "xrO1oCuRx2yL"
      },
      "execution_count": null,
      "outputs": []
    },
    {
      "cell_type": "code",
      "source": [
        "model.itemFactors.orderBy('id').show(5, truncate=False, vertical=True)"
      ],
      "metadata": {
        "id": "ybrkEXWlyt7g"
      },
      "execution_count": null,
      "outputs": []
    },
    {
      "cell_type": "code",
      "source": [
        "import numpy as np\n",
        "model.itemFactors.rdd.map(\n",
        "    lambda x: (np.dot(x['features'], user_1), x['id']))\\\n",
        "        .takeOrdered(10, lambda x: -x[0])"
      ],
      "metadata": {
        "id": "wO58Gk8YywRu"
      },
      "execution_count": null,
      "outputs": []
    },
    {
      "cell_type": "code",
      "source": [
        "u = spark.createDataFrame([(0,)], schema=['customer_id'])\n",
        "u.show()"
      ],
      "metadata": {
        "id": "9ois-bbjy1Cm"
      },
      "execution_count": null,
      "outputs": []
    },
    {
      "cell_type": "code",
      "source": [
        "# Generate top 5 product recommendations for each user\n",
        "\n",
        "userRecs = model.recommendForAllUsers(5)\n",
        "\n",
        "userRecs"
      ],
      "metadata": {
        "id": "VFr_LSO8zry5"
      },
      "execution_count": null,
      "outputs": []
    },
    {
      "cell_type": "code",
      "source": [
        "userRecs.show(10, truncate=False, vertical=True)"
      ],
      "metadata": {
        "id": "hiBiG5Wfzr3W"
      },
      "execution_count": null,
      "outputs": []
    },
    {
      "cell_type": "markdown",
      "source": [
        "#**User recommendations for Products**\n"
      ],
      "metadata": {
        "id": "XUDgLejd06KH"
      }
    },
    {
      "cell_type": "code",
      "source": [
        "# Generate top 5 user recommendations for each movie\n",
        "\n",
        "productRecs = model.recommendForAllItems(5)\n",
        "\n",
        "productRecs"
      ],
      "metadata": {
        "id": "KAAyLbPzzr6D"
      },
      "execution_count": null,
      "outputs": []
    },
    {
      "cell_type": "code",
      "source": [
        "productRecs.show(10, truncate=False, vertical=True)"
      ],
      "metadata": {
        "id": "NVlhba98zr7d"
      },
      "execution_count": null,
      "outputs": []
    },
    {
      "cell_type": "code",
      "source": [
        "# Generate top 10 product recommendations for a specified set of users\n",
        "\n",
        "users = df_final.select(als.getUserCol()).distinct().sample(False, 0.1, seed=1)\n",
        "users.show()"
      ],
      "metadata": {
        "id": "vcIrTHw-zr-7"
      },
      "execution_count": null,
      "outputs": []
    },
    {
      "cell_type": "code",
      "source": [
        "userSubsetRecs = model.recommendForUserSubset(users, 10)\n",
        "\n",
        "userSubsetRecs.show(truncate=False, vertical=True)"
      ],
      "metadata": {
        "id": "EN0-2auK1coq"
      },
      "execution_count": null,
      "outputs": []
    },
    {
      "cell_type": "code",
      "source": [
        "# Generate top 10 user recommendations for a specified set of products\n",
        "\n",
        "products = df_final.select(als.getItemCol()).distinct().sample(False, 0.06, 1)\n",
        "products.show()"
      ],
      "metadata": {
        "id": "KjXrdcBQ1iSD"
      },
      "execution_count": null,
      "outputs": []
    },
    {
      "cell_type": "code",
      "source": [
        "ProductSubSetRecs = model.recommendForItemSubset(products, 10)\n",
        "ProductSubSetRecs.show(truncate=False, vertical=True)"
      ],
      "metadata": {
        "id": "f-Y_iT3n1sEd"
      },
      "execution_count": null,
      "outputs": []
    },
    {
      "cell_type": "code",
      "source": [
        "spark.stop()"
      ],
      "metadata": {
        "id": "yCpIkyAn12vl"
      },
      "execution_count": null,
      "outputs": []
    },
    {
      "cell_type": "code",
      "source": [
        ""
      ],
      "metadata": {
        "id": "kv_3XFLy15Qn"
      },
      "execution_count": null,
      "outputs": []
    },
    {
      "cell_type": "markdown",
      "source": [
        "#Creating user features using clustering techniques\n"
      ],
      "metadata": {
        "id": "GaErT9-8ujP5"
      }
    },
    {
      "cell_type": "markdown",
      "source": [
        "In order to improve our model we want to look for common features among users and cluster them. The technique is meant to build a recommendation system within our current model. If the model is able to discern groupings for customers as a baseline to recommendations we can improve our model significantly.\n",
        "\n"
      ],
      "metadata": {
        "id": "CST5NJ0EunW9"
      }
    },
    {
      "cell_type": "code",
      "source": [
        "!pip install pyspark"
      ],
      "metadata": {
        "colab": {
          "base_uri": "https://localhost:8080/"
        },
        "id": "31U-_P8rumxy",
        "outputId": "9a5b3490-0fee-42f8-b2ef-d1c0ce355b6d"
      },
      "execution_count": null,
      "outputs": [
        {
          "output_type": "stream",
          "name": "stdout",
          "text": [
            "Requirement already satisfied: pyspark in /usr/local/lib/python3.7/dist-packages (3.2.1)\n",
            "Requirement already satisfied: py4j==0.10.9.3 in /usr/local/lib/python3.7/dist-packages (from pyspark) (0.10.9.3)\n"
          ]
        }
      ]
    },
    {
      "cell_type": "code",
      "source": [
        "import pandas as pd\n",
        "import numpy as np\n",
        "import matplotlib.pyplot as plt\n",
        "import seaborn as sns\n",
        "sns.set()"
      ],
      "metadata": {
        "id": "ylvUVVahV807"
      },
      "execution_count": null,
      "outputs": []
    },
    {
      "cell_type": "markdown",
      "source": [
        "#Load master dataframe"
      ],
      "metadata": {
        "id": "q9mSfrWuu7ab"
      }
    },
    {
      "cell_type": "code",
      "source": [
        "master_df = pd.read_csv('/content/drive/MyDrive/Spark/master_df.txt', sep = ',', index_col=0)"
      ],
      "metadata": {
        "id": "SirtQ9oHu3t6",
        "colab": {
          "base_uri": "https://localhost:8080/",
          "height": 335
        },
        "outputId": "23c85a2d-59e5-4b87-a7d7-b4222bb5b6ce"
      },
      "execution_count": null,
      "outputs": [
        {
          "output_type": "error",
          "ename": "FileNotFoundError",
          "evalue": "ignored",
          "traceback": [
            "\u001b[0;31m---------------------------------------------------------------------------\u001b[0m",
            "\u001b[0;31mFileNotFoundError\u001b[0m                         Traceback (most recent call last)",
            "\u001b[0;32m<ipython-input-166-87ef925b4f54>\u001b[0m in \u001b[0;36m<module>\u001b[0;34m()\u001b[0m\n\u001b[0;32m----> 1\u001b[0;31m \u001b[0mmaster_df\u001b[0m \u001b[0;34m=\u001b[0m \u001b[0mpd\u001b[0m\u001b[0;34m.\u001b[0m\u001b[0mread_csv\u001b[0m\u001b[0;34m(\u001b[0m\u001b[0;34m'/content/drive/MyDrive/Spark/master_df.txt'\u001b[0m\u001b[0;34m,\u001b[0m \u001b[0msep\u001b[0m \u001b[0;34m=\u001b[0m \u001b[0;34m','\u001b[0m\u001b[0;34m,\u001b[0m \u001b[0mindex_col\u001b[0m\u001b[0;34m=\u001b[0m\u001b[0;36m0\u001b[0m\u001b[0;34m)\u001b[0m\u001b[0;34m\u001b[0m\u001b[0;34m\u001b[0m\u001b[0m\n\u001b[0m",
            "\u001b[0;32m/usr/local/lib/python3.7/dist-packages/pandas/util/_decorators.py\u001b[0m in \u001b[0;36mwrapper\u001b[0;34m(*args, **kwargs)\u001b[0m\n\u001b[1;32m    309\u001b[0m                     \u001b[0mstacklevel\u001b[0m\u001b[0;34m=\u001b[0m\u001b[0mstacklevel\u001b[0m\u001b[0;34m,\u001b[0m\u001b[0;34m\u001b[0m\u001b[0;34m\u001b[0m\u001b[0m\n\u001b[1;32m    310\u001b[0m                 )\n\u001b[0;32m--> 311\u001b[0;31m             \u001b[0;32mreturn\u001b[0m \u001b[0mfunc\u001b[0m\u001b[0;34m(\u001b[0m\u001b[0;34m*\u001b[0m\u001b[0margs\u001b[0m\u001b[0;34m,\u001b[0m \u001b[0;34m**\u001b[0m\u001b[0mkwargs\u001b[0m\u001b[0;34m)\u001b[0m\u001b[0;34m\u001b[0m\u001b[0;34m\u001b[0m\u001b[0m\n\u001b[0m\u001b[1;32m    312\u001b[0m \u001b[0;34m\u001b[0m\u001b[0m\n\u001b[1;32m    313\u001b[0m         \u001b[0;32mreturn\u001b[0m \u001b[0mwrapper\u001b[0m\u001b[0;34m\u001b[0m\u001b[0;34m\u001b[0m\u001b[0m\n",
            "\u001b[0;32m/usr/local/lib/python3.7/dist-packages/pandas/io/parsers/readers.py\u001b[0m in \u001b[0;36mread_csv\u001b[0;34m(filepath_or_buffer, sep, delimiter, header, names, index_col, usecols, squeeze, prefix, mangle_dupe_cols, dtype, engine, converters, true_values, false_values, skipinitialspace, skiprows, skipfooter, nrows, na_values, keep_default_na, na_filter, verbose, skip_blank_lines, parse_dates, infer_datetime_format, keep_date_col, date_parser, dayfirst, cache_dates, iterator, chunksize, compression, thousands, decimal, lineterminator, quotechar, quoting, doublequote, escapechar, comment, encoding, encoding_errors, dialect, error_bad_lines, warn_bad_lines, on_bad_lines, delim_whitespace, low_memory, memory_map, float_precision, storage_options)\u001b[0m\n\u001b[1;32m    584\u001b[0m     \u001b[0mkwds\u001b[0m\u001b[0;34m.\u001b[0m\u001b[0mupdate\u001b[0m\u001b[0;34m(\u001b[0m\u001b[0mkwds_defaults\u001b[0m\u001b[0;34m)\u001b[0m\u001b[0;34m\u001b[0m\u001b[0;34m\u001b[0m\u001b[0m\n\u001b[1;32m    585\u001b[0m \u001b[0;34m\u001b[0m\u001b[0m\n\u001b[0;32m--> 586\u001b[0;31m     \u001b[0;32mreturn\u001b[0m \u001b[0m_read\u001b[0m\u001b[0;34m(\u001b[0m\u001b[0mfilepath_or_buffer\u001b[0m\u001b[0;34m,\u001b[0m \u001b[0mkwds\u001b[0m\u001b[0;34m)\u001b[0m\u001b[0;34m\u001b[0m\u001b[0;34m\u001b[0m\u001b[0m\n\u001b[0m\u001b[1;32m    587\u001b[0m \u001b[0;34m\u001b[0m\u001b[0m\n\u001b[1;32m    588\u001b[0m \u001b[0;34m\u001b[0m\u001b[0m\n",
            "\u001b[0;32m/usr/local/lib/python3.7/dist-packages/pandas/io/parsers/readers.py\u001b[0m in \u001b[0;36m_read\u001b[0;34m(filepath_or_buffer, kwds)\u001b[0m\n\u001b[1;32m    480\u001b[0m \u001b[0;34m\u001b[0m\u001b[0m\n\u001b[1;32m    481\u001b[0m     \u001b[0;31m# Create the parser.\u001b[0m\u001b[0;34m\u001b[0m\u001b[0;34m\u001b[0m\u001b[0;34m\u001b[0m\u001b[0m\n\u001b[0;32m--> 482\u001b[0;31m     \u001b[0mparser\u001b[0m \u001b[0;34m=\u001b[0m \u001b[0mTextFileReader\u001b[0m\u001b[0;34m(\u001b[0m\u001b[0mfilepath_or_buffer\u001b[0m\u001b[0;34m,\u001b[0m \u001b[0;34m**\u001b[0m\u001b[0mkwds\u001b[0m\u001b[0;34m)\u001b[0m\u001b[0;34m\u001b[0m\u001b[0;34m\u001b[0m\u001b[0m\n\u001b[0m\u001b[1;32m    483\u001b[0m \u001b[0;34m\u001b[0m\u001b[0m\n\u001b[1;32m    484\u001b[0m     \u001b[0;32mif\u001b[0m \u001b[0mchunksize\u001b[0m \u001b[0;32mor\u001b[0m \u001b[0miterator\u001b[0m\u001b[0;34m:\u001b[0m\u001b[0;34m\u001b[0m\u001b[0;34m\u001b[0m\u001b[0m\n",
            "\u001b[0;32m/usr/local/lib/python3.7/dist-packages/pandas/io/parsers/readers.py\u001b[0m in \u001b[0;36m__init__\u001b[0;34m(self, f, engine, **kwds)\u001b[0m\n\u001b[1;32m    809\u001b[0m             \u001b[0mself\u001b[0m\u001b[0;34m.\u001b[0m\u001b[0moptions\u001b[0m\u001b[0;34m[\u001b[0m\u001b[0;34m\"has_index_names\"\u001b[0m\u001b[0;34m]\u001b[0m \u001b[0;34m=\u001b[0m \u001b[0mkwds\u001b[0m\u001b[0;34m[\u001b[0m\u001b[0;34m\"has_index_names\"\u001b[0m\u001b[0;34m]\u001b[0m\u001b[0;34m\u001b[0m\u001b[0;34m\u001b[0m\u001b[0m\n\u001b[1;32m    810\u001b[0m \u001b[0;34m\u001b[0m\u001b[0m\n\u001b[0;32m--> 811\u001b[0;31m         \u001b[0mself\u001b[0m\u001b[0;34m.\u001b[0m\u001b[0m_engine\u001b[0m \u001b[0;34m=\u001b[0m \u001b[0mself\u001b[0m\u001b[0;34m.\u001b[0m\u001b[0m_make_engine\u001b[0m\u001b[0;34m(\u001b[0m\u001b[0mself\u001b[0m\u001b[0;34m.\u001b[0m\u001b[0mengine\u001b[0m\u001b[0;34m)\u001b[0m\u001b[0;34m\u001b[0m\u001b[0;34m\u001b[0m\u001b[0m\n\u001b[0m\u001b[1;32m    812\u001b[0m \u001b[0;34m\u001b[0m\u001b[0m\n\u001b[1;32m    813\u001b[0m     \u001b[0;32mdef\u001b[0m \u001b[0mclose\u001b[0m\u001b[0;34m(\u001b[0m\u001b[0mself\u001b[0m\u001b[0;34m)\u001b[0m\u001b[0;34m:\u001b[0m\u001b[0;34m\u001b[0m\u001b[0;34m\u001b[0m\u001b[0m\n",
            "\u001b[0;32m/usr/local/lib/python3.7/dist-packages/pandas/io/parsers/readers.py\u001b[0m in \u001b[0;36m_make_engine\u001b[0;34m(self, engine)\u001b[0m\n\u001b[1;32m   1038\u001b[0m             )\n\u001b[1;32m   1039\u001b[0m         \u001b[0;31m# error: Too many arguments for \"ParserBase\"\u001b[0m\u001b[0;34m\u001b[0m\u001b[0;34m\u001b[0m\u001b[0;34m\u001b[0m\u001b[0m\n\u001b[0;32m-> 1040\u001b[0;31m         \u001b[0;32mreturn\u001b[0m \u001b[0mmapping\u001b[0m\u001b[0;34m[\u001b[0m\u001b[0mengine\u001b[0m\u001b[0;34m]\u001b[0m\u001b[0;34m(\u001b[0m\u001b[0mself\u001b[0m\u001b[0;34m.\u001b[0m\u001b[0mf\u001b[0m\u001b[0;34m,\u001b[0m \u001b[0;34m**\u001b[0m\u001b[0mself\u001b[0m\u001b[0;34m.\u001b[0m\u001b[0moptions\u001b[0m\u001b[0;34m)\u001b[0m  \u001b[0;31m# type: ignore[call-arg]\u001b[0m\u001b[0;34m\u001b[0m\u001b[0;34m\u001b[0m\u001b[0m\n\u001b[0m\u001b[1;32m   1041\u001b[0m \u001b[0;34m\u001b[0m\u001b[0m\n\u001b[1;32m   1042\u001b[0m     \u001b[0;32mdef\u001b[0m \u001b[0m_failover_to_python\u001b[0m\u001b[0;34m(\u001b[0m\u001b[0mself\u001b[0m\u001b[0;34m)\u001b[0m\u001b[0;34m:\u001b[0m\u001b[0;34m\u001b[0m\u001b[0;34m\u001b[0m\u001b[0m\n",
            "\u001b[0;32m/usr/local/lib/python3.7/dist-packages/pandas/io/parsers/c_parser_wrapper.py\u001b[0m in \u001b[0;36m__init__\u001b[0;34m(self, src, **kwds)\u001b[0m\n\u001b[1;32m     49\u001b[0m \u001b[0;34m\u001b[0m\u001b[0m\n\u001b[1;32m     50\u001b[0m         \u001b[0;31m# open handles\u001b[0m\u001b[0;34m\u001b[0m\u001b[0;34m\u001b[0m\u001b[0;34m\u001b[0m\u001b[0m\n\u001b[0;32m---> 51\u001b[0;31m         \u001b[0mself\u001b[0m\u001b[0;34m.\u001b[0m\u001b[0m_open_handles\u001b[0m\u001b[0;34m(\u001b[0m\u001b[0msrc\u001b[0m\u001b[0;34m,\u001b[0m \u001b[0mkwds\u001b[0m\u001b[0;34m)\u001b[0m\u001b[0;34m\u001b[0m\u001b[0;34m\u001b[0m\u001b[0m\n\u001b[0m\u001b[1;32m     52\u001b[0m         \u001b[0;32massert\u001b[0m \u001b[0mself\u001b[0m\u001b[0;34m.\u001b[0m\u001b[0mhandles\u001b[0m \u001b[0;32mis\u001b[0m \u001b[0;32mnot\u001b[0m \u001b[0;32mNone\u001b[0m\u001b[0;34m\u001b[0m\u001b[0;34m\u001b[0m\u001b[0m\n\u001b[1;32m     53\u001b[0m \u001b[0;34m\u001b[0m\u001b[0m\n",
            "\u001b[0;32m/usr/local/lib/python3.7/dist-packages/pandas/io/parsers/base_parser.py\u001b[0m in \u001b[0;36m_open_handles\u001b[0;34m(self, src, kwds)\u001b[0m\n\u001b[1;32m    227\u001b[0m             \u001b[0mmemory_map\u001b[0m\u001b[0;34m=\u001b[0m\u001b[0mkwds\u001b[0m\u001b[0;34m.\u001b[0m\u001b[0mget\u001b[0m\u001b[0;34m(\u001b[0m\u001b[0;34m\"memory_map\"\u001b[0m\u001b[0;34m,\u001b[0m \u001b[0;32mFalse\u001b[0m\u001b[0;34m)\u001b[0m\u001b[0;34m,\u001b[0m\u001b[0;34m\u001b[0m\u001b[0;34m\u001b[0m\u001b[0m\n\u001b[1;32m    228\u001b[0m             \u001b[0mstorage_options\u001b[0m\u001b[0;34m=\u001b[0m\u001b[0mkwds\u001b[0m\u001b[0;34m.\u001b[0m\u001b[0mget\u001b[0m\u001b[0;34m(\u001b[0m\u001b[0;34m\"storage_options\"\u001b[0m\u001b[0;34m,\u001b[0m \u001b[0;32mNone\u001b[0m\u001b[0;34m)\u001b[0m\u001b[0;34m,\u001b[0m\u001b[0;34m\u001b[0m\u001b[0;34m\u001b[0m\u001b[0m\n\u001b[0;32m--> 229\u001b[0;31m             \u001b[0merrors\u001b[0m\u001b[0;34m=\u001b[0m\u001b[0mkwds\u001b[0m\u001b[0;34m.\u001b[0m\u001b[0mget\u001b[0m\u001b[0;34m(\u001b[0m\u001b[0;34m\"encoding_errors\"\u001b[0m\u001b[0;34m,\u001b[0m \u001b[0;34m\"strict\"\u001b[0m\u001b[0;34m)\u001b[0m\u001b[0;34m,\u001b[0m\u001b[0;34m\u001b[0m\u001b[0;34m\u001b[0m\u001b[0m\n\u001b[0m\u001b[1;32m    230\u001b[0m         )\n\u001b[1;32m    231\u001b[0m \u001b[0;34m\u001b[0m\u001b[0m\n",
            "\u001b[0;32m/usr/local/lib/python3.7/dist-packages/pandas/io/common.py\u001b[0m in \u001b[0;36mget_handle\u001b[0;34m(path_or_buf, mode, encoding, compression, memory_map, is_text, errors, storage_options)\u001b[0m\n\u001b[1;32m    705\u001b[0m                 \u001b[0mencoding\u001b[0m\u001b[0;34m=\u001b[0m\u001b[0mioargs\u001b[0m\u001b[0;34m.\u001b[0m\u001b[0mencoding\u001b[0m\u001b[0;34m,\u001b[0m\u001b[0;34m\u001b[0m\u001b[0;34m\u001b[0m\u001b[0m\n\u001b[1;32m    706\u001b[0m                 \u001b[0merrors\u001b[0m\u001b[0;34m=\u001b[0m\u001b[0merrors\u001b[0m\u001b[0;34m,\u001b[0m\u001b[0;34m\u001b[0m\u001b[0;34m\u001b[0m\u001b[0m\n\u001b[0;32m--> 707\u001b[0;31m                 \u001b[0mnewline\u001b[0m\u001b[0;34m=\u001b[0m\u001b[0;34m\"\"\u001b[0m\u001b[0;34m,\u001b[0m\u001b[0;34m\u001b[0m\u001b[0;34m\u001b[0m\u001b[0m\n\u001b[0m\u001b[1;32m    708\u001b[0m             )\n\u001b[1;32m    709\u001b[0m         \u001b[0;32melse\u001b[0m\u001b[0;34m:\u001b[0m\u001b[0;34m\u001b[0m\u001b[0;34m\u001b[0m\u001b[0m\n",
            "\u001b[0;31mFileNotFoundError\u001b[0m: [Errno 2] No such file or directory: '/content/drive/MyDrive/Spark/master_df.txt'"
          ]
        }
      ]
    },
    {
      "cell_type": "code",
      "source": [
        "master_df.tail()"
      ],
      "metadata": {
        "colab": {
          "base_uri": "https://localhost:8080/",
          "height": 322
        },
        "id": "qYUhZXLJvAVs",
        "outputId": "5d957787-b431-486c-83a6-344754941965"
      },
      "execution_count": null,
      "outputs": [
        {
          "output_type": "execute_result",
          "data": {
            "text/plain": [
              "                                order_id                       customer_id  \\\n",
              "152805  fc703730f6206ec478cae91c89f7dcb3  d99700792f0811f23d94f2edb64634f8   \n",
              "152806  f1a1942c32bd91ad8368164ae571b8f7  9632f1ff07591588a9596b99f8515c03   \n",
              "152807  ff64e0ba4800eb1127ac32aeac2b51f9  16482587049b0c2a607dd532d0653696   \n",
              "152808  ada8de3a9486cea2fce7f4b00319cf3c  9065a96b91a08c08755c4ea2618884f2   \n",
              "152809  cfa78b997e329a5295b4ee6972c02979  a2f7428f0cafbc8e59f20e1444b67315   \n",
              "\n",
              "       order_purchase_timestamp  order_item_id  \\\n",
              "152805      2018-07-28 18:01:11              1   \n",
              "152806      2018-04-16 20:51:56              1   \n",
              "152807      2017-11-20 16:46:51              1   \n",
              "152808      2018-07-09 18:25:16              1   \n",
              "152809      2017-12-20 09:52:41              1   \n",
              "\n",
              "                              product_id                         seller_id  \\\n",
              "152805  47d4f578b4130f61735dcfb66c38cb5e  0be8ff43f22e456b4e0371b2245e4d01   \n",
              "152806  03d463c3dea9d1650ce0683b7c964b03  ea8482cd71df3c1969d7b9473ff13abc   \n",
              "152807  9a3ba846b3c74a316408ccf07a40374b  26d8a1c7c75d513045798992ead43aa2   \n",
              "152808  77b00b27cdf648f59626359c392cee1d  7142540dd4c91e2237acb7e911c4eba2   \n",
              "152809  3d2c44374ee42b3003a470f3e937a2ea  ce248b21cb2adc36282ede306b7660e5   \n",
              "\n",
              "         price  review_score  \\\n",
              "152805   39.90             4   \n",
              "152806   21.99             4   \n",
              "152807  129.99             4   \n",
              "152808   99.90             5   \n",
              "152809   55.90             1   \n",
              "\n",
              "                                   review_comment_message  \\\n",
              "152805                                   no comment given   \n",
              "152806                                         Recomendo    \n",
              "152807                                   no comment given   \n",
              "152808    Eu gostei de comprar sim chegou no prazo certo    \n",
              "152809  Ele não é um mini cajon, é um shaker, ou seja,...   \n",
              "\n",
              "                      customer_unique_id  customer_zip_code_prefix  \\\n",
              "152805  8b8c8f067a3faaf116211277147a88de                     35494   \n",
              "152806  1ef6a1d949703afd7a74347aed3b0503                     77413   \n",
              "152807  ebc6df639d125e446f07c0e9b1e47b90                     32250   \n",
              "152808  ed81a42bec90c87578108d2e4c742d20                     44798   \n",
              "152809  a49e8e11e850592fe685ae3c64b40eca                     83870   \n",
              "\n",
              "                 customer_city customer_state product_category_name  \\\n",
              "152805  desterro de entre rios             MG        sports_leisure   \n",
              "152806                  gurupi             TO             telephony   \n",
              "152807                contagem             MG             perfumery   \n",
              "152808               umburanas             BA                  auto   \n",
              "152809        campo do tenente             PR   musical_instruments   \n",
              "\n",
              "        product_photos_qty  product_weight_g  seller_zip_code_prefix  \\\n",
              "152805                 2.0             750.0                    4461   \n",
              "152806                 5.0             350.0                    4160   \n",
              "152807                 3.0             505.0                   86800   \n",
              "152808                 6.0             650.0                   16301   \n",
              "152809                 2.0             300.0                   89251   \n",
              "\n",
              "           seller_city seller_state  \n",
              "152805       sao paulo           SP  \n",
              "152806       sao paulo           SP  \n",
              "152807       apucarana           PR  \n",
              "152808       penapolis           SP  \n",
              "152809  jaragua do sul           SC  "
            ],
            "text/html": [
              "\n",
              "  <div id=\"df-ae771d1e-bd46-4689-9b43-3c2c1b3f1fb5\">\n",
              "    <div class=\"colab-df-container\">\n",
              "      <div>\n",
              "<style scoped>\n",
              "    .dataframe tbody tr th:only-of-type {\n",
              "        vertical-align: middle;\n",
              "    }\n",
              "\n",
              "    .dataframe tbody tr th {\n",
              "        vertical-align: top;\n",
              "    }\n",
              "\n",
              "    .dataframe thead th {\n",
              "        text-align: right;\n",
              "    }\n",
              "</style>\n",
              "<table border=\"1\" class=\"dataframe\">\n",
              "  <thead>\n",
              "    <tr style=\"text-align: right;\">\n",
              "      <th></th>\n",
              "      <th>order_id</th>\n",
              "      <th>customer_id</th>\n",
              "      <th>order_purchase_timestamp</th>\n",
              "      <th>order_item_id</th>\n",
              "      <th>product_id</th>\n",
              "      <th>seller_id</th>\n",
              "      <th>price</th>\n",
              "      <th>review_score</th>\n",
              "      <th>review_comment_message</th>\n",
              "      <th>customer_unique_id</th>\n",
              "      <th>customer_zip_code_prefix</th>\n",
              "      <th>customer_city</th>\n",
              "      <th>customer_state</th>\n",
              "      <th>product_category_name</th>\n",
              "      <th>product_photos_qty</th>\n",
              "      <th>product_weight_g</th>\n",
              "      <th>seller_zip_code_prefix</th>\n",
              "      <th>seller_city</th>\n",
              "      <th>seller_state</th>\n",
              "    </tr>\n",
              "  </thead>\n",
              "  <tbody>\n",
              "    <tr>\n",
              "      <th>152805</th>\n",
              "      <td>fc703730f6206ec478cae91c89f7dcb3</td>\n",
              "      <td>d99700792f0811f23d94f2edb64634f8</td>\n",
              "      <td>2018-07-28 18:01:11</td>\n",
              "      <td>1</td>\n",
              "      <td>47d4f578b4130f61735dcfb66c38cb5e</td>\n",
              "      <td>0be8ff43f22e456b4e0371b2245e4d01</td>\n",
              "      <td>39.90</td>\n",
              "      <td>4</td>\n",
              "      <td>no comment given</td>\n",
              "      <td>8b8c8f067a3faaf116211277147a88de</td>\n",
              "      <td>35494</td>\n",
              "      <td>desterro de entre rios</td>\n",
              "      <td>MG</td>\n",
              "      <td>sports_leisure</td>\n",
              "      <td>2.0</td>\n",
              "      <td>750.0</td>\n",
              "      <td>4461</td>\n",
              "      <td>sao paulo</td>\n",
              "      <td>SP</td>\n",
              "    </tr>\n",
              "    <tr>\n",
              "      <th>152806</th>\n",
              "      <td>f1a1942c32bd91ad8368164ae571b8f7</td>\n",
              "      <td>9632f1ff07591588a9596b99f8515c03</td>\n",
              "      <td>2018-04-16 20:51:56</td>\n",
              "      <td>1</td>\n",
              "      <td>03d463c3dea9d1650ce0683b7c964b03</td>\n",
              "      <td>ea8482cd71df3c1969d7b9473ff13abc</td>\n",
              "      <td>21.99</td>\n",
              "      <td>4</td>\n",
              "      <td>Recomendo</td>\n",
              "      <td>1ef6a1d949703afd7a74347aed3b0503</td>\n",
              "      <td>77413</td>\n",
              "      <td>gurupi</td>\n",
              "      <td>TO</td>\n",
              "      <td>telephony</td>\n",
              "      <td>5.0</td>\n",
              "      <td>350.0</td>\n",
              "      <td>4160</td>\n",
              "      <td>sao paulo</td>\n",
              "      <td>SP</td>\n",
              "    </tr>\n",
              "    <tr>\n",
              "      <th>152807</th>\n",
              "      <td>ff64e0ba4800eb1127ac32aeac2b51f9</td>\n",
              "      <td>16482587049b0c2a607dd532d0653696</td>\n",
              "      <td>2017-11-20 16:46:51</td>\n",
              "      <td>1</td>\n",
              "      <td>9a3ba846b3c74a316408ccf07a40374b</td>\n",
              "      <td>26d8a1c7c75d513045798992ead43aa2</td>\n",
              "      <td>129.99</td>\n",
              "      <td>4</td>\n",
              "      <td>no comment given</td>\n",
              "      <td>ebc6df639d125e446f07c0e9b1e47b90</td>\n",
              "      <td>32250</td>\n",
              "      <td>contagem</td>\n",
              "      <td>MG</td>\n",
              "      <td>perfumery</td>\n",
              "      <td>3.0</td>\n",
              "      <td>505.0</td>\n",
              "      <td>86800</td>\n",
              "      <td>apucarana</td>\n",
              "      <td>PR</td>\n",
              "    </tr>\n",
              "    <tr>\n",
              "      <th>152808</th>\n",
              "      <td>ada8de3a9486cea2fce7f4b00319cf3c</td>\n",
              "      <td>9065a96b91a08c08755c4ea2618884f2</td>\n",
              "      <td>2018-07-09 18:25:16</td>\n",
              "      <td>1</td>\n",
              "      <td>77b00b27cdf648f59626359c392cee1d</td>\n",
              "      <td>7142540dd4c91e2237acb7e911c4eba2</td>\n",
              "      <td>99.90</td>\n",
              "      <td>5</td>\n",
              "      <td>Eu gostei de comprar sim chegou no prazo certo</td>\n",
              "      <td>ed81a42bec90c87578108d2e4c742d20</td>\n",
              "      <td>44798</td>\n",
              "      <td>umburanas</td>\n",
              "      <td>BA</td>\n",
              "      <td>auto</td>\n",
              "      <td>6.0</td>\n",
              "      <td>650.0</td>\n",
              "      <td>16301</td>\n",
              "      <td>penapolis</td>\n",
              "      <td>SP</td>\n",
              "    </tr>\n",
              "    <tr>\n",
              "      <th>152809</th>\n",
              "      <td>cfa78b997e329a5295b4ee6972c02979</td>\n",
              "      <td>a2f7428f0cafbc8e59f20e1444b67315</td>\n",
              "      <td>2017-12-20 09:52:41</td>\n",
              "      <td>1</td>\n",
              "      <td>3d2c44374ee42b3003a470f3e937a2ea</td>\n",
              "      <td>ce248b21cb2adc36282ede306b7660e5</td>\n",
              "      <td>55.90</td>\n",
              "      <td>1</td>\n",
              "      <td>Ele não é um mini cajon, é um shaker, ou seja,...</td>\n",
              "      <td>a49e8e11e850592fe685ae3c64b40eca</td>\n",
              "      <td>83870</td>\n",
              "      <td>campo do tenente</td>\n",
              "      <td>PR</td>\n",
              "      <td>musical_instruments</td>\n",
              "      <td>2.0</td>\n",
              "      <td>300.0</td>\n",
              "      <td>89251</td>\n",
              "      <td>jaragua do sul</td>\n",
              "      <td>SC</td>\n",
              "    </tr>\n",
              "  </tbody>\n",
              "</table>\n",
              "</div>\n",
              "      <button class=\"colab-df-convert\" onclick=\"convertToInteractive('df-ae771d1e-bd46-4689-9b43-3c2c1b3f1fb5')\"\n",
              "              title=\"Convert this dataframe to an interactive table.\"\n",
              "              style=\"display:none;\">\n",
              "        \n",
              "  <svg xmlns=\"http://www.w3.org/2000/svg\" height=\"24px\"viewBox=\"0 0 24 24\"\n",
              "       width=\"24px\">\n",
              "    <path d=\"M0 0h24v24H0V0z\" fill=\"none\"/>\n",
              "    <path d=\"M18.56 5.44l.94 2.06.94-2.06 2.06-.94-2.06-.94-.94-2.06-.94 2.06-2.06.94zm-11 1L8.5 8.5l.94-2.06 2.06-.94-2.06-.94L8.5 2.5l-.94 2.06-2.06.94zm10 10l.94 2.06.94-2.06 2.06-.94-2.06-.94-.94-2.06-.94 2.06-2.06.94z\"/><path d=\"M17.41 7.96l-1.37-1.37c-.4-.4-.92-.59-1.43-.59-.52 0-1.04.2-1.43.59L10.3 9.45l-7.72 7.72c-.78.78-.78 2.05 0 2.83L4 21.41c.39.39.9.59 1.41.59.51 0 1.02-.2 1.41-.59l7.78-7.78 2.81-2.81c.8-.78.8-2.07 0-2.86zM5.41 20L4 18.59l7.72-7.72 1.47 1.35L5.41 20z\"/>\n",
              "  </svg>\n",
              "      </button>\n",
              "      \n",
              "  <style>\n",
              "    .colab-df-container {\n",
              "      display:flex;\n",
              "      flex-wrap:wrap;\n",
              "      gap: 12px;\n",
              "    }\n",
              "\n",
              "    .colab-df-convert {\n",
              "      background-color: #E8F0FE;\n",
              "      border: none;\n",
              "      border-radius: 50%;\n",
              "      cursor: pointer;\n",
              "      display: none;\n",
              "      fill: #1967D2;\n",
              "      height: 32px;\n",
              "      padding: 0 0 0 0;\n",
              "      width: 32px;\n",
              "    }\n",
              "\n",
              "    .colab-df-convert:hover {\n",
              "      background-color: #E2EBFA;\n",
              "      box-shadow: 0px 1px 2px rgba(60, 64, 67, 0.3), 0px 1px 3px 1px rgba(60, 64, 67, 0.15);\n",
              "      fill: #174EA6;\n",
              "    }\n",
              "\n",
              "    [theme=dark] .colab-df-convert {\n",
              "      background-color: #3B4455;\n",
              "      fill: #D2E3FC;\n",
              "    }\n",
              "\n",
              "    [theme=dark] .colab-df-convert:hover {\n",
              "      background-color: #434B5C;\n",
              "      box-shadow: 0px 1px 3px 1px rgba(0, 0, 0, 0.15);\n",
              "      filter: drop-shadow(0px 1px 2px rgba(0, 0, 0, 0.3));\n",
              "      fill: #FFFFFF;\n",
              "    }\n",
              "  </style>\n",
              "\n",
              "      <script>\n",
              "        const buttonEl =\n",
              "          document.querySelector('#df-ae771d1e-bd46-4689-9b43-3c2c1b3f1fb5 button.colab-df-convert');\n",
              "        buttonEl.style.display =\n",
              "          google.colab.kernel.accessAllowed ? 'block' : 'none';\n",
              "\n",
              "        async function convertToInteractive(key) {\n",
              "          const element = document.querySelector('#df-ae771d1e-bd46-4689-9b43-3c2c1b3f1fb5');\n",
              "          const dataTable =\n",
              "            await google.colab.kernel.invokeFunction('convertToInteractive',\n",
              "                                                     [key], {});\n",
              "          if (!dataTable) return;\n",
              "\n",
              "          const docLinkHtml = 'Like what you see? Visit the ' +\n",
              "            '<a target=\"_blank\" href=https://colab.research.google.com/notebooks/data_table.ipynb>data table notebook</a>'\n",
              "            + ' to learn more about interactive tables.';\n",
              "          element.innerHTML = '';\n",
              "          dataTable['output_type'] = 'display_data';\n",
              "          await google.colab.output.renderOutput(dataTable, element);\n",
              "          const docLink = document.createElement('div');\n",
              "          docLink.innerHTML = docLinkHtml;\n",
              "          element.appendChild(docLink);\n",
              "        }\n",
              "      </script>\n",
              "    </div>\n",
              "  </div>\n",
              "  "
            ]
          },
          "metadata": {},
          "execution_count": 8
        }
      ]
    },
    {
      "cell_type": "code",
      "source": [
        "#Dropping the duplicates from order_id,order_item_id columns and removing null values from the dataset\n",
        "master_df = master_df.drop_duplicates(['order_id', 'order_item_id']).dropna().reset_index(drop=True)"
      ],
      "metadata": {
        "id": "qqB5xjnCwPce"
      },
      "execution_count": null,
      "outputs": []
    },
    {
      "cell_type": "code",
      "source": [
        "master_df.product_category_name.value_counts()[:20]\n"
      ],
      "metadata": {
        "colab": {
          "base_uri": "https://localhost:8080/"
        },
        "id": "gzzoMVqKwBA_",
        "outputId": "37fccfb1-4b8a-4254-8bfa-6238e0fca70a"
      },
      "execution_count": null,
      "outputs": [
        {
          "output_type": "execute_result",
          "data": {
            "text/plain": [
              "bed_bath_table              10925\n",
              "health_beauty                9438\n",
              "sports_leisure               8412\n",
              "furniture_decor              8137\n",
              "computers_accessories        7622\n",
              "housewares                   6777\n",
              "watches_gifts                5835\n",
              "telephony                    4400\n",
              "garden_tools                 4256\n",
              "auto                         4130\n",
              "toys                         3995\n",
              "cool_stuff                   3672\n",
              "perfumery                    3325\n",
              "baby                         2972\n",
              "electronics                  2636\n",
              "stationery                   2452\n",
              "fashion_bags_accessories     1978\n",
              "pet_shop                     1903\n",
              "office_furniture             1662\n",
              "consoles_games               1085\n",
              "Name: product_category_name, dtype: int64"
            ]
          },
          "metadata": {},
          "execution_count": 10
        }
      ]
    },
    {
      "cell_type": "markdown",
      "source": [
        "#Create user product interaction"
      ],
      "metadata": {
        "id": "4zZUiZHsyL_3"
      }
    },
    {
      "cell_type": "code",
      "source": [
        "item_features = master_df[['customer_unique_id', 'customer_id','product_id', 'order_id', 'product_category_name', 'order_item_id', 'seller_id', 'review_score', \n",
        "                          'review_comment_message', 'seller_city', 'seller_state', 'price']]"
      ],
      "metadata": {
        "id": "Bi3EKk0ZwKyI"
      },
      "execution_count": null,
      "outputs": []
    },
    {
      "cell_type": "code",
      "source": [
        "item_features.head(5)"
      ],
      "metadata": {
        "colab": {
          "base_uri": "https://localhost:8080/",
          "height": 339
        },
        "id": "JCbTrEagAtvp",
        "outputId": "b6b39147-7bcb-47c7-cd50-11a551ef6f24"
      },
      "execution_count": null,
      "outputs": [
        {
          "output_type": "execute_result",
          "data": {
            "text/plain": [
              "                 customer_unique_id                       customer_id  \\\n",
              "0  7c396fd4830fd04220f754e42b4e5bff  9ef432eb6251297304e76186b10a928d   \n",
              "1  e781fdcc107d13d865fc7698711cc572  53904ddbea91e1e92b2b3f1d09a7af86   \n",
              "2  3a51803cc0d012c3b5dc8b7528cb05f7  a20e8105f23924cd00833fd87daa0831   \n",
              "3  ef0996a1a279c26e7ecbd737be23d235  26c7ac168e1433912a51b924fbd34d34   \n",
              "4  8a4002923e801e3120a11070fd31c9e2  8e8ee9b08afb49b080d193f98b0505af   \n",
              "\n",
              "                         product_id                          order_id  \\\n",
              "0  87285b34884572647811a353c7ac498a  e481f51cbdc54678b7cc49136f2d6af7   \n",
              "1  87285b34884572647811a353c7ac498a  bfc39df4f36c3693ff3b63fcbea9e90a   \n",
              "2  87285b34884572647811a353c7ac498a  128e10d95713541c87cd1a2e48201934   \n",
              "3  87285b34884572647811a353c7ac498a  0e7e841ddf8f8f2de2bad69267ecfbcf   \n",
              "4  6cc44821f36f3156c782da72dd634e47  70b35acffdf851e782ebf6fbc35eb620   \n",
              "\n",
              "  product_category_name  order_item_id                         seller_id  \\\n",
              "0            housewares              1  3504c0cb71d7fa48d967e0e4c94d59d9   \n",
              "1            housewares              1  3504c0cb71d7fa48d967e0e4c94d59d9   \n",
              "2            housewares              1  3504c0cb71d7fa48d967e0e4c94d59d9   \n",
              "3            housewares              1  3504c0cb71d7fa48d967e0e4c94d59d9   \n",
              "4        bed_bath_table              1  da8622b14eb17ae2831f4ac5b9dab84a   \n",
              "\n",
              "   review_score                             review_comment_message  \\\n",
              "0             4  Não testei o produto ainda, mas ele veio corre...   \n",
              "1             3                                   no comment given   \n",
              "2             4  Deveriam embalar melhor o produto. A caixa vei...   \n",
              "3             5  Só achei ela pequena pra seis xícaras ,mais é ...   \n",
              "4             5  Nâo sabia da entrega aos domingos pelo correio...   \n",
              "\n",
              "  seller_city seller_state  price  \n",
              "0        maua           SP  29.99  \n",
              "1        maua           SP  29.99  \n",
              "2        maua           SP  29.99  \n",
              "3        maua           SP  29.99  \n",
              "4  piracicaba           SP  99.90  "
            ],
            "text/html": [
              "\n",
              "  <div id=\"df-aead70e4-a041-447e-9ad2-1ad4c932c613\">\n",
              "    <div class=\"colab-df-container\">\n",
              "      <div>\n",
              "<style scoped>\n",
              "    .dataframe tbody tr th:only-of-type {\n",
              "        vertical-align: middle;\n",
              "    }\n",
              "\n",
              "    .dataframe tbody tr th {\n",
              "        vertical-align: top;\n",
              "    }\n",
              "\n",
              "    .dataframe thead th {\n",
              "        text-align: right;\n",
              "    }\n",
              "</style>\n",
              "<table border=\"1\" class=\"dataframe\">\n",
              "  <thead>\n",
              "    <tr style=\"text-align: right;\">\n",
              "      <th></th>\n",
              "      <th>customer_unique_id</th>\n",
              "      <th>customer_id</th>\n",
              "      <th>product_id</th>\n",
              "      <th>order_id</th>\n",
              "      <th>product_category_name</th>\n",
              "      <th>order_item_id</th>\n",
              "      <th>seller_id</th>\n",
              "      <th>review_score</th>\n",
              "      <th>review_comment_message</th>\n",
              "      <th>seller_city</th>\n",
              "      <th>seller_state</th>\n",
              "      <th>price</th>\n",
              "    </tr>\n",
              "  </thead>\n",
              "  <tbody>\n",
              "    <tr>\n",
              "      <th>0</th>\n",
              "      <td>7c396fd4830fd04220f754e42b4e5bff</td>\n",
              "      <td>9ef432eb6251297304e76186b10a928d</td>\n",
              "      <td>87285b34884572647811a353c7ac498a</td>\n",
              "      <td>e481f51cbdc54678b7cc49136f2d6af7</td>\n",
              "      <td>housewares</td>\n",
              "      <td>1</td>\n",
              "      <td>3504c0cb71d7fa48d967e0e4c94d59d9</td>\n",
              "      <td>4</td>\n",
              "      <td>Não testei o produto ainda, mas ele veio corre...</td>\n",
              "      <td>maua</td>\n",
              "      <td>SP</td>\n",
              "      <td>29.99</td>\n",
              "    </tr>\n",
              "    <tr>\n",
              "      <th>1</th>\n",
              "      <td>e781fdcc107d13d865fc7698711cc572</td>\n",
              "      <td>53904ddbea91e1e92b2b3f1d09a7af86</td>\n",
              "      <td>87285b34884572647811a353c7ac498a</td>\n",
              "      <td>bfc39df4f36c3693ff3b63fcbea9e90a</td>\n",
              "      <td>housewares</td>\n",
              "      <td>1</td>\n",
              "      <td>3504c0cb71d7fa48d967e0e4c94d59d9</td>\n",
              "      <td>3</td>\n",
              "      <td>no comment given</td>\n",
              "      <td>maua</td>\n",
              "      <td>SP</td>\n",
              "      <td>29.99</td>\n",
              "    </tr>\n",
              "    <tr>\n",
              "      <th>2</th>\n",
              "      <td>3a51803cc0d012c3b5dc8b7528cb05f7</td>\n",
              "      <td>a20e8105f23924cd00833fd87daa0831</td>\n",
              "      <td>87285b34884572647811a353c7ac498a</td>\n",
              "      <td>128e10d95713541c87cd1a2e48201934</td>\n",
              "      <td>housewares</td>\n",
              "      <td>1</td>\n",
              "      <td>3504c0cb71d7fa48d967e0e4c94d59d9</td>\n",
              "      <td>4</td>\n",
              "      <td>Deveriam embalar melhor o produto. A caixa vei...</td>\n",
              "      <td>maua</td>\n",
              "      <td>SP</td>\n",
              "      <td>29.99</td>\n",
              "    </tr>\n",
              "    <tr>\n",
              "      <th>3</th>\n",
              "      <td>ef0996a1a279c26e7ecbd737be23d235</td>\n",
              "      <td>26c7ac168e1433912a51b924fbd34d34</td>\n",
              "      <td>87285b34884572647811a353c7ac498a</td>\n",
              "      <td>0e7e841ddf8f8f2de2bad69267ecfbcf</td>\n",
              "      <td>housewares</td>\n",
              "      <td>1</td>\n",
              "      <td>3504c0cb71d7fa48d967e0e4c94d59d9</td>\n",
              "      <td>5</td>\n",
              "      <td>Só achei ela pequena pra seis xícaras ,mais é ...</td>\n",
              "      <td>maua</td>\n",
              "      <td>SP</td>\n",
              "      <td>29.99</td>\n",
              "    </tr>\n",
              "    <tr>\n",
              "      <th>4</th>\n",
              "      <td>8a4002923e801e3120a11070fd31c9e2</td>\n",
              "      <td>8e8ee9b08afb49b080d193f98b0505af</td>\n",
              "      <td>6cc44821f36f3156c782da72dd634e47</td>\n",
              "      <td>70b35acffdf851e782ebf6fbc35eb620</td>\n",
              "      <td>bed_bath_table</td>\n",
              "      <td>1</td>\n",
              "      <td>da8622b14eb17ae2831f4ac5b9dab84a</td>\n",
              "      <td>5</td>\n",
              "      <td>Nâo sabia da entrega aos domingos pelo correio...</td>\n",
              "      <td>piracicaba</td>\n",
              "      <td>SP</td>\n",
              "      <td>99.90</td>\n",
              "    </tr>\n",
              "  </tbody>\n",
              "</table>\n",
              "</div>\n",
              "      <button class=\"colab-df-convert\" onclick=\"convertToInteractive('df-aead70e4-a041-447e-9ad2-1ad4c932c613')\"\n",
              "              title=\"Convert this dataframe to an interactive table.\"\n",
              "              style=\"display:none;\">\n",
              "        \n",
              "  <svg xmlns=\"http://www.w3.org/2000/svg\" height=\"24px\"viewBox=\"0 0 24 24\"\n",
              "       width=\"24px\">\n",
              "    <path d=\"M0 0h24v24H0V0z\" fill=\"none\"/>\n",
              "    <path d=\"M18.56 5.44l.94 2.06.94-2.06 2.06-.94-2.06-.94-.94-2.06-.94 2.06-2.06.94zm-11 1L8.5 8.5l.94-2.06 2.06-.94-2.06-.94L8.5 2.5l-.94 2.06-2.06.94zm10 10l.94 2.06.94-2.06 2.06-.94-2.06-.94-.94-2.06-.94 2.06-2.06.94z\"/><path d=\"M17.41 7.96l-1.37-1.37c-.4-.4-.92-.59-1.43-.59-.52 0-1.04.2-1.43.59L10.3 9.45l-7.72 7.72c-.78.78-.78 2.05 0 2.83L4 21.41c.39.39.9.59 1.41.59.51 0 1.02-.2 1.41-.59l7.78-7.78 2.81-2.81c.8-.78.8-2.07 0-2.86zM5.41 20L4 18.59l7.72-7.72 1.47 1.35L5.41 20z\"/>\n",
              "  </svg>\n",
              "      </button>\n",
              "      \n",
              "  <style>\n",
              "    .colab-df-container {\n",
              "      display:flex;\n",
              "      flex-wrap:wrap;\n",
              "      gap: 12px;\n",
              "    }\n",
              "\n",
              "    .colab-df-convert {\n",
              "      background-color: #E8F0FE;\n",
              "      border: none;\n",
              "      border-radius: 50%;\n",
              "      cursor: pointer;\n",
              "      display: none;\n",
              "      fill: #1967D2;\n",
              "      height: 32px;\n",
              "      padding: 0 0 0 0;\n",
              "      width: 32px;\n",
              "    }\n",
              "\n",
              "    .colab-df-convert:hover {\n",
              "      background-color: #E2EBFA;\n",
              "      box-shadow: 0px 1px 2px rgba(60, 64, 67, 0.3), 0px 1px 3px 1px rgba(60, 64, 67, 0.15);\n",
              "      fill: #174EA6;\n",
              "    }\n",
              "\n",
              "    [theme=dark] .colab-df-convert {\n",
              "      background-color: #3B4455;\n",
              "      fill: #D2E3FC;\n",
              "    }\n",
              "\n",
              "    [theme=dark] .colab-df-convert:hover {\n",
              "      background-color: #434B5C;\n",
              "      box-shadow: 0px 1px 3px 1px rgba(0, 0, 0, 0.15);\n",
              "      filter: drop-shadow(0px 1px 2px rgba(0, 0, 0, 0.3));\n",
              "      fill: #FFFFFF;\n",
              "    }\n",
              "  </style>\n",
              "\n",
              "      <script>\n",
              "        const buttonEl =\n",
              "          document.querySelector('#df-aead70e4-a041-447e-9ad2-1ad4c932c613 button.colab-df-convert');\n",
              "        buttonEl.style.display =\n",
              "          google.colab.kernel.accessAllowed ? 'block' : 'none';\n",
              "\n",
              "        async function convertToInteractive(key) {\n",
              "          const element = document.querySelector('#df-aead70e4-a041-447e-9ad2-1ad4c932c613');\n",
              "          const dataTable =\n",
              "            await google.colab.kernel.invokeFunction('convertToInteractive',\n",
              "                                                     [key], {});\n",
              "          if (!dataTable) return;\n",
              "\n",
              "          const docLinkHtml = 'Like what you see? Visit the ' +\n",
              "            '<a target=\"_blank\" href=https://colab.research.google.com/notebooks/data_table.ipynb>data table notebook</a>'\n",
              "            + ' to learn more about interactive tables.';\n",
              "          element.innerHTML = '';\n",
              "          dataTable['output_type'] = 'display_data';\n",
              "          await google.colab.output.renderOutput(dataTable, element);\n",
              "          const docLink = document.createElement('div');\n",
              "          docLink.innerHTML = docLinkHtml;\n",
              "          element.appendChild(docLink);\n",
              "        }\n",
              "      </script>\n",
              "    </div>\n",
              "  </div>\n",
              "  "
            ]
          },
          "metadata": {},
          "execution_count": 12
        }
      ]
    },
    {
      "cell_type": "code",
      "source": [
        "item_features[['product_category_name', 'customer_unique_id', 'order_item_id']]"
      ],
      "metadata": {
        "colab": {
          "base_uri": "https://localhost:8080/",
          "height": 424
        },
        "id": "D7CoV5v_A9rp",
        "outputId": "655d8aa7-83d6-460b-f5a6-24af20b9dae0"
      },
      "execution_count": null,
      "outputs": [
        {
          "output_type": "execute_result",
          "data": {
            "text/plain": [
              "       product_category_name                customer_unique_id  order_item_id\n",
              "0                 housewares  7c396fd4830fd04220f754e42b4e5bff              1\n",
              "1                 housewares  e781fdcc107d13d865fc7698711cc572              1\n",
              "2                 housewares  3a51803cc0d012c3b5dc8b7528cb05f7              1\n",
              "3                 housewares  ef0996a1a279c26e7ecbd737be23d235              1\n",
              "4             bed_bath_table  8a4002923e801e3120a11070fd31c9e2              1\n",
              "...                      ...                               ...            ...\n",
              "108105        sports_leisure  8b8c8f067a3faaf116211277147a88de              1\n",
              "108106             telephony  1ef6a1d949703afd7a74347aed3b0503              1\n",
              "108107             perfumery  ebc6df639d125e446f07c0e9b1e47b90              1\n",
              "108108                  auto  ed81a42bec90c87578108d2e4c742d20              1\n",
              "108109   musical_instruments  a49e8e11e850592fe685ae3c64b40eca              1\n",
              "\n",
              "[108110 rows x 3 columns]"
            ],
            "text/html": [
              "\n",
              "  <div id=\"df-2e54b06f-715d-48fe-aaa6-e08a8a007562\">\n",
              "    <div class=\"colab-df-container\">\n",
              "      <div>\n",
              "<style scoped>\n",
              "    .dataframe tbody tr th:only-of-type {\n",
              "        vertical-align: middle;\n",
              "    }\n",
              "\n",
              "    .dataframe tbody tr th {\n",
              "        vertical-align: top;\n",
              "    }\n",
              "\n",
              "    .dataframe thead th {\n",
              "        text-align: right;\n",
              "    }\n",
              "</style>\n",
              "<table border=\"1\" class=\"dataframe\">\n",
              "  <thead>\n",
              "    <tr style=\"text-align: right;\">\n",
              "      <th></th>\n",
              "      <th>product_category_name</th>\n",
              "      <th>customer_unique_id</th>\n",
              "      <th>order_item_id</th>\n",
              "    </tr>\n",
              "  </thead>\n",
              "  <tbody>\n",
              "    <tr>\n",
              "      <th>0</th>\n",
              "      <td>housewares</td>\n",
              "      <td>7c396fd4830fd04220f754e42b4e5bff</td>\n",
              "      <td>1</td>\n",
              "    </tr>\n",
              "    <tr>\n",
              "      <th>1</th>\n",
              "      <td>housewares</td>\n",
              "      <td>e781fdcc107d13d865fc7698711cc572</td>\n",
              "      <td>1</td>\n",
              "    </tr>\n",
              "    <tr>\n",
              "      <th>2</th>\n",
              "      <td>housewares</td>\n",
              "      <td>3a51803cc0d012c3b5dc8b7528cb05f7</td>\n",
              "      <td>1</td>\n",
              "    </tr>\n",
              "    <tr>\n",
              "      <th>3</th>\n",
              "      <td>housewares</td>\n",
              "      <td>ef0996a1a279c26e7ecbd737be23d235</td>\n",
              "      <td>1</td>\n",
              "    </tr>\n",
              "    <tr>\n",
              "      <th>4</th>\n",
              "      <td>bed_bath_table</td>\n",
              "      <td>8a4002923e801e3120a11070fd31c9e2</td>\n",
              "      <td>1</td>\n",
              "    </tr>\n",
              "    <tr>\n",
              "      <th>...</th>\n",
              "      <td>...</td>\n",
              "      <td>...</td>\n",
              "      <td>...</td>\n",
              "    </tr>\n",
              "    <tr>\n",
              "      <th>108105</th>\n",
              "      <td>sports_leisure</td>\n",
              "      <td>8b8c8f067a3faaf116211277147a88de</td>\n",
              "      <td>1</td>\n",
              "    </tr>\n",
              "    <tr>\n",
              "      <th>108106</th>\n",
              "      <td>telephony</td>\n",
              "      <td>1ef6a1d949703afd7a74347aed3b0503</td>\n",
              "      <td>1</td>\n",
              "    </tr>\n",
              "    <tr>\n",
              "      <th>108107</th>\n",
              "      <td>perfumery</td>\n",
              "      <td>ebc6df639d125e446f07c0e9b1e47b90</td>\n",
              "      <td>1</td>\n",
              "    </tr>\n",
              "    <tr>\n",
              "      <th>108108</th>\n",
              "      <td>auto</td>\n",
              "      <td>ed81a42bec90c87578108d2e4c742d20</td>\n",
              "      <td>1</td>\n",
              "    </tr>\n",
              "    <tr>\n",
              "      <th>108109</th>\n",
              "      <td>musical_instruments</td>\n",
              "      <td>a49e8e11e850592fe685ae3c64b40eca</td>\n",
              "      <td>1</td>\n",
              "    </tr>\n",
              "  </tbody>\n",
              "</table>\n",
              "<p>108110 rows × 3 columns</p>\n",
              "</div>\n",
              "      <button class=\"colab-df-convert\" onclick=\"convertToInteractive('df-2e54b06f-715d-48fe-aaa6-e08a8a007562')\"\n",
              "              title=\"Convert this dataframe to an interactive table.\"\n",
              "              style=\"display:none;\">\n",
              "        \n",
              "  <svg xmlns=\"http://www.w3.org/2000/svg\" height=\"24px\"viewBox=\"0 0 24 24\"\n",
              "       width=\"24px\">\n",
              "    <path d=\"M0 0h24v24H0V0z\" fill=\"none\"/>\n",
              "    <path d=\"M18.56 5.44l.94 2.06.94-2.06 2.06-.94-2.06-.94-.94-2.06-.94 2.06-2.06.94zm-11 1L8.5 8.5l.94-2.06 2.06-.94-2.06-.94L8.5 2.5l-.94 2.06-2.06.94zm10 10l.94 2.06.94-2.06 2.06-.94-2.06-.94-.94-2.06-.94 2.06-2.06.94z\"/><path d=\"M17.41 7.96l-1.37-1.37c-.4-.4-.92-.59-1.43-.59-.52 0-1.04.2-1.43.59L10.3 9.45l-7.72 7.72c-.78.78-.78 2.05 0 2.83L4 21.41c.39.39.9.59 1.41.59.51 0 1.02-.2 1.41-.59l7.78-7.78 2.81-2.81c.8-.78.8-2.07 0-2.86zM5.41 20L4 18.59l7.72-7.72 1.47 1.35L5.41 20z\"/>\n",
              "  </svg>\n",
              "      </button>\n",
              "      \n",
              "  <style>\n",
              "    .colab-df-container {\n",
              "      display:flex;\n",
              "      flex-wrap:wrap;\n",
              "      gap: 12px;\n",
              "    }\n",
              "\n",
              "    .colab-df-convert {\n",
              "      background-color: #E8F0FE;\n",
              "      border: none;\n",
              "      border-radius: 50%;\n",
              "      cursor: pointer;\n",
              "      display: none;\n",
              "      fill: #1967D2;\n",
              "      height: 32px;\n",
              "      padding: 0 0 0 0;\n",
              "      width: 32px;\n",
              "    }\n",
              "\n",
              "    .colab-df-convert:hover {\n",
              "      background-color: #E2EBFA;\n",
              "      box-shadow: 0px 1px 2px rgba(60, 64, 67, 0.3), 0px 1px 3px 1px rgba(60, 64, 67, 0.15);\n",
              "      fill: #174EA6;\n",
              "    }\n",
              "\n",
              "    [theme=dark] .colab-df-convert {\n",
              "      background-color: #3B4455;\n",
              "      fill: #D2E3FC;\n",
              "    }\n",
              "\n",
              "    [theme=dark] .colab-df-convert:hover {\n",
              "      background-color: #434B5C;\n",
              "      box-shadow: 0px 1px 3px 1px rgba(0, 0, 0, 0.15);\n",
              "      filter: drop-shadow(0px 1px 2px rgba(0, 0, 0, 0.3));\n",
              "      fill: #FFFFFF;\n",
              "    }\n",
              "  </style>\n",
              "\n",
              "      <script>\n",
              "        const buttonEl =\n",
              "          document.querySelector('#df-2e54b06f-715d-48fe-aaa6-e08a8a007562 button.colab-df-convert');\n",
              "        buttonEl.style.display =\n",
              "          google.colab.kernel.accessAllowed ? 'block' : 'none';\n",
              "\n",
              "        async function convertToInteractive(key) {\n",
              "          const element = document.querySelector('#df-2e54b06f-715d-48fe-aaa6-e08a8a007562');\n",
              "          const dataTable =\n",
              "            await google.colab.kernel.invokeFunction('convertToInteractive',\n",
              "                                                     [key], {});\n",
              "          if (!dataTable) return;\n",
              "\n",
              "          const docLinkHtml = 'Like what you see? Visit the ' +\n",
              "            '<a target=\"_blank\" href=https://colab.research.google.com/notebooks/data_table.ipynb>data table notebook</a>'\n",
              "            + ' to learn more about interactive tables.';\n",
              "          element.innerHTML = '';\n",
              "          dataTable['output_type'] = 'display_data';\n",
              "          await google.colab.output.renderOutput(dataTable, element);\n",
              "          const docLink = document.createElement('div');\n",
              "          docLink.innerHTML = docLinkHtml;\n",
              "          element.appendChild(docLink);\n",
              "        }\n",
              "      </script>\n",
              "    </div>\n",
              "  </div>\n",
              "  "
            ]
          },
          "metadata": {},
          "execution_count": 13
        }
      ]
    },
    {
      "cell_type": "code",
      "source": [
        "# Create product_count column for the rating\n",
        "item_features['product_category_count'] = item_features[['product_category_name', 'customer_unique_id', 'order_item_id']]\\\n",
        "                                                            .groupby(['customer_unique_id', 'product_category_name'])['order_item_id']\\\n",
        "                                                            .transform('count')"
      ],
      "metadata": {
        "colab": {
          "base_uri": "https://localhost:8080/"
        },
        "id": "z2H6FdssyPd0",
        "outputId": "4c993461-40a6-4ad9-e0e5-a5d21d218f6e"
      },
      "execution_count": null,
      "outputs": [
        {
          "output_type": "stream",
          "name": "stderr",
          "text": [
            "/usr/local/lib/python3.7/dist-packages/ipykernel_launcher.py:2: SettingWithCopyWarning: \n",
            "A value is trying to be set on a copy of a slice from a DataFrame.\n",
            "Try using .loc[row_indexer,col_indexer] = value instead\n",
            "\n",
            "See the caveats in the documentation: https://pandas.pydata.org/pandas-docs/stable/user_guide/indexing.html#returning-a-view-versus-a-copy\n",
            "  \n"
          ]
        }
      ]
    },
    {
      "cell_type": "code",
      "source": [
        "item_features[['product_category_name', 'customer_unique_id', 'product_category_count']]"
      ],
      "metadata": {
        "colab": {
          "base_uri": "https://localhost:8080/",
          "height": 424
        },
        "id": "C2IerdicBFLp",
        "outputId": "f62a2ee3-c3c6-4627-f9e9-8826811b274b"
      },
      "execution_count": null,
      "outputs": [
        {
          "output_type": "execute_result",
          "data": {
            "text/plain": [
              "       product_category_name                customer_unique_id  \\\n",
              "0                 housewares  7c396fd4830fd04220f754e42b4e5bff   \n",
              "1                 housewares  e781fdcc107d13d865fc7698711cc572   \n",
              "2                 housewares  3a51803cc0d012c3b5dc8b7528cb05f7   \n",
              "3                 housewares  ef0996a1a279c26e7ecbd737be23d235   \n",
              "4             bed_bath_table  8a4002923e801e3120a11070fd31c9e2   \n",
              "...                      ...                               ...   \n",
              "108105        sports_leisure  8b8c8f067a3faaf116211277147a88de   \n",
              "108106             telephony  1ef6a1d949703afd7a74347aed3b0503   \n",
              "108107             perfumery  ebc6df639d125e446f07c0e9b1e47b90   \n",
              "108108                  auto  ed81a42bec90c87578108d2e4c742d20   \n",
              "108109   musical_instruments  a49e8e11e850592fe685ae3c64b40eca   \n",
              "\n",
              "        product_category_count  \n",
              "0                            1  \n",
              "1                            1  \n",
              "2                            1  \n",
              "3                            1  \n",
              "4                            2  \n",
              "...                        ...  \n",
              "108105                       1  \n",
              "108106                       1  \n",
              "108107                       1  \n",
              "108108                       1  \n",
              "108109                       1  \n",
              "\n",
              "[108110 rows x 3 columns]"
            ],
            "text/html": [
              "\n",
              "  <div id=\"df-007c34b2-c656-43a2-a5d4-33c133f8626b\">\n",
              "    <div class=\"colab-df-container\">\n",
              "      <div>\n",
              "<style scoped>\n",
              "    .dataframe tbody tr th:only-of-type {\n",
              "        vertical-align: middle;\n",
              "    }\n",
              "\n",
              "    .dataframe tbody tr th {\n",
              "        vertical-align: top;\n",
              "    }\n",
              "\n",
              "    .dataframe thead th {\n",
              "        text-align: right;\n",
              "    }\n",
              "</style>\n",
              "<table border=\"1\" class=\"dataframe\">\n",
              "  <thead>\n",
              "    <tr style=\"text-align: right;\">\n",
              "      <th></th>\n",
              "      <th>product_category_name</th>\n",
              "      <th>customer_unique_id</th>\n",
              "      <th>product_category_count</th>\n",
              "    </tr>\n",
              "  </thead>\n",
              "  <tbody>\n",
              "    <tr>\n",
              "      <th>0</th>\n",
              "      <td>housewares</td>\n",
              "      <td>7c396fd4830fd04220f754e42b4e5bff</td>\n",
              "      <td>1</td>\n",
              "    </tr>\n",
              "    <tr>\n",
              "      <th>1</th>\n",
              "      <td>housewares</td>\n",
              "      <td>e781fdcc107d13d865fc7698711cc572</td>\n",
              "      <td>1</td>\n",
              "    </tr>\n",
              "    <tr>\n",
              "      <th>2</th>\n",
              "      <td>housewares</td>\n",
              "      <td>3a51803cc0d012c3b5dc8b7528cb05f7</td>\n",
              "      <td>1</td>\n",
              "    </tr>\n",
              "    <tr>\n",
              "      <th>3</th>\n",
              "      <td>housewares</td>\n",
              "      <td>ef0996a1a279c26e7ecbd737be23d235</td>\n",
              "      <td>1</td>\n",
              "    </tr>\n",
              "    <tr>\n",
              "      <th>4</th>\n",
              "      <td>bed_bath_table</td>\n",
              "      <td>8a4002923e801e3120a11070fd31c9e2</td>\n",
              "      <td>2</td>\n",
              "    </tr>\n",
              "    <tr>\n",
              "      <th>...</th>\n",
              "      <td>...</td>\n",
              "      <td>...</td>\n",
              "      <td>...</td>\n",
              "    </tr>\n",
              "    <tr>\n",
              "      <th>108105</th>\n",
              "      <td>sports_leisure</td>\n",
              "      <td>8b8c8f067a3faaf116211277147a88de</td>\n",
              "      <td>1</td>\n",
              "    </tr>\n",
              "    <tr>\n",
              "      <th>108106</th>\n",
              "      <td>telephony</td>\n",
              "      <td>1ef6a1d949703afd7a74347aed3b0503</td>\n",
              "      <td>1</td>\n",
              "    </tr>\n",
              "    <tr>\n",
              "      <th>108107</th>\n",
              "      <td>perfumery</td>\n",
              "      <td>ebc6df639d125e446f07c0e9b1e47b90</td>\n",
              "      <td>1</td>\n",
              "    </tr>\n",
              "    <tr>\n",
              "      <th>108108</th>\n",
              "      <td>auto</td>\n",
              "      <td>ed81a42bec90c87578108d2e4c742d20</td>\n",
              "      <td>1</td>\n",
              "    </tr>\n",
              "    <tr>\n",
              "      <th>108109</th>\n",
              "      <td>musical_instruments</td>\n",
              "      <td>a49e8e11e850592fe685ae3c64b40eca</td>\n",
              "      <td>1</td>\n",
              "    </tr>\n",
              "  </tbody>\n",
              "</table>\n",
              "<p>108110 rows × 3 columns</p>\n",
              "</div>\n",
              "      <button class=\"colab-df-convert\" onclick=\"convertToInteractive('df-007c34b2-c656-43a2-a5d4-33c133f8626b')\"\n",
              "              title=\"Convert this dataframe to an interactive table.\"\n",
              "              style=\"display:none;\">\n",
              "        \n",
              "  <svg xmlns=\"http://www.w3.org/2000/svg\" height=\"24px\"viewBox=\"0 0 24 24\"\n",
              "       width=\"24px\">\n",
              "    <path d=\"M0 0h24v24H0V0z\" fill=\"none\"/>\n",
              "    <path d=\"M18.56 5.44l.94 2.06.94-2.06 2.06-.94-2.06-.94-.94-2.06-.94 2.06-2.06.94zm-11 1L8.5 8.5l.94-2.06 2.06-.94-2.06-.94L8.5 2.5l-.94 2.06-2.06.94zm10 10l.94 2.06.94-2.06 2.06-.94-2.06-.94-.94-2.06-.94 2.06-2.06.94z\"/><path d=\"M17.41 7.96l-1.37-1.37c-.4-.4-.92-.59-1.43-.59-.52 0-1.04.2-1.43.59L10.3 9.45l-7.72 7.72c-.78.78-.78 2.05 0 2.83L4 21.41c.39.39.9.59 1.41.59.51 0 1.02-.2 1.41-.59l7.78-7.78 2.81-2.81c.8-.78.8-2.07 0-2.86zM5.41 20L4 18.59l7.72-7.72 1.47 1.35L5.41 20z\"/>\n",
              "  </svg>\n",
              "      </button>\n",
              "      \n",
              "  <style>\n",
              "    .colab-df-container {\n",
              "      display:flex;\n",
              "      flex-wrap:wrap;\n",
              "      gap: 12px;\n",
              "    }\n",
              "\n",
              "    .colab-df-convert {\n",
              "      background-color: #E8F0FE;\n",
              "      border: none;\n",
              "      border-radius: 50%;\n",
              "      cursor: pointer;\n",
              "      display: none;\n",
              "      fill: #1967D2;\n",
              "      height: 32px;\n",
              "      padding: 0 0 0 0;\n",
              "      width: 32px;\n",
              "    }\n",
              "\n",
              "    .colab-df-convert:hover {\n",
              "      background-color: #E2EBFA;\n",
              "      box-shadow: 0px 1px 2px rgba(60, 64, 67, 0.3), 0px 1px 3px 1px rgba(60, 64, 67, 0.15);\n",
              "      fill: #174EA6;\n",
              "    }\n",
              "\n",
              "    [theme=dark] .colab-df-convert {\n",
              "      background-color: #3B4455;\n",
              "      fill: #D2E3FC;\n",
              "    }\n",
              "\n",
              "    [theme=dark] .colab-df-convert:hover {\n",
              "      background-color: #434B5C;\n",
              "      box-shadow: 0px 1px 3px 1px rgba(0, 0, 0, 0.15);\n",
              "      filter: drop-shadow(0px 1px 2px rgba(0, 0, 0, 0.3));\n",
              "      fill: #FFFFFF;\n",
              "    }\n",
              "  </style>\n",
              "\n",
              "      <script>\n",
              "        const buttonEl =\n",
              "          document.querySelector('#df-007c34b2-c656-43a2-a5d4-33c133f8626b button.colab-df-convert');\n",
              "        buttonEl.style.display =\n",
              "          google.colab.kernel.accessAllowed ? 'block' : 'none';\n",
              "\n",
              "        async function convertToInteractive(key) {\n",
              "          const element = document.querySelector('#df-007c34b2-c656-43a2-a5d4-33c133f8626b');\n",
              "          const dataTable =\n",
              "            await google.colab.kernel.invokeFunction('convertToInteractive',\n",
              "                                                     [key], {});\n",
              "          if (!dataTable) return;\n",
              "\n",
              "          const docLinkHtml = 'Like what you see? Visit the ' +\n",
              "            '<a target=\"_blank\" href=https://colab.research.google.com/notebooks/data_table.ipynb>data table notebook</a>'\n",
              "            + ' to learn more about interactive tables.';\n",
              "          element.innerHTML = '';\n",
              "          dataTable['output_type'] = 'display_data';\n",
              "          await google.colab.output.renderOutput(dataTable, element);\n",
              "          const docLink = document.createElement('div');\n",
              "          docLink.innerHTML = docLinkHtml;\n",
              "          element.appendChild(docLink);\n",
              "        }\n",
              "      </script>\n",
              "    </div>\n",
              "  </div>\n",
              "  "
            ]
          },
          "metadata": {},
          "execution_count": 15
        }
      ]
    },
    {
      "cell_type": "code",
      "source": [
        "user_to_product_category = item_features[['product_category_name', 'customer_unique_id', 'product_category_count']]\\\n",
        "                                        .sort_values(by='customer_unique_id')\\\n",
        "                                        .reset_index(drop=True)"
      ],
      "metadata": {
        "id": "F5Ps-6I0yRY6"
      },
      "execution_count": null,
      "outputs": []
    },
    {
      "cell_type": "code",
      "source": [
        "user_to_product_category['product_count'] = 1"
      ],
      "metadata": {
        "id": "RS0cIGGIyTy-"
      },
      "execution_count": null,
      "outputs": []
    },
    {
      "cell_type": "code",
      "source": [
        "user_to_product_category = user_to_product_category.drop(['product_category_count'], axis=1)"
      ],
      "metadata": {
        "id": "n7Sy5aZ2yVD1"
      },
      "execution_count": null,
      "outputs": []
    },
    {
      "cell_type": "code",
      "source": [
        "def get_user_list(df, user_column):\n",
        "    \"\"\"\n",
        "    \n",
        "    creating a list of user from dataframe df, user_column is a column \n",
        "    consisting of users in the dataframe df\n",
        "    \n",
        "    \"\"\"\n",
        "    \n",
        "    return np.sort(df[user_column].unique())\n",
        "\n",
        "def get_item_list(df, item_name_column):\n",
        "    \n",
        "    \"\"\"\n",
        "    \n",
        "    creating a list of items from dataframe df, item_column is a column \n",
        "    consisting of items in the dataframe df\n",
        "    \n",
        "    return to item_id_list and item_id2name_mapping\n",
        "    \n",
        "    \"\"\"\n",
        "    \n",
        "    item_list = df[item_name_column].unique()\n",
        "    \n",
        "    \n",
        "    return item_list"
      ],
      "metadata": {
        "id": "ZWUVRECYyWWO"
      },
      "execution_count": null,
      "outputs": []
    },
    {
      "cell_type": "code",
      "source": [
        "def id_mappings(user_list, item_list):\n",
        "    \"\"\"\n",
        "    \n",
        "    Create id mappings to convert user_id, item_id, and feature_id\n",
        "    \n",
        "    \"\"\"\n",
        "    user_to_index_mapping = {}\n",
        "    index_to_user_mapping = {}\n",
        "    for user_index, user_id in enumerate(user_list):\n",
        "        user_to_index_mapping[user_id] = user_index\n",
        "        index_to_user_mapping[user_index] = user_id\n",
        "        \n",
        "    item_to_index_mapping = {}\n",
        "    index_to_item_mapping = {}\n",
        "    for item_index, item_id in enumerate(item_list):\n",
        "        item_to_index_mapping[item_id] = item_index\n",
        "        index_to_item_mapping[item_index] = item_id\n",
        "        \n",
        "\n",
        "    return user_to_index_mapping, index_to_user_mapping, \\\n",
        "           item_to_index_mapping, index_to_item_mapping"
      ],
      "metadata": {
        "id": "SGnylrkxyYht"
      },
      "execution_count": null,
      "outputs": []
    },
    {
      "cell_type": "code",
      "source": [
        "from scipy import sparse\n",
        "def get_interaction_matrix(df, df_column_as_row, df_column_as_col, df_column_as_value, row_indexing_map, \n",
        "                          col_indexing_map):\n",
        "    \n",
        "    row = df[df_column_as_row].apply(lambda x: row_indexing_map[x]).values\n",
        "    col = df[df_column_as_col].apply(lambda x: col_indexing_map[x]).values\n",
        "    value = df[df_column_as_value].values\n",
        "    \n",
        "    return sparse.coo_matrix((value, (row, col)), shape = (len(row_indexing_map), len(col_indexing_map)))"
      ],
      "metadata": {
        "id": "s-ajf5baybFX"
      },
      "execution_count": null,
      "outputs": []
    },
    {
      "cell_type": "code",
      "source": [
        "user_list = get_user_list(user_to_product_category, 'customer_unique_id')\n",
        "item_list = get_item_list(user_to_product_category, 'product_category_name')"
      ],
      "metadata": {
        "id": "L06FuBQBydO2"
      },
      "execution_count": null,
      "outputs": []
    },
    {
      "cell_type": "code",
      "source": [
        "user_to_index_mapping, index_to_user_mapping, \\\n",
        "           item_to_index_mapping, index_to_item_mapping = id_mappings(user_list, item_list)"
      ],
      "metadata": {
        "id": "06aRqosvyfA8"
      },
      "execution_count": null,
      "outputs": []
    },
    {
      "cell_type": "code",
      "source": [
        "user_to_product_category_interaction = get_interaction_matrix(user_to_product_category, \"customer_unique_id\", \n",
        "                                                           \"product_category_name\", \"product_count\", \n",
        "                                                           user_to_index_mapping, item_to_index_mapping)"
      ],
      "metadata": {
        "id": "AGGHDq2Ryglw"
      },
      "execution_count": null,
      "outputs": []
    },
    {
      "cell_type": "code",
      "source": [
        "product_category_to_user_interaction = get_interaction_matrix(user_to_product_category, \"product_category_name\", \n",
        "                                                             \"customer_unique_id\", \"product_count\",\n",
        "                                                             item_to_index_mapping, user_to_index_mapping)"
      ],
      "metadata": {
        "id": "QxR1HkvvyjyE"
      },
      "execution_count": null,
      "outputs": []
    },
    {
      "cell_type": "markdown",
      "source": [
        "#User clustering\n"
      ],
      "metadata": {
        "id": "iaUt0j_1yp4-"
      }
    },
    {
      "cell_type": "markdown",
      "source": [
        "Clustering will be conducted using kmeans which uses distance based algorithms to decide clusters using maximum marginality between edge cases."
      ],
      "metadata": {
        "id": "SCB6nlqhyswd"
      }
    },
    {
      "cell_type": "code",
      "source": [
        "import scipy.sparse\n",
        "\n",
        "table = pd.DataFrame(user_to_product_category_interaction.todense())"
      ],
      "metadata": {
        "id": "vxCuM8SoyloL"
      },
      "execution_count": null,
      "outputs": []
    },
    {
      "cell_type": "code",
      "source": [
        "table1 = pd.DataFrame(product_category_to_user_interaction.todense())"
      ],
      "metadata": {
        "id": "ZuSXr1aryu3Q"
      },
      "execution_count": null,
      "outputs": []
    },
    {
      "cell_type": "code",
      "source": [
        "from sklearn.cluster import KMeans\n",
        "\n",
        "# Create table of values only\n",
        "x_cols = table.values\n",
        "ks = range(2, 20)\n",
        "inertias = []\n",
        "\n",
        "for k in ks:\n",
        "    # create a KMeans instance with k clusters\n",
        "    kmeans = KMeans(n_clusters = k, random_state=3)\n",
        "    # fit model to samples\n",
        "    kmeans.fit(x_cols)\n",
        "    # append the inertia to the list of inertias\n",
        "    inertias.append(kmeans.inertia_)\n",
        "\n",
        "# plot ks vs inertias\n",
        "plt.figure(figsize=(8,5))\n",
        "plt.plot(ks, inertias, '-o')\n",
        "plt.xlabel('number of clusters, k')\n",
        "plt.ylabel('inertia')\n",
        "plt.xticks(ks)\n",
        "plt.show()"
      ],
      "metadata": {
        "colab": {
          "base_uri": "https://localhost:8080/",
          "height": 343
        },
        "id": "I7pWQLOuywxi",
        "outputId": "efd92b02-a3a3-4997-e6de-1e63c4c64717"
      },
      "execution_count": null,
      "outputs": [
        {
          "output_type": "display_data",
          "data": {
            "text/plain": [
              "<Figure size 576x360 with 1 Axes>"
            ],
            "image/png": "[encoded data removed]"
          },
          "metadata": {}
        }
      ]
    },
    {
      "cell_type": "code",
      "source": [
        "from sklearn.cluster import KMeans\n",
        "x_cols = table.values\n",
        "# create a KMeans instance with k clusters\n",
        "model = KMeans(n_clusters = 15, random_state=3)\n",
        "# fit model to samples\n",
        "model.fit(x_cols)\n",
        "# Create labels for data\n",
        "labels = model.predict(x_cols)\n",
        "\n",
        "# create bar chart\n",
        "clusters, npoints = np.unique(labels, return_counts=True)\n",
        "plt.figure(figsize=(10,5))\n",
        "plt.bar(clusters, npoints)\n",
        "plt.xticks(clusters)\n",
        "plt.ylabel('points')\n",
        "plt.xlabel('clusters')\n",
        "plt.show()"
      ],
      "metadata": {
        "colab": {
          "base_uri": "https://localhost:8080/",
          "height": 340
        },
        "id": "x14iiGNlyyam",
        "outputId": "948828d7-5fcc-4c31-a5dd-c5fc78fa7429"
      },
      "execution_count": null,
      "outputs": [
        {
          "output_type": "display_data",
          "data": {
            "text/plain": [
              "<Figure size 720x360 with 1 Axes>"
            ],
            "image/png": "[encoded data removed]"
          },
          "metadata": {}
        }
      ]
    },
    {
      "cell_type": "code",
      "source": [
        "labels = pd.DataFrame({'cluster_id': labels})"
      ],
      "metadata": {
        "id": "beapm752y0PM"
      },
      "execution_count": null,
      "outputs": []
    },
    {
      "cell_type": "code",
      "source": [
        "table.index.name = 'customer_unique_id'"
      ],
      "metadata": {
        "id": "5m511SkRy2Rp"
      },
      "execution_count": null,
      "outputs": []
    },
    {
      "cell_type": "code",
      "source": [
        "table = table.reset_index()"
      ],
      "metadata": {
        "id": "mX8rpvryy3xM"
      },
      "execution_count": null,
      "outputs": []
    },
    {
      "cell_type": "code",
      "source": [
        "df = pd.concat([table.customer_unique_id, \\\n",
        "                labels], axis=1, sort=False)"
      ],
      "metadata": {
        "id": "lQo12nSwy5cJ"
      },
      "execution_count": null,
      "outputs": []
    },
    {
      "cell_type": "code",
      "source": [
        "df = df.replace({\"customer_unique_id\": index_to_user_mapping})"
      ],
      "metadata": {
        "id": "ZFKEyrfEy7LA"
      },
      "execution_count": null,
      "outputs": []
    },
    {
      "cell_type": "code",
      "source": [
        "df.head()"
      ],
      "metadata": {
        "colab": {
          "base_uri": "https://localhost:8080/",
          "height": 206
        },
        "id": "ryD_HrYEy8_i",
        "outputId": "7f527872-1fd2-4870-9a8e-c96994461ed0"
      },
      "execution_count": null,
      "outputs": [
        {
          "output_type": "execute_result",
          "data": {
            "text/plain": [
              "                 customer_unique_id  cluster_id\n",
              "0  0000366f3b9a7992bf8c76cfdf3221e2           1\n",
              "1  0000b849f77a49e4a4ce2b2a4ca5be3f           5\n",
              "2  0000f46a3911fa3c0805444483337064           9\n",
              "3  0000f6ccb0745a6a4b88665a16c9f078          13\n",
              "4  0004aac84e0df4da2b147fca70cf8255          13"
            ],
            "text/html": [
              "\n",
              "  <div id=\"df-82ee4a6a-38dc-4050-b359-e97b7beb96cc\">\n",
              "    <div class=\"colab-df-container\">\n",
              "      <div>\n",
              "<style scoped>\n",
              "    .dataframe tbody tr th:only-of-type {\n",
              "        vertical-align: middle;\n",
              "    }\n",
              "\n",
              "    .dataframe tbody tr th {\n",
              "        vertical-align: top;\n",
              "    }\n",
              "\n",
              "    .dataframe thead th {\n",
              "        text-align: right;\n",
              "    }\n",
              "</style>\n",
              "<table border=\"1\" class=\"dataframe\">\n",
              "  <thead>\n",
              "    <tr style=\"text-align: right;\">\n",
              "      <th></th>\n",
              "      <th>customer_unique_id</th>\n",
              "      <th>cluster_id</th>\n",
              "    </tr>\n",
              "  </thead>\n",
              "  <tbody>\n",
              "    <tr>\n",
              "      <th>0</th>\n",
              "      <td>0000366f3b9a7992bf8c76cfdf3221e2</td>\n",
              "      <td>1</td>\n",
              "    </tr>\n",
              "    <tr>\n",
              "      <th>1</th>\n",
              "      <td>0000b849f77a49e4a4ce2b2a4ca5be3f</td>\n",
              "      <td>5</td>\n",
              "    </tr>\n",
              "    <tr>\n",
              "      <th>2</th>\n",
              "      <td>0000f46a3911fa3c0805444483337064</td>\n",
              "      <td>9</td>\n",
              "    </tr>\n",
              "    <tr>\n",
              "      <th>3</th>\n",
              "      <td>0000f6ccb0745a6a4b88665a16c9f078</td>\n",
              "      <td>13</td>\n",
              "    </tr>\n",
              "    <tr>\n",
              "      <th>4</th>\n",
              "      <td>0004aac84e0df4da2b147fca70cf8255</td>\n",
              "      <td>13</td>\n",
              "    </tr>\n",
              "  </tbody>\n",
              "</table>\n",
              "</div>\n",
              "      <button class=\"colab-df-convert\" onclick=\"convertToInteractive('df-82ee4a6a-38dc-4050-b359-e97b7beb96cc')\"\n",
              "              title=\"Convert this dataframe to an interactive table.\"\n",
              "              style=\"display:none;\">\n",
              "        \n",
              "  <svg xmlns=\"http://www.w3.org/2000/svg\" height=\"24px\"viewBox=\"0 0 24 24\"\n",
              "       width=\"24px\">\n",
              "    <path d=\"M0 0h24v24H0V0z\" fill=\"none\"/>\n",
              "    <path d=\"M18.56 5.44l.94 2.06.94-2.06 2.06-.94-2.06-.94-.94-2.06-.94 2.06-2.06.94zm-11 1L8.5 8.5l.94-2.06 2.06-.94-2.06-.94L8.5 2.5l-.94 2.06-2.06.94zm10 10l.94 2.06.94-2.06 2.06-.94-2.06-.94-.94-2.06-.94 2.06-2.06.94z\"/><path d=\"M17.41 7.96l-1.37-1.37c-.4-.4-.92-.59-1.43-.59-.52 0-1.04.2-1.43.59L10.3 9.45l-7.72 7.72c-.78.78-.78 2.05 0 2.83L4 21.41c.39.39.9.59 1.41.59.51 0 1.02-.2 1.41-.59l7.78-7.78 2.81-2.81c.8-.78.8-2.07 0-2.86zM5.41 20L4 18.59l7.72-7.72 1.47 1.35L5.41 20z\"/>\n",
              "  </svg>\n",
              "      </button>\n",
              "      \n",
              "  <style>\n",
              "    .colab-df-container {\n",
              "      display:flex;\n",
              "      flex-wrap:wrap;\n",
              "      gap: 12px;\n",
              "    }\n",
              "\n",
              "    .colab-df-convert {\n",
              "      background-color: #E8F0FE;\n",
              "      border: none;\n",
              "      border-radius: 50%;\n",
              "      cursor: pointer;\n",
              "      display: none;\n",
              "      fill: #1967D2;\n",
              "      height: 32px;\n",
              "      padding: 0 0 0 0;\n",
              "      width: 32px;\n",
              "    }\n",
              "\n",
              "    .colab-df-convert:hover {\n",
              "      background-color: #E2EBFA;\n",
              "      box-shadow: 0px 1px 2px rgba(60, 64, 67, 0.3), 0px 1px 3px 1px rgba(60, 64, 67, 0.15);\n",
              "      fill: #174EA6;\n",
              "    }\n",
              "\n",
              "    [theme=dark] .colab-df-convert {\n",
              "      background-color: #3B4455;\n",
              "      fill: #D2E3FC;\n",
              "    }\n",
              "\n",
              "    [theme=dark] .colab-df-convert:hover {\n",
              "      background-color: #434B5C;\n",
              "      box-shadow: 0px 1px 3px 1px rgba(0, 0, 0, 0.15);\n",
              "      filter: drop-shadow(0px 1px 2px rgba(0, 0, 0, 0.3));\n",
              "      fill: #FFFFFF;\n",
              "    }\n",
              "  </style>\n",
              "\n",
              "      <script>\n",
              "        const buttonEl =\n",
              "          document.querySelector('#df-82ee4a6a-38dc-4050-b359-e97b7beb96cc button.colab-df-convert');\n",
              "        buttonEl.style.display =\n",
              "          google.colab.kernel.accessAllowed ? 'block' : 'none';\n",
              "\n",
              "        async function convertToInteractive(key) {\n",
              "          const element = document.querySelector('#df-82ee4a6a-38dc-4050-b359-e97b7beb96cc');\n",
              "          const dataTable =\n",
              "            await google.colab.kernel.invokeFunction('convertToInteractive',\n",
              "                                                     [key], {});\n",
              "          if (!dataTable) return;\n",
              "\n",
              "          const docLinkHtml = 'Like what you see? Visit the ' +\n",
              "            '<a target=\"_blank\" href=https://colab.research.google.com/notebooks/data_table.ipynb>data table notebook</a>'\n",
              "            + ' to learn more about interactive tables.';\n",
              "          element.innerHTML = '';\n",
              "          dataTable['output_type'] = 'display_data';\n",
              "          await google.colab.output.renderOutput(dataTable, element);\n",
              "          const docLink = document.createElement('div');\n",
              "          docLink.innerHTML = docLinkHtml;\n",
              "          element.appendChild(docLink);\n",
              "        }\n",
              "      </script>\n",
              "    </div>\n",
              "  </div>\n",
              "  "
            ]
          },
          "metadata": {},
          "execution_count": 35
        }
      ]
    },
    {
      "cell_type": "code",
      "source": [
        "item_features_clustered = item_features.merge(df, on = 'customer_unique_id')"
      ],
      "metadata": {
        "id": "g12eptgQy-hn"
      },
      "execution_count": null,
      "outputs": []
    },
    {
      "cell_type": "code",
      "source": [
        "item_features_clustered.to_csv(r'/content/drive/MyDrive/Spark/item_features_clustered.csv')"
      ],
      "metadata": {
        "id": "EfbD4pahzCzy"
      },
      "execution_count": null,
      "outputs": []
    },
    {
      "cell_type": "markdown",
      "source": [
        "Following this we will group the product descriptions into bins to generalize for the model using pandas cut and qcut."
      ],
      "metadata": {
        "id": "mvUH9gz73QFz"
      }
    },
    {
      "cell_type": "markdown",
      "source": [
        "#Create user-item and item feature dataframes\n"
      ],
      "metadata": {
        "id": "Rvi_Z74P3bcT"
      }
    },
    {
      "cell_type": "code",
      "source": [
        "user_item = master_df[['customer_id', 'customer_unique_id', 'product_id', 'review_score', 'order_purchase_timestamp']]\n",
        "user_features = master_df[['customer_unique_id', 'customer_city', 'customer_state']]\n",
        "item_features = master_df[['customer_unique_id','product_id', 'customer_id', 'product_category_name', 'seller_id', 'review_score', \n",
        "                          'review_comment_message', 'seller_city', 'seller_state', 'price', 'order_id', 'order_item_id']]"
      ],
      "metadata": {
        "id": "lJePPSMQzEho"
      },
      "execution_count": null,
      "outputs": []
    },
    {
      "cell_type": "code",
      "source": [
        "item_features = item_features.drop_duplicates(['customer_id','order_id', 'order_item_id']).reset_index(drop=True)"
      ],
      "metadata": {
        "id": "u8kIaxes3fT3"
      },
      "execution_count": null,
      "outputs": []
    },
    {
      "cell_type": "markdown",
      "source": [
        "#Create aggregated columns to improve product features\n"
      ],
      "metadata": {
        "id": "6M8HiEqs3mO0"
      }
    },
    {
      "cell_type": "code",
      "source": [
        "# to avoid counting a review comment labeled 'no comment given', we will convert them back to NAN\n",
        "item_features['review_comment_message'] = item_features.review_comment_message\\\n",
        "                                                               .replace('no comment given', np.nan)\n",
        "\n",
        "# create average review score column \n",
        "item_features['avg_product_score'] = item_features['review_score']\\\n",
        "                                                                 .groupby(item_features['product_id'])\\\n",
        "                                                                 .transform('mean')\n",
        "# create average review score column \n",
        "item_features['avg_seller_score'] = item_features['review_score']\\\n",
        "                                                                 .groupby(item_features['seller_id'])\\\n",
        "                                                                 .transform('mean')\n",
        "\n",
        "# create average review score column \n",
        "item_features['num_comments'] = item_features['review_comment_message']\\\n",
        "                                                                       .groupby(item_features['product_id'])\\\n",
        "                                                                       .transform('count')\n",
        "\n",
        "# create average review score column \n",
        "item_features['num_reviews'] = item_features['review_score']\\\n",
        "                                                            .groupby(item_features['product_id'])\\\n",
        "                                                            .transform('count')"
      ],
      "metadata": {
        "id": "qWP8sL1t3fWP"
      },
      "execution_count": null,
      "outputs": []
    },
    {
      "cell_type": "code",
      "source": [
        "# create average price column\n",
        "item_features['avg_price'] = item_features[['price']]\\\n",
        "                                                     .groupby(item_features['product_id'])\\\n",
        "                                                     .transform('mean')"
      ],
      "metadata": {
        "id": "jy-P-jZ93fYz"
      },
      "execution_count": null,
      "outputs": []
    },
    {
      "cell_type": "code",
      "source": [
        "# Create product_count column for the rating\n",
        "item_features['product_count'] = item_features['product_id']\\\n",
        "                                                            .groupby(item_features['customer_unique_id'])\\\n",
        "                                                            .transform('count')"
      ],
      "metadata": {
        "id": "IAtwATaL3fbN"
      },
      "execution_count": null,
      "outputs": []
    },
    {
      "cell_type": "markdown",
      "source": [
        "#Transform columns to improve distance based algorithms used in clustering, to be performed in seperate notebook\n"
      ],
      "metadata": {
        "id": "L2Zf2cyE3uEs"
      }
    },
    {
      "cell_type": "code",
      "source": [
        "item_features['log_avg_price'] = np.log1p(item_features['avg_price'])"
      ],
      "metadata": {
        "id": "nXT_uKyb3fdg"
      },
      "execution_count": null,
      "outputs": []
    },
    {
      "cell_type": "code",
      "source": [
        "item_features['log_num_reviews'] = np.log1p(item_features['num_reviews'])\n",
        "item_features['log_num_comments'] = np.log1p(item_features['num_comments'])"
      ],
      "metadata": {
        "id": "x0oerl0C3ffz"
      },
      "execution_count": null,
      "outputs": []
    },
    {
      "cell_type": "code",
      "source": [
        "# use cut to group the same number of reviews in each section\n",
        "item_features['num_reviews_binned'] = pd.cut(item_features['log_num_reviews'], 7, duplicates = 'drop')\n",
        "item_features['num_comments_binned'] = pd.cut(item_features['log_num_comments'], 6, duplicates = 'drop')\n",
        "\n",
        "# \n",
        "item_features['avg_product_reviews_binned'] = pd.cut(item_features['avg_product_score'], 4, duplicates = 'drop')\n",
        "item_features['avg_seller_reviews_binned'] = pd.cut(item_features['avg_seller_score'], 4, duplicates = 'drop')\n",
        "\n",
        "item_features['avg_price_binned'] = pd.qcut(item_features['avg_price'], 4, duplicates = 'drop')"
      ],
      "metadata": {
        "id": "aX0xJPGG3fiP"
      },
      "execution_count": null,
      "outputs": []
    },
    {
      "cell_type": "code",
      "source": [
        "item_features = item_features.sort_values('customer_unique_id').reset_index(drop=True)"
      ],
      "metadata": {
        "id": "lSo2P9SU3fkU"
      },
      "execution_count": null,
      "outputs": []
    },
    {
      "cell_type": "code",
      "source": [
        "cols = ['num_reviews_binned', 'num_comments_binned','avg_product_reviews_binned', \n",
        "        'avg_seller_reviews_binned', 'avg_price_binned']\n",
        "for col in cols:\n",
        "    item_features[col] = item_features[col].astype(str)"
      ],
      "metadata": {
        "id": "vJDbG9eP3fnH"
      },
      "execution_count": null,
      "outputs": []
    },
    {
      "cell_type": "code",
      "source": [
        "# Save item features to csv to be pulled and used in notebook for clustering\n",
        "item_features.to_csv(r'/content/drive/MyDrive/Spark/item_features.csv', index=True)"
      ],
      "metadata": {
        "id": "mh0F4vXp3fp_"
      },
      "execution_count": null,
      "outputs": []
    },
    {
      "cell_type": "markdown",
      "source": [
        "# Spark Recommender System ALS\n",
        "ALS does a good job of using collaborative techniques to make a prediction.\n",
        "\n",
        "The algorithm uses alternating least squares as a metric for optimizing predictions of a users preference for an item. How it does it is by taking the original matrix of users and product ratings R, which in our case is the number of times a user bought an item for a given product, and factorizes it into two matrices U and P. When U and P are multiplied back together the empty ratings will be replaced with an estimation. The alternating part of ALS comes from the way the algorithm minimizes least squares error. It will alternate between matrices U and P by fixing one matrix and optimizing for the other and then repeating this process a designated number of times to minimize least squared error. The resulting matrix will have ratings filled in for each product. We will tune our model by estimating our parameters and iterating until an optimal root mean squared error is achieved."
      ],
      "metadata": {
        "id": "pW70ZhIKzr3u"
      }
    },
    {
      "cell_type": "code",
      "source": [
        "# !pip install pyspark"
      ],
      "metadata": {
        "id": "pVmkyb_yGVAC"
      },
      "execution_count": null,
      "outputs": []
    },
    {
      "cell_type": "code",
      "source": [
        "# import necessary modules\n",
        "import os\n",
        "import shutil\n",
        "import pyspark as ps\n",
        "from pyspark.ml import Pipeline, Transformer\n",
        "from pyspark.ml.evaluation import RegressionEvaluator\n",
        "from pyspark.ml.recommendation import ALS, ALSModel\n",
        "from pyspark.sql import Row\n",
        "from pyspark.sql.types import DoubleType"
      ],
      "metadata": {
        "id": "LdsEct3szttp"
      },
      "execution_count": null,
      "outputs": []
    },
    {
      "cell_type": "code",
      "source": [
        "# create spark context\n",
        "spark = (ps.sql.SparkSession.builder\n",
        "        .appName(\"sandbox\")\n",
        "        .getOrCreate()\n",
        "        )\n",
        "sc = spark.sparkContext\n",
        "print(spark.version)"
      ],
      "metadata": {
        "colab": {
          "base_uri": "https://localhost:8080/"
        },
        "id": "2Rafwe3e0EXV",
        "outputId": "71a065a4-09ba-4c38-ddb4-efbbcb5fe133"
      },
      "execution_count": null,
      "outputs": [
        {
          "output_type": "stream",
          "name": "stdout",
          "text": [
            "3.2.1\n"
          ]
        }
      ]
    },
    {
      "cell_type": "markdown",
      "source": [
        "#Read in Data\n"
      ],
      "metadata": {
        "id": "U2ef0QKe0KQr"
      }
    },
    {
      "cell_type": "markdown",
      "source": [
        "We will use user clusters as part of user features for our model here.\n",
        "\n"
      ],
      "metadata": {
        "id": "XBHdLKWt0Ox8"
      }
    },
    {
      "cell_type": "code",
      "source": [
        "\n",
        "data_dir = os.path.join(\"/content/drive/MyDrive/Spark/\", \"\")\n",
        "\n",
        "file = os.path.join(data_dir,\"item_features_clustered.csv\")\n",
        "\n",
        "# options are specified to read in data without error\n",
        "df_user = spark.read.format(\"csv\")\\\n",
        "               .option(\"multiline\", \"true\")\\\n",
        "               .option(\"quote\", '\"')\\\n",
        "               .option(\"header\", \"true\")\\\n",
        "               .option(\"escape\", \"\\\\\")\\\n",
        "               .option(\"escape\", '\"')\\\n",
        "               .load(file)"
      ],
      "metadata": {
        "id": "HYiyDfTQ0Gk2"
      },
      "execution_count": null,
      "outputs": []
    },
    {
      "cell_type": "code",
      "source": [
        "file = os.path.join(data_dir, \"item_features.csv\")\n",
        "\n",
        "# options are specified to read in data without error\n",
        "df_item = spark.read.format(\"csv\")\\\n",
        "               .option(\"multiline\", \"true\")\\\n",
        "               .option(\"quote\", '\"')\\\n",
        "               .option(\"header\", \"true\")\\\n",
        "               .option(\"escape\", \"\\\\\")\\\n",
        "               .option(\"escape\", '\"')\\\n",
        "               .load(file)"
      ],
      "metadata": {
        "id": "xJAxwSEJ0Qkp"
      },
      "execution_count": null,
      "outputs": []
    },
    {
      "cell_type": "markdown",
      "source": [
        "#Create use and item feature matrices\n"
      ],
      "metadata": {
        "id": "y9q0Sp9n4PLE"
      }
    },
    {
      "cell_type": "code",
      "source": [
        "user_features = df_user.select(df_user['customer_unique_id'], \n",
        "                               df_user['product_id'], \n",
        "                               df_user['product_category_count'])"
      ],
      "metadata": {
        "id": "EsWLVbA92dX1"
      },
      "execution_count": null,
      "outputs": []
    },
    {
      "cell_type": "code",
      "source": [
        "user_features.show(4)"
      ],
      "metadata": {
        "colab": {
          "base_uri": "https://localhost:8080/"
        },
        "id": "5bIyLslS4SqT",
        "outputId": "ed4beea3-7ebd-4756-89df-1c2572edc03c"
      },
      "execution_count": null,
      "outputs": [
        {
          "output_type": "stream",
          "name": "stdout",
          "text": [
            "+--------------------+--------------------+----------------------+\n",
            "|  customer_unique_id|          product_id|product_category_count|\n",
            "+--------------------+--------------------+----------------------+\n",
            "|7c396fd4830fd0422...|87285b34884572647...|                     1|\n",
            "|7c396fd4830fd0422...|9abb00920aae319ef...|                     1|\n",
            "|e781fdcc107d13d86...|87285b34884572647...|                     1|\n",
            "|3a51803cc0d012c3b...|87285b34884572647...|                     1|\n",
            "+--------------------+--------------------+----------------------+\n",
            "only showing top 4 rows\n",
            "\n"
          ]
        }
      ]
    },
    {
      "cell_type": "code",
      "source": [
        "user_features = user_features.sort(\"customer_unique_id\")"
      ],
      "metadata": {
        "id": "JGvoBqNA4UT4"
      },
      "execution_count": null,
      "outputs": []
    },
    {
      "cell_type": "code",
      "source": [
        "item_features = df_item.select(df_item['product_id'], \n",
        "                               df_item['product_category_name'], \n",
        "                               df_item['avg_price_binned'])"
      ],
      "metadata": {
        "id": "R5AhlBBw4WHp"
      },
      "execution_count": null,
      "outputs": []
    },
    {
      "cell_type": "code",
      "source": [
        "item_features.show(4)"
      ],
      "metadata": {
        "colab": {
          "base_uri": "https://localhost:8080/"
        },
        "id": "PQNGmqZv4X1q",
        "outputId": "00e36df1-8b26-4397-f488-13bf7fde0435"
      },
      "execution_count": null,
      "outputs": [
        {
          "output_type": "stream",
          "name": "stdout",
          "text": [
            "+--------------------+---------------------+----------------+\n",
            "|          product_id|product_category_name|avg_price_binned|\n",
            "+--------------------+---------------------+----------------+\n",
            "|372645c7439f9661f...|       bed_bath_table|   (74.9, 135.0]|\n",
            "|5099f7000472b634f...|        health_beauty|   (0.849, 39.9]|\n",
            "|64b488de448a5324c...|           stationery|    (39.9, 74.9]|\n",
            "|2345a354a6f203360...|            telephony|   (0.849, 39.9]|\n",
            "+--------------------+---------------------+----------------+\n",
            "only showing top 4 rows\n",
            "\n"
          ]
        }
      ]
    },
    {
      "cell_type": "markdown",
      "source": [
        "#Index user and product ids\n"
      ],
      "metadata": {
        "id": "VS-9SElQ4bGA"
      }
    },
    {
      "cell_type": "code",
      "source": [
        "from pyspark.ml.feature import StringIndexer\n",
        "\n",
        "# create object of StringIndexer class and specify input and output column\n",
        "SI_customer = StringIndexer(inputCol='customer_unique_id',outputCol='customer_index')\n",
        "SI_product = StringIndexer(inputCol='product_id',outputCol='product_index')\n",
        "\n",
        "# transform the data\n",
        "user_features = SI_customer.fit(user_features).transform(user_features)\n",
        "user_features = SI_product.fit(user_features).transform(user_features)\n",
        "item_features = SI_product.fit(item_features).transform(item_features)\n",
        "\n",
        "# view the transformed data\n",
        "user_features.select('customer_unique_id', 'customer_index', 'product_id', 'product_index').show(10)\n",
        "item_features.select('product_id', 'product_index').show(10)"
      ],
      "metadata": {
        "colab": {
          "base_uri": "https://localhost:8080/"
        },
        "id": "WxU9GzNU4ZF5",
        "outputId": "c632908f-0752-4d83-b707-1bd9edc6268d"
      },
      "execution_count": null,
      "outputs": [
        {
          "output_type": "stream",
          "name": "stdout",
          "text": [
            "+--------------------+--------------+--------------------+-------------+\n",
            "|  customer_unique_id|customer_index|          product_id|product_index|\n",
            "+--------------------+--------------+--------------------+-------------+\n",
            "|0000366f3b9a7992b...|       11367.0|372645c7439f9661f...|        376.0|\n",
            "|0000b849f77a49e4a...|       11368.0|5099f7000472b634f...|       2692.0|\n",
            "|0000f46a3911fa3c0...|       11369.0|64b488de448a5324c...|       4076.0|\n",
            "|0000f6ccb0745a6a4...|       11370.0|2345a354a6f203360...|       6466.0|\n",
            "|0004aac84e0df4da2...|       11371.0|c72e18b3fe2739b8d...|      27745.0|\n",
            "|0004bd2a26a76fe21...|       11372.0|25cf184645f3fae66...|       6480.0|\n",
            "|00050ab1314c0e55a...|       11373.0|8cefe1c6f2304e7e6...|       2337.0|\n",
            "|00053a61a98854899...|        2748.0|62984ea1bba7fcea1...|       5229.0|\n",
            "|00053a61a98854899...|        2748.0|58727e154e8e85d84...|       1329.0|\n",
            "|0005e1862207bf6cc...|       11374.0|e24f73b7631ee3fbb...|        937.0|\n",
            "+--------------------+--------------+--------------------+-------------+\n",
            "only showing top 10 rows\n",
            "\n",
            "+--------------------+-------------+\n",
            "|          product_id|product_index|\n",
            "+--------------------+-------------+\n",
            "|372645c7439f9661f...|        376.0|\n",
            "|5099f7000472b634f...|       2692.0|\n",
            "|64b488de448a5324c...|       4076.0|\n",
            "|2345a354a6f203360...|       6466.0|\n",
            "|c72e18b3fe2739b8d...|      27745.0|\n",
            "|25cf184645f3fae66...|       6480.0|\n",
            "|8cefe1c6f2304e7e6...|       2337.0|\n",
            "|62984ea1bba7fcea1...|       5229.0|\n",
            "|58727e154e8e85d84...|       1329.0|\n",
            "|e24f73b7631ee3fbb...|        937.0|\n",
            "+--------------------+-------------+\n",
            "only showing top 10 rows\n",
            "\n"
          ]
        }
      ]
    },
    {
      "cell_type": "code",
      "source": [
        "from pyspark.sql.types import IntegerType\n",
        "# convert columns to integer types\n",
        "user_features = user_features.withColumn(\"product_category_count\",\n",
        "                                        user_features[\"product_category_count\"].cast(IntegerType()))"
      ],
      "metadata": {
        "id": "_sJK6uJs4dSS"
      },
      "execution_count": null,
      "outputs": []
    },
    {
      "cell_type": "markdown",
      "source": [
        "#Model Training\n"
      ],
      "metadata": {
        "id": "gNB0Cf4-4gvI"
      }
    },
    {
      "cell_type": "code",
      "source": [
        "# split 80-20\n",
        "(training, test) = user_features.randomSplit([0.8, 0.2])"
      ],
      "metadata": {
        "id": "UCgz619D4fDQ"
      },
      "execution_count": null,
      "outputs": []
    },
    {
      "cell_type": "code",
      "source": [
        "# train the recommender with als\n",
        "als_alg = ALS(maxIter=5, \n",
        "              regParam=0.01, \n",
        "              userCol='customer_index', \n",
        "              itemCol=\"product_index\", \n",
        "              ratingCol='product_category_count',\n",
        "              coldStartStrategy='drop', \n",
        "              seed = 3)\n",
        "\n",
        "model=als_alg.fit(training)\n",
        "\n",
        "# evaluate with the holdout set\n",
        "predictions = model.transform(test)\n",
        "evaluator = RegressionEvaluator(metricName='rmse',\n",
        "                                labelCol='product_category_count',\n",
        "                                predictionCol='prediction')\n",
        "rmse = evaluator.evaluate(predictions)\n",
        "\n",
        "print(\"Root-mean-squared-error = \" + str(round(rmse, 3)))"
      ],
      "metadata": {
        "colab": {
          "base_uri": "https://localhost:8080/"
        },
        "id": "OTOW4rMO4jPG",
        "outputId": "74054b0d-a915-43a3-9c83-a8e0fc00edcb"
      },
      "execution_count": null,
      "outputs": [
        {
          "output_type": "stream",
          "name": "stdout",
          "text": [
            "Root-mean-squared-error = 0.551\n"
          ]
        }
      ]
    },
    {
      "cell_type": "markdown",
      "source": [
        "#Generate user and product recommendations"
      ],
      "metadata": {
        "id": "RXvE7aSh4nsG"
      }
    },
    {
      "cell_type": "markdown",
      "source": [
        "These can be sampled from to output predictions for specific users.\n",
        "\n"
      ],
      "metadata": {
        "id": "DYGIZaap4p6Y"
      }
    },
    {
      "cell_type": "code",
      "source": [
        "# generate top 5 product recommendations for user\n",
        "user_recs = model.recommendForAllUsers(5)\n",
        "user_recs.show(4)"
      ],
      "metadata": {
        "colab": {
          "base_uri": "https://localhost:8080/"
        },
        "id": "bN3lstT24llz",
        "outputId": "a0fd894c-4310-43cd-b369-45ee7597f579"
      },
      "execution_count": null,
      "outputs": [
        {
          "output_type": "stream",
          "name": "stderr",
          "text": [
            "/usr/local/lib/python3.7/dist-packages/pyspark/sql/context.py:127: FutureWarning: Deprecated in 3.0.0. Use SparkSession.builder.getOrCreate() instead.\n",
            "  FutureWarning\n"
          ]
        },
        {
          "output_type": "stream",
          "name": "stdout",
          "text": [
            "+--------------+--------------------+\n",
            "|customer_index|     recommendations|\n",
            "+--------------+--------------------+\n",
            "|             1|[{1621, 20.999475...|\n",
            "|             3|[{345, 19.999603}...|\n",
            "|             5|[{983, 14.999268}...|\n",
            "|             6|[{3111, 15.004645...|\n",
            "+--------------+--------------------+\n",
            "only showing top 4 rows\n",
            "\n"
          ]
        }
      ]
    },
    {
      "cell_type": "code",
      "source": [
        "product_recs = model.recommendForAllItems(10)\n",
        "product_recs.show()"
      ],
      "metadata": {
        "colab": {
          "base_uri": "https://localhost:8080/"
        },
        "id": "mh7wknse4rln",
        "outputId": "7023acd2-55db-41a8-f901-45304655185e"
      },
      "execution_count": null,
      "outputs": [
        {
          "output_type": "stream",
          "name": "stderr",
          "text": [
            "/usr/local/lib/python3.7/dist-packages/pyspark/sql/context.py:127: FutureWarning: Deprecated in 3.0.0. Use SparkSession.builder.getOrCreate() instead.\n",
            "  FutureWarning\n"
          ]
        },
        {
          "output_type": "stream",
          "name": "stdout",
          "text": [
            "+-------------+--------------------+\n",
            "|product_index|     recommendations|\n",
            "+-------------+--------------------+\n",
            "|            1|[{7, 13.979937}, ...|\n",
            "|            3|[{55, 7.817689}, ...|\n",
            "|            5|[{55, 7.944612}, ...|\n",
            "|            6|[{62, 2.1343553},...|\n",
            "|            9|[{368, 4.980856},...|\n",
            "|           12|[{368, 4.6353884}...|\n",
            "|           13|[{539, 6.740046},...|\n",
            "|           15|[{7, 8.555045}, {...|\n",
            "|           16|[{92, 3.2450156},...|\n",
            "|           17|[{97, 8.690315}, ...|\n",
            "|           19|[{368, 2.1663835}...|\n",
            "|           20|[{368, 3.2024944}...|\n",
            "|           22|[{976, 3.8312364}...|\n",
            "|           26|[{62, 7.732267}, ...|\n",
            "|           27|[{55, 2.699441}, ...|\n",
            "|           28|[{368, 5.826364},...|\n",
            "|           31|[{2685, 2.986154}...|\n",
            "|           34|[{841, 3.9869564}...|\n",
            "|           35|[{55, 10.442018},...|\n",
            "|           37|[{55, 7.524214}, ...|\n",
            "+-------------+--------------------+\n",
            "only showing top 20 rows\n",
            "\n"
          ]
        }
      ]
    },
    {
      "cell_type": "code",
      "source": [
        "users = user_features.select(als_alg.getUserCol()).distinct().limit(3)\n",
        "user_subset_recs = model.recommendForUserSubset(users, 10)\n",
        "user_subset_recs.show(n=4)"
      ],
      "metadata": {
        "colab": {
          "base_uri": "https://localhost:8080/"
        },
        "id": "tjzs7F0a4s9p",
        "outputId": "d704cbd7-cd7b-490c-ef79-bac99bea9a45"
      },
      "execution_count": null,
      "outputs": [
        {
          "output_type": "stream",
          "name": "stderr",
          "text": [
            "/usr/local/lib/python3.7/dist-packages/pyspark/sql/context.py:127: FutureWarning: Deprecated in 3.0.0. Use SparkSession.builder.getOrCreate() instead.\n",
            "  FutureWarning\n"
          ]
        },
        {
          "output_type": "stream",
          "name": "stdout",
          "text": [
            "+--------------+--------------------+\n",
            "|customer_index|     recommendations|\n",
            "+--------------+--------------------+\n",
            "|         11430|[{1053, 4.4198475...|\n",
            "|         11766|[{1053, 6.326797}...|\n",
            "|         11757|[{345, 6.7006454}...|\n",
            "+--------------+--------------------+\n",
            "\n"
          ]
        }
      ]
    },
    {
      "cell_type": "markdown",
      "source": [
        ""
      ],
      "metadata": {
        "id": "6EnnOlGtoBd-"
      }
    }
  ],
  "metadata": {
    "colab": {
      "collapsed_sections": [
        "15X3sir1mwM5",
        "rgbtUPw_m5Di",
        "x0zfDBl2o70s",
        "5buToixWQGKa",
        "NnmdlLBBmkE7",
        "HuQeYiK4QSiN",
        "pMkAPQzRxMyD",
        "XUDgLejd06KH"
      ],
      "name": "CS777_final_report",
      "provenance": [],
      "include_colab_link": true
    },
    "kernelspec": {
      "display_name": "Python 3",
      "name": "python3"
    },
    "language_info": {
      "name": "python"
    }
  },
  "nbformat": 4,
  "nbformat_minor": 0
}